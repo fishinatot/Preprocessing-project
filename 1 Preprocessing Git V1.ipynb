{
 "cells": [
  {
   "cell_type": "markdown",
   "metadata": {},
   "source": [
    "# Analyzing borrowers’ risk of defaulting\n",
    "\n",
    "Your project is to prepare a report for a bank’s loan division. You’ll need to find out if a customer’s marital status and number of children has an impact on whether they will default on a loan. The bank already has some data on customers’ credit worthiness.\n",
    "\n",
    "Your report will be considered when building the **credit score** of a potential customer. The **credit score** is used to evaluate the ability of a potential borrower to repay their loan.\n",
    "\n",
    "\n",
    "the purpose of this project is to explore the connection between a customer's marital status and number of children to chances of defaulting on a loan."
   ]
  },
  {
   "cell_type": "markdown",
   "metadata": {},
   "source": [
    "## Open the data file and have a look at the general information. \n"
   ]
  },
  {
   "cell_type": "markdown",
   "metadata": {},
   "source": [
    "Loading all the libraries"
   ]
  },
  {
   "cell_type": "code",
   "execution_count": 130,
   "metadata": {
    "ExecuteTime": {
     "end_time": "2022-10-23T11:24:14.628644Z",
     "start_time": "2022-10-23T11:24:14.483486Z"
    }
   },
   "outputs": [],
   "source": [
    "\n",
    "import pandas as pd\n",
    "import numpy as np\n",
    "import nltk\n",
    "from nltk.stem import SnowballStemmer\n",
    "from nltk.stem import WordNetLemmatizer\n",
    "from pymystem3 import mystem\n",
    "# m = mystem() \n",
    "wordnet_lemma = WordNetLemmatizer()\n",
    "from collections import Counter\n",
    "\n",
    "\n"
   ]
  },
  {
   "cell_type": "markdown",
   "metadata": {
    "ExecuteTime": {
     "end_time": "2022-10-04T11:52:56.085902Z",
     "start_time": "2022-10-04T11:52:51.125394Z"
    }
   },
   "source": [
    "load the data"
   ]
  },
  {
   "cell_type": "code",
   "execution_count": 131,
   "metadata": {
    "ExecuteTime": {
     "end_time": "2022-10-23T11:24:15.462556Z",
     "start_time": "2022-10-23T11:24:14.648592Z"
    }
   },
   "outputs": [
    {
     "data": {
      "text/html": [
       "<div>\n",
       "<style scoped>\n",
       "    .dataframe tbody tr th:only-of-type {\n",
       "        vertical-align: middle;\n",
       "    }\n",
       "\n",
       "    .dataframe tbody tr th {\n",
       "        vertical-align: top;\n",
       "    }\n",
       "\n",
       "    .dataframe thead th {\n",
       "        text-align: right;\n",
       "    }\n",
       "</style>\n",
       "<table border=\"1\" class=\"dataframe\">\n",
       "  <thead>\n",
       "    <tr style=\"text-align: right;\">\n",
       "      <th></th>\n",
       "      <th>children</th>\n",
       "      <th>days_employed</th>\n",
       "      <th>dob_years</th>\n",
       "      <th>education</th>\n",
       "      <th>education_id</th>\n",
       "      <th>family_status</th>\n",
       "      <th>family_status_id</th>\n",
       "      <th>gender</th>\n",
       "      <th>income_type</th>\n",
       "      <th>debt</th>\n",
       "      <th>total_income</th>\n",
       "      <th>purpose</th>\n",
       "    </tr>\n",
       "  </thead>\n",
       "  <tbody>\n",
       "    <tr>\n",
       "      <th>0</th>\n",
       "      <td>1</td>\n",
       "      <td>-8437.673028</td>\n",
       "      <td>42</td>\n",
       "      <td>bachelor's degree</td>\n",
       "      <td>0</td>\n",
       "      <td>married</td>\n",
       "      <td>0</td>\n",
       "      <td>F</td>\n",
       "      <td>employee</td>\n",
       "      <td>0</td>\n",
       "      <td>40620.102</td>\n",
       "      <td>purchase of the house</td>\n",
       "    </tr>\n",
       "    <tr>\n",
       "      <th>1</th>\n",
       "      <td>1</td>\n",
       "      <td>-4024.803754</td>\n",
       "      <td>36</td>\n",
       "      <td>secondary education</td>\n",
       "      <td>1</td>\n",
       "      <td>married</td>\n",
       "      <td>0</td>\n",
       "      <td>F</td>\n",
       "      <td>employee</td>\n",
       "      <td>0</td>\n",
       "      <td>17932.802</td>\n",
       "      <td>car purchase</td>\n",
       "    </tr>\n",
       "    <tr>\n",
       "      <th>2</th>\n",
       "      <td>0</td>\n",
       "      <td>-5623.422610</td>\n",
       "      <td>33</td>\n",
       "      <td>Secondary Education</td>\n",
       "      <td>1</td>\n",
       "      <td>married</td>\n",
       "      <td>0</td>\n",
       "      <td>M</td>\n",
       "      <td>employee</td>\n",
       "      <td>0</td>\n",
       "      <td>23341.752</td>\n",
       "      <td>purchase of the house</td>\n",
       "    </tr>\n",
       "    <tr>\n",
       "      <th>3</th>\n",
       "      <td>3</td>\n",
       "      <td>-4124.747207</td>\n",
       "      <td>32</td>\n",
       "      <td>secondary education</td>\n",
       "      <td>1</td>\n",
       "      <td>married</td>\n",
       "      <td>0</td>\n",
       "      <td>M</td>\n",
       "      <td>employee</td>\n",
       "      <td>0</td>\n",
       "      <td>42820.568</td>\n",
       "      <td>supplementary education</td>\n",
       "    </tr>\n",
       "    <tr>\n",
       "      <th>4</th>\n",
       "      <td>0</td>\n",
       "      <td>340266.072047</td>\n",
       "      <td>53</td>\n",
       "      <td>secondary education</td>\n",
       "      <td>1</td>\n",
       "      <td>civil partnership</td>\n",
       "      <td>1</td>\n",
       "      <td>F</td>\n",
       "      <td>retiree</td>\n",
       "      <td>0</td>\n",
       "      <td>25378.572</td>\n",
       "      <td>to have a wedding</td>\n",
       "    </tr>\n",
       "  </tbody>\n",
       "</table>\n",
       "</div>"
      ],
      "text/plain": [
       "   children  days_employed  dob_years            education  education_id  \\\n",
       "0         1   -8437.673028         42    bachelor's degree             0   \n",
       "1         1   -4024.803754         36  secondary education             1   \n",
       "2         0   -5623.422610         33  Secondary Education             1   \n",
       "3         3   -4124.747207         32  secondary education             1   \n",
       "4         0  340266.072047         53  secondary education             1   \n",
       "\n",
       "       family_status  family_status_id gender income_type  debt  total_income  \\\n",
       "0            married                 0      F    employee     0     40620.102   \n",
       "1            married                 0      F    employee     0     17932.802   \n",
       "2            married                 0      M    employee     0     23341.752   \n",
       "3            married                 0      M    employee     0     42820.568   \n",
       "4  civil partnership                 1      F     retiree     0     25378.572   \n",
       "\n",
       "                   purpose  \n",
       "0    purchase of the house  \n",
       "1             car purchase  \n",
       "2    purchase of the house  \n",
       "3  supplementary education  \n",
       "4        to have a wedding  "
      ]
     },
     "metadata": {},
     "output_type": "display_data"
    }
   ],
   "source": [
    "\n",
    "try:\n",
    "    path='C:\\\\Users\\\\aviv\\\\Downloads\\\\credit_scoring_eng.csv'\n",
    "    df = pd.read_csv(path)\n",
    "    display(df.head())\n",
    "except:\n",
    "    path='/datasets/credit_scoring_eng.csv'\n",
    "    df = pd.read_csv(path)\n",
    "    display(df.head())\n",
    "\n"
   ]
  },
  {
   "cell_type": "markdown",
   "metadata": {},
   "source": [
    "##  Data exploration\n",
    "\n",
    "**Description of the data**\n",
    "- `children` - the number of children in the family\n",
    "- `days_employed` - work experience in days\n",
    "- `dob_years` - client's age in years\n",
    "- `education` - client's education\n",
    "- `education_id` - education identifier\n",
    "- `family_status` - marital status\n",
    "- `family_status_id` - marital status identifier\n",
    "- `gender` - gender of the client\n",
    "- `income_type` - type of employment\n",
    "- `debt` - was there any debt on loan repayment\n",
    "- `total_income` - monthly income\n",
    "- `purpose` - the purpose of obtaining a loan\n",
    "\n",
    "exploring our data:\n",
    "\n",
    "Let's see how many rows and columns our dataset has"
   ]
  },
  {
   "cell_type": "code",
   "execution_count": 132,
   "metadata": {
    "ExecuteTime": {
     "end_time": "2022-10-23T11:24:15.524430Z",
     "start_time": "2022-10-23T11:24:15.474528Z"
    }
   },
   "outputs": [
    {
     "data": {
      "text/plain": [
       "(21525, 12)"
      ]
     },
     "execution_count": 132,
     "metadata": {},
     "output_type": "execute_result"
    }
   ],
   "source": [
    "\n",
    "df.shape\n"
   ]
  },
  {
   "cell_type": "markdown",
   "metadata": {},
   "source": [
    "let's print the first 10 rows"
   ]
  },
  {
   "cell_type": "code",
   "execution_count": 133,
   "metadata": {
    "ExecuteTime": {
     "end_time": "2022-10-23T11:24:15.603984Z",
     "start_time": "2022-10-23T11:24:15.534362Z"
    },
    "scrolled": true
   },
   "outputs": [
    {
     "name": "stdout",
     "output_type": "stream",
     "text": [
      "   children  days_employed  dob_years            education  education_id  \\\n",
      "0         1   -8437.673028         42    bachelor's degree             0   \n",
      "1         1   -4024.803754         36  secondary education             1   \n",
      "2         0   -5623.422610         33  Secondary Education             1   \n",
      "3         3   -4124.747207         32  secondary education             1   \n",
      "4         0  340266.072047         53  secondary education             1   \n",
      "5         0    -926.185831         27    bachelor's degree             0   \n",
      "6         0   -2879.202052         43    bachelor's degree             0   \n",
      "7         0    -152.779569         50  SECONDARY EDUCATION             1   \n",
      "8         2   -6929.865299         35    BACHELOR'S DEGREE             0   \n",
      "9         0   -2188.756445         41  secondary education             1   \n",
      "\n",
      "       family_status  family_status_id gender income_type  debt  total_income  \\\n",
      "0            married                 0      F    employee     0     40620.102   \n",
      "1            married                 0      F    employee     0     17932.802   \n",
      "2            married                 0      M    employee     0     23341.752   \n",
      "3            married                 0      M    employee     0     42820.568   \n",
      "4  civil partnership                 1      F     retiree     0     25378.572   \n",
      "5  civil partnership                 1      M    business     0     40922.170   \n",
      "6            married                 0      F    business     0     38484.156   \n",
      "7            married                 0      M    employee     0     21731.829   \n",
      "8  civil partnership                 1      F    employee     0     15337.093   \n",
      "9            married                 0      M    employee     0     23108.150   \n",
      "\n",
      "                               purpose  \n",
      "0                purchase of the house  \n",
      "1                         car purchase  \n",
      "2                purchase of the house  \n",
      "3              supplementary education  \n",
      "4                    to have a wedding  \n",
      "5                purchase of the house  \n",
      "6                 housing transactions  \n",
      "7                            education  \n",
      "8                     having a wedding  \n",
      "9  purchase of the house for my family  \n"
     ]
    }
   ],
   "source": [
    "\n",
    "print(df.head(10))\n",
    "\n"
   ]
  },
  {
   "cell_type": "markdown",
   "metadata": {},
   "source": [
    "i see some negative 'days_employed' values which don't make sense also too large. some 'education' values that are all caps, all lower, or mixed"
   ]
  },
  {
   "cell_type": "code",
   "execution_count": 134,
   "metadata": {
    "ExecuteTime": {
     "end_time": "2022-10-23T11:24:15.952053Z",
     "start_time": "2022-10-23T11:24:15.625922Z"
    },
    "scrolled": false
   },
   "outputs": [
    {
     "name": "stdout",
     "output_type": "stream",
     "text": [
      "<class 'pandas.core.frame.DataFrame'>\n",
      "RangeIndex: 21525 entries, 0 to 21524\n",
      "Data columns (total 12 columns):\n",
      " #   Column            Non-Null Count  Dtype  \n",
      "---  ------            --------------  -----  \n",
      " 0   children          21525 non-null  int64  \n",
      " 1   days_employed     19351 non-null  float64\n",
      " 2   dob_years         21525 non-null  int64  \n",
      " 3   education         21525 non-null  object \n",
      " 4   education_id      21525 non-null  int64  \n",
      " 5   family_status     21525 non-null  object \n",
      " 6   family_status_id  21525 non-null  int64  \n",
      " 7   gender            21525 non-null  object \n",
      " 8   income_type       21525 non-null  object \n",
      " 9   debt              21525 non-null  int64  \n",
      " 10  total_income      19351 non-null  float64\n",
      " 11  purpose           21525 non-null  object \n",
      "dtypes: float64(2), int64(5), object(5)\n",
      "memory usage: 2.0+ MB\n",
      "None\n"
     ]
    }
   ],
   "source": [
    "print(df.info())\n",
    "\n"
   ]
  },
  {
   "cell_type": "markdown",
   "metadata": {},
   "source": [
    "\n",
    "i see there are missing 'days_employed' values, missing 'total income' values, both same number of missing values "
   ]
  },
  {
   "cell_type": "code",
   "execution_count": 135,
   "metadata": {
    "ExecuteTime": {
     "end_time": "2022-10-23T11:24:16.014569Z",
     "start_time": "2022-10-23T11:24:15.962025Z"
    }
   },
   "outputs": [
    {
     "data": {
      "text/plain": [
       " 0     14149\n",
       " 1      4818\n",
       " 2      2055\n",
       " 3       330\n",
       " 20       76\n",
       "-1        47\n",
       " 4        41\n",
       " 5         9\n",
       "Name: children, dtype: int64"
      ]
     },
     "execution_count": 135,
     "metadata": {},
     "output_type": "execute_result"
    }
   ],
   "source": [
    "df['children'].value_counts()"
   ]
  },
  {
   "cell_type": "markdown",
   "metadata": {},
   "source": [
    "Let's look at the filtered table with missing values in the the first column with missing data"
   ]
  },
  {
   "cell_type": "code",
   "execution_count": 136,
   "metadata": {
    "ExecuteTime": {
     "end_time": "2022-10-23T11:24:16.076397Z",
     "start_time": "2022-10-23T11:24:16.026530Z"
    }
   },
   "outputs": [
    {
     "name": "stdout",
     "output_type": "stream",
     "text": [
      "12      NaN\n",
      "26      NaN\n",
      "29      NaN\n",
      "41      NaN\n",
      "55      NaN\n",
      "         ..\n",
      "21489   NaN\n",
      "21495   NaN\n",
      "21497   NaN\n",
      "21502   NaN\n",
      "21510   NaN\n",
      "Name: total_income, Length: 2174, dtype: float64\n",
      "12      NaN\n",
      "26      NaN\n",
      "29      NaN\n",
      "41      NaN\n",
      "55      NaN\n",
      "         ..\n",
      "21489   NaN\n",
      "21495   NaN\n",
      "21497   NaN\n",
      "21502   NaN\n",
      "21510   NaN\n",
      "Name: days_employed, Length: 2174, dtype: float64\n"
     ]
    }
   ],
   "source": [
    "\n",
    "\n",
    "print(df.loc[df['total_income'].isnull(),'total_income'])\n",
    "print(df.loc[df['days_employed'].isnull(),'days_employed'])\n",
    "#print(df.loc[df['children'].isnull()].count())\n",
    "\n",
    "\n",
    "\n"
   ]
  },
  {
   "cell_type": "markdown",
   "metadata": {},
   "source": [
    "\n",
    "it seems the rows where 'days employed' and 'total income' are missing match up exactly. Let's check that by boolean indexing with two conditions:"
   ]
  },
  {
   "cell_type": "markdown",
   "metadata": {},
   "source": [
    "Let's apply multiple conditions for filtering data and look at the number of rows in the filtered table."
   ]
  },
  {
   "cell_type": "code",
   "execution_count": 137,
   "metadata": {
    "ExecuteTime": {
     "end_time": "2022-10-23T11:24:16.155187Z",
     "start_time": "2022-10-23T11:24:16.107316Z"
    }
   },
   "outputs": [
    {
     "name": "stdout",
     "output_type": "stream",
     "text": [
      "12      NaN\n",
      "26      NaN\n",
      "29      NaN\n",
      "41      NaN\n",
      "55      NaN\n",
      "         ..\n",
      "21489   NaN\n",
      "21495   NaN\n",
      "21497   NaN\n",
      "21502   NaN\n",
      "21510   NaN\n",
      "Name: days_employed, Length: 2174, dtype: float64\n",
      "percentage of missing values: 10.099884%\n"
     ]
    }
   ],
   "source": [
    "\n",
    "\n",
    "\n",
    "print(df.loc[df['days_employed'].isnull() & df['total_income'].isnull(),'days_employed'])\n",
    "\n",
    "print('percentage of missing values: {rate:%}'.format(rate = 2174 / df.shape[0]))\n",
    "\n",
    "\n",
    "\n"
   ]
  },
  {
   "cell_type": "markdown",
   "metadata": {},
   "source": [
    "**Intermediate conclusion**\n",
    "\n",
    "the number of rows and missing values are the same. i conclude the missing values are symmetrical.\n",
    "\n",
    "the percentage of the missing values compared to the whole dataset is about 10%, which is considerably large. i'll definitely fill the missing data\n",
    "\n",
    "\n",
    "to determine if the missing data could be due to some characteristic i'll print some rows where the values are missing to see whether there's any dependence on the values of other columns.\n",
    "\n",
    "let's investigate clients who do not have data on identified characteristic and the column with the missing values\n"
   ]
  },
  {
   "cell_type": "code",
   "execution_count": 138,
   "metadata": {
    "ExecuteTime": {
     "end_time": "2022-10-23T11:24:16.234973Z",
     "start_time": "2022-10-23T11:24:16.168151Z"
    }
   },
   "outputs": [
    {
     "name": "stdout",
     "output_type": "stream",
     "text": [
      "       children  days_employed  dob_years            education  education_id  \\\n",
      "21489         2            NaN         47  Secondary Education             1   \n",
      "21495         1            NaN         50  secondary education             1   \n",
      "21497         0            NaN         48    BACHELOR'S DEGREE             0   \n",
      "21502         1            NaN         42  secondary education             1   \n",
      "21510         2            NaN         28  secondary education             1   \n",
      "\n",
      "           family_status  family_status_id gender income_type  debt  \\\n",
      "21489            married                 0      M    business     0   \n",
      "21495  civil partnership                 1      F    employee     0   \n",
      "21497            married                 0      F    business     0   \n",
      "21502            married                 0      F    employee     0   \n",
      "21510            married                 0      F    employee     0   \n",
      "\n",
      "       total_income                 purpose  \n",
      "21489           NaN       purchase of a car  \n",
      "21495           NaN        wedding ceremony  \n",
      "21497           NaN     building a property  \n",
      "21502           NaN  building a real estate  \n",
      "21510           NaN            car purchase  \n"
     ]
    }
   ],
   "source": [
    "\n",
    "print(df.loc[df['total_income'].isnull()].tail())\n"
   ]
  },
  {
   "cell_type": "code",
   "execution_count": 139,
   "metadata": {
    "ExecuteTime": {
     "end_time": "2022-10-23T11:24:16.312774Z",
     "start_time": "2022-10-23T11:24:16.247939Z"
    }
   },
   "outputs": [
    {
     "data": {
      "text/plain": [
       "employee         0.508280\n",
       "business         0.233671\n",
       "retiree          0.189972\n",
       "civil servant    0.067617\n",
       "entrepreneur     0.000460\n",
       "Name: income_type, dtype: float64"
      ]
     },
     "execution_count": 139,
     "metadata": {},
     "output_type": "execute_result"
    }
   ],
   "source": [
    "# Checking distribution for total income column where the values are missing\n",
    "df[df['total_income'].isnull()]['income_type'].value_counts(normalize=True)"
   ]
  },
  {
   "cell_type": "markdown",
   "metadata": {},
   "source": [
    "i checked for correlation between income type and the missing values. i didn't find any.\n",
    "\n",
    "**Possible reasons for missing values in data**\n",
    "\n",
    "\n",
    "i can't say exactly why this is, but looks like a problem with the gathering of the data. to me it looks pretty random.\n",
    "now to check the distribution in the whole dataset\n"
   ]
  },
  {
   "cell_type": "code",
   "execution_count": 140,
   "metadata": {
    "ExecuteTime": {
     "end_time": "2022-10-23T11:24:16.391555Z",
     "start_time": "2022-10-23T11:24:16.324732Z"
    }
   },
   "outputs": [
    {
     "data": {
      "text/plain": [
       "employee                       0.516562\n",
       "business                       0.236237\n",
       "retiree                        0.179141\n",
       "civil servant                  0.067782\n",
       "unemployed                     0.000093\n",
       "entrepreneur                   0.000093\n",
       "student                        0.000046\n",
       "paternity / maternity leave    0.000046\n",
       "Name: income_type, dtype: float64"
      ]
     },
     "execution_count": 140,
     "metadata": {},
     "output_type": "execute_result"
    }
   ],
   "source": [
    "\n",
    "df['income_type'].value_counts(normalize=True)\n",
    "\n"
   ]
  },
  {
   "cell_type": "markdown",
   "metadata": {},
   "source": [
    "**Intermediate conclusion**\n",
    "\n",
    "the distribution of income types are similar between the filtered table and the whole dataset. that means there probably isn't a connection between income types and the reason for missing values.\n",
    "\n",
    "Checking for other reasons and patterns that could lead to missing values"
   ]
  },
  {
   "cell_type": "code",
   "execution_count": 141,
   "metadata": {
    "ExecuteTime": {
     "end_time": "2022-10-23T11:24:16.878264Z",
     "start_time": "2022-10-23T11:24:16.408510Z"
    }
   },
   "outputs": [
    {
     "data": {
      "text/plain": [
       " 0     1439\n",
       " 1      475\n",
       " 2      204\n",
       " 3       36\n",
       " 20       9\n",
       " 4        7\n",
       "-1        3\n",
       " 5        1\n",
       "Name: children, dtype: int64"
      ]
     },
     "metadata": {},
     "output_type": "display_data"
    },
    {
     "data": {
      "text/plain": [
       " 0     14149\n",
       " 1      4818\n",
       " 2      2055\n",
       " 3       330\n",
       " 20       76\n",
       "-1        47\n",
       " 4        41\n",
       " 5         9\n",
       "Name: children, dtype: int64"
      ]
     },
     "metadata": {},
     "output_type": "display_data"
    },
    {
     "data": {
      "text/plain": [
       "34    69\n",
       "40    66\n",
       "42    65\n",
       "31    65\n",
       "35    64\n",
       "36    63\n",
       "47    59\n",
       "41    59\n",
       "30    58\n",
       "28    57\n",
       "58    56\n",
       "57    56\n",
       "54    55\n",
       "56    54\n",
       "38    54\n",
       "52    53\n",
       "37    53\n",
       "33    51\n",
       "39    51\n",
       "50    51\n",
       "43    50\n",
       "45    50\n",
       "49    50\n",
       "51    50\n",
       "29    50\n",
       "46    48\n",
       "55    48\n",
       "48    46\n",
       "44    44\n",
       "53    44\n",
       "60    39\n",
       "62    38\n",
       "61    38\n",
       "32    37\n",
       "64    37\n",
       "23    36\n",
       "27    36\n",
       "26    35\n",
       "59    34\n",
       "63    29\n",
       "25    23\n",
       "24    21\n",
       "65    20\n",
       "66    20\n",
       "21    18\n",
       "22    17\n",
       "67    16\n",
       "0     10\n",
       "68     9\n",
       "71     5\n",
       "69     5\n",
       "20     5\n",
       "70     3\n",
       "72     2\n",
       "19     1\n",
       "73     1\n",
       "Name: dob_years, dtype: int64"
      ]
     },
     "metadata": {},
     "output_type": "display_data"
    },
    {
     "data": {
      "text/plain": [
       "35    617\n",
       "40    609\n",
       "41    607\n",
       "34    603\n",
       "38    598\n",
       "42    597\n",
       "33    581\n",
       "39    573\n",
       "31    560\n",
       "36    555\n",
       "44    547\n",
       "29    545\n",
       "30    540\n",
       "48    538\n",
       "37    537\n",
       "50    514\n",
       "43    513\n",
       "32    510\n",
       "49    508\n",
       "28    503\n",
       "45    497\n",
       "27    493\n",
       "56    487\n",
       "52    484\n",
       "47    480\n",
       "54    479\n",
       "46    475\n",
       "58    461\n",
       "57    460\n",
       "53    459\n",
       "51    448\n",
       "59    444\n",
       "55    443\n",
       "26    408\n",
       "60    377\n",
       "25    357\n",
       "61    355\n",
       "62    352\n",
       "63    269\n",
       "64    265\n",
       "24    264\n",
       "23    254\n",
       "65    194\n",
       "22    183\n",
       "66    183\n",
       "67    167\n",
       "21    111\n",
       "0     101\n",
       "68     99\n",
       "69     85\n",
       "70     65\n",
       "71     58\n",
       "20     51\n",
       "72     33\n",
       "19     14\n",
       "73      8\n",
       "74      6\n",
       "75      1\n",
       "Name: dob_years, dtype: int64"
      ]
     },
     "metadata": {},
     "output_type": "display_data"
    },
    {
     "data": {
      "text/plain": [
       "secondary education    13750\n",
       "bachelor's degree       4718\n",
       "SECONDARY EDUCATION      772\n",
       "Secondary Education      711\n",
       "some college             668\n",
       "BACHELOR'S DEGREE        274\n",
       "Bachelor's Degree        268\n",
       "primary education        250\n",
       "Some College              47\n",
       "SOME COLLEGE              29\n",
       "PRIMARY EDUCATION         17\n",
       "Primary Education         15\n",
       "graduate degree            4\n",
       "Graduate Degree            1\n",
       "GRADUATE DEGREE            1\n",
       "Name: education, dtype: int64"
      ]
     },
     "metadata": {},
     "output_type": "display_data"
    },
    {
     "data": {
      "text/plain": [
       "married              1237\n",
       "civil partnership     442\n",
       "unmarried             288\n",
       "divorced              112\n",
       "widow / widower        95\n",
       "Name: family_status, dtype: int64"
      ]
     },
     "metadata": {},
     "output_type": "display_data"
    },
    {
     "data": {
      "text/plain": [
       "married              12380\n",
       "civil partnership     4177\n",
       "unmarried             2813\n",
       "divorced              1195\n",
       "widow / widower        960\n",
       "Name: family_status, dtype: int64"
      ]
     },
     "metadata": {},
     "output_type": "display_data"
    },
    {
     "data": {
      "text/plain": [
       "F    1484\n",
       "M     690\n",
       "Name: gender, dtype: int64"
      ]
     },
     "metadata": {},
     "output_type": "display_data"
    },
    {
     "data": {
      "text/plain": [
       "F      14236\n",
       "M       7288\n",
       "XNA        1\n",
       "Name: gender, dtype: int64"
      ]
     },
     "metadata": {},
     "output_type": "display_data"
    },
    {
     "data": {
      "text/plain": [
       "0    2004\n",
       "1     170\n",
       "Name: debt, dtype: int64"
      ]
     },
     "metadata": {},
     "output_type": "display_data"
    },
    {
     "data": {
      "text/plain": [
       "0    19784\n",
       "1     1741\n",
       "Name: debt, dtype: int64"
      ]
     },
     "metadata": {},
     "output_type": "display_data"
    },
    {
     "data": {
      "text/plain": [
       "having a wedding                            92\n",
       "to have a wedding                           81\n",
       "wedding ceremony                            76\n",
       "construction of own property                75\n",
       "housing transactions                        74\n",
       "buy real estate                             72\n",
       "purchase of the house for my family         71\n",
       "transactions with my real estate            71\n",
       "transactions with commercial real estate    70\n",
       "housing renovation                          70\n",
       "buy commercial real estate                  67\n",
       "buying property for renting out             65\n",
       "property                                    62\n",
       "real estate transactions                    61\n",
       "buy residential real estate                 61\n",
       "housing                                     60\n",
       "building a property                         59\n",
       "cars                                        57\n",
       "going to university                         56\n",
       "to become educated                          55\n",
       "second-hand car purchase                    54\n",
       "buying my own car                           53\n",
       "to own a car                                52\n",
       "purchase of the house                       52\n",
       "to get a supplementary education            51\n",
       "getting an education                        50\n",
       "supplementary education                     48\n",
       "profile education                           47\n",
       "purchase of a car                           46\n",
       "building a real estate                      46\n",
       "purchase of my own house                    46\n",
       "car purchase                                43\n",
       "education                                   42\n",
       "buying a second-hand car                    42\n",
       "car                                         41\n",
       "university education                        40\n",
       "getting higher education                    36\n",
       "to buy a car                                30\n",
       "Name: purpose, dtype: int64"
      ]
     },
     "metadata": {},
     "output_type": "display_data"
    },
    {
     "data": {
      "text/plain": [
       "wedding ceremony                            797\n",
       "having a wedding                            777\n",
       "to have a wedding                           774\n",
       "real estate transactions                    676\n",
       "buy commercial real estate                  664\n",
       "buying property for renting out             653\n",
       "housing transactions                        653\n",
       "transactions with commercial real estate    651\n",
       "purchase of the house                       647\n",
       "housing                                     647\n",
       "purchase of the house for my family         641\n",
       "construction of own property                635\n",
       "property                                    634\n",
       "transactions with my real estate            630\n",
       "building a real estate                      626\n",
       "buy real estate                             624\n",
       "building a property                         620\n",
       "purchase of my own house                    620\n",
       "housing renovation                          612\n",
       "buy residential real estate                 607\n",
       "buying my own car                           505\n",
       "going to university                         496\n",
       "car                                         495\n",
       "second-hand car purchase                    489\n",
       "to own a car                                480\n",
       "buying a second-hand car                    479\n",
       "cars                                        478\n",
       "to buy a car                                472\n",
       "supplementary education                     462\n",
       "car purchase                                462\n",
       "purchase of a car                           455\n",
       "university education                        453\n",
       "education                                   447\n",
       "to get a supplementary education            447\n",
       "getting an education                        443\n",
       "profile education                           436\n",
       "getting higher education                    426\n",
       "to become educated                          412\n",
       "Name: purpose, dtype: int64"
      ]
     },
     "metadata": {},
     "output_type": "display_data"
    }
   ],
   "source": [
    "\n",
    "\n",
    "display(df[df['total_income'].isnull()]['children'].value_counts())\n",
    "display(df['children'].value_counts())\n",
    "\n",
    "display(df[df['total_income'].isnull()]['dob_years'].value_counts())\n",
    "display(df['dob_years'].value_counts())\n",
    "\n",
    "display(df['education'].value_counts())\n",
    "\n",
    "display(df[df['total_income'].isnull()]['family_status'].value_counts())\n",
    "display(df['family_status'].value_counts())\n",
    "\n",
    "display(df[df['total_income'].isnull()]['gender'].value_counts())\n",
    "display(df['gender'].value_counts())\n",
    "\n",
    "\n",
    "display(df[df['total_income'].isnull()]['debt'].value_counts())\n",
    "display(df['debt'].value_counts())\n",
    "\n",
    "display(df[df['total_income'].isnull()]['purpose'].value_counts())\n",
    "display(df['purpose'].value_counts())\n",
    "\n",
    "\n",
    "\n",
    "\n"
   ]
  },
  {
   "cell_type": "markdown",
   "metadata": {},
   "source": [
    "**Intermediate conclusion**\n",
    "\n",
    "based on the distributions all being similar across all columns and the rows with missing values, i conclude that the values are missing at random.\n",
    "i also found 'children' values of 20, and nothing above 5 except that, which makes me think that it's a wrong value; if people really do have 20 children, than people also have a little less like 17 or at least 7. also -1 children.\n",
    "\n",
    " in the 'dob_years' column i found values of 0. in addition i've found various duplicates in the 'education' column, caused by different capitalizations.\n",
    " \n",
    "furthermore, in the purpose column there are several purposes which could be united into one category (cars, education, etc).\n",
    "i've also noticed the values in the days employed column are too large, perhaps they are work hours?"
   ]
  },
  {
   "cell_type": "markdown",
   "metadata": {},
   "source": [
    "**Conclusions**\n",
    "\n",
    "the distributions for the values at the missing valued rows and the distributions across the whole dataset are similar. so no pattern there.\n",
    "\n",
    "\n",
    "the missing values are at the 'total_income' and 'days_employed' columns. these are quantitative variables, therefore we could fill the missing values with the mean or the median, depending on how many outliers there are.\n",
    "\n",
    "\n",
    "**transformation plan** :\n",
    "missing values, quantitative: \n",
    "filling in mean or median depending on existence of outliers.\n",
    "\n",
    "missing values, categorical:\n",
    "if they'll be missing at random, filling them with default values.\n",
    "\n",
    "different registers - using the .lower() method to make the values consistently lowercase\n",
    "\n",
    "duplicates - check for them with duplicates().count(), drop with drop_duplicates if necessary\n",
    "incorrect values - large values of days employed could be divided to give the actual days, negative values will be reversed.\n"
   ]
  },
  {
   "cell_type": "markdown",
   "metadata": {},
   "source": [
    "## Data transformation\n",
    "\n"
   ]
  },
  {
   "cell_type": "markdown",
   "metadata": {},
   "source": [
    "Let's see all values in education column to check if and what spellings will need to be fixed"
   ]
  },
  {
   "cell_type": "code",
   "execution_count": 142,
   "metadata": {
    "ExecuteTime": {
     "end_time": "2022-10-23T11:24:16.940087Z",
     "start_time": "2022-10-23T11:24:16.889222Z"
    },
    "scrolled": true
   },
   "outputs": [
    {
     "data": {
      "text/plain": [
       "secondary education    13750\n",
       "bachelor's degree       4718\n",
       "SECONDARY EDUCATION      772\n",
       "Secondary Education      711\n",
       "some college             668\n",
       "BACHELOR'S DEGREE        274\n",
       "Bachelor's Degree        268\n",
       "primary education        250\n",
       "Some College              47\n",
       "SOME COLLEGE              29\n",
       "PRIMARY EDUCATION         17\n",
       "Primary Education         15\n",
       "graduate degree            4\n",
       "Graduate Degree            1\n",
       "GRADUATE DEGREE            1\n",
       "Name: education, dtype: int64"
      ]
     },
     "execution_count": 142,
     "metadata": {},
     "output_type": "execute_result"
    }
   ],
   "source": [
    "\n",
    "\n",
    "df['education'].value_counts()\n"
   ]
  },
  {
   "cell_type": "markdown",
   "metadata": {},
   "source": [
    "Fix the registers if required"
   ]
  },
  {
   "cell_type": "code",
   "execution_count": 143,
   "metadata": {
    "ExecuteTime": {
     "end_time": "2022-10-23T11:24:17.034873Z",
     "start_time": "2022-10-23T11:24:16.964028Z"
    }
   },
   "outputs": [],
   "source": [
    "\n",
    "df['education'] = df['education'].str.lower()"
   ]
  },
  {
   "cell_type": "markdown",
   "metadata": {},
   "source": [
    "Checking all the values in the column to make sure we fixed them"
   ]
  },
  {
   "cell_type": "code",
   "execution_count": 144,
   "metadata": {
    "ExecuteTime": {
     "end_time": "2022-10-23T11:24:17.096641Z",
     "start_time": "2022-10-23T11:24:17.043811Z"
    }
   },
   "outputs": [
    {
     "data": {
      "text/plain": [
       "array([\"bachelor's degree\", 'secondary education', 'some college',\n",
       "       'primary education', 'graduate degree'], dtype=object)"
      ]
     },
     "execution_count": 144,
     "metadata": {},
     "output_type": "execute_result"
    }
   ],
   "source": [
    "\n",
    "\n",
    "df['education'].unique()"
   ]
  },
  {
   "cell_type": "markdown",
   "metadata": {},
   "source": [
    "Let's see the distribution of values in the `children` column"
   ]
  },
  {
   "cell_type": "code",
   "execution_count": 145,
   "metadata": {
    "ExecuteTime": {
     "end_time": "2022-10-23T11:24:17.160514Z",
     "start_time": "2022-10-23T11:24:17.105617Z"
    }
   },
   "outputs": [
    {
     "name": "stdout",
     "output_type": "stream",
     "text": [
      " 0     14149\n",
      " 1      4818\n",
      " 2      2055\n",
      " 3       330\n",
      " 20       76\n",
      "-1        47\n",
      " 4        41\n",
      " 5         9\n",
      "Name: children, dtype: int64\n",
      " 0     0.657329\n",
      " 1     0.223833\n",
      " 2     0.095470\n",
      " 3     0.015331\n",
      " 20    0.003531\n",
      "-1     0.002184\n",
      " 4     0.001905\n",
      " 5     0.000418\n",
      "Name: children, dtype: float64\n"
     ]
    }
   ],
   "source": [
    "\n",
    "\n",
    "print(df['children'].value_counts())\n",
    "print(df['children'].value_counts(normalize=True))\n",
    "\n"
   ]
  },
  {
   "cell_type": "markdown",
   "metadata": {},
   "source": [
    " there's the -1 which is .2% of the data, and the 20 which makes up .3% of the data.the 20 may have occured due to the closeness of 2 and 0 on the numpad. on the other hand why hasn't this happened with 1 as well? I can't be sure of the reason, and for the -1 i'd guess it's supposed to be 1 and not -1, i'll replace them with 1. in the case of 20 i'll replace with the mean value since we do not have outliers so we can use the average."
   ]
  },
  {
   "cell_type": "code",
   "execution_count": 146,
   "metadata": {
    "ExecuteTime": {
     "end_time": "2022-10-23T11:24:17.270177Z",
     "start_time": "2022-10-23T11:24:17.171441Z"
    }
   },
   "outputs": [
    {
     "name": "stdout",
     "output_type": "stream",
     "text": [
      "0.0    14149\n",
      "1.0     4865\n",
      "2.0     2055\n",
      "3.0      330\n",
      "4.0       41\n",
      "5.0        9\n",
      "Name: children, dtype: int64\n"
     ]
    }
   ],
   "source": [
    "\n",
    "mean_children = df.loc[(df['children'] != 20) & (df['children'] != -1), ['children']].mean()\n",
    "#df.loc[(df['children'] != 20) & (df['children'] != -1), ['children']].median()\n",
    "\n",
    "df.loc[df['children'] == -1, ['children']] = 1\n",
    "df.loc[df['children'] == 20, ['children']] = mean_children\n",
    "print(df['children'].value_counts())\n",
    "\n",
    "\n"
   ]
  },
  {
   "cell_type": "markdown",
   "metadata": {},
   "source": [
    "\n",
    "we already saw the negative values, but there can be other issues like really large values (millions of days)"
   ]
  },
  {
   "cell_type": "markdown",
   "metadata": {},
   "source": [
    "checking for problematic data in `days_employed`, if it exisst, and calculating the percentage"
   ]
  },
  {
   "cell_type": "code",
   "execution_count": 147,
   "metadata": {
    "ExecuteTime": {
     "end_time": "2022-10-23T11:24:17.348965Z",
     "start_time": "2022-10-23T11:24:17.280153Z"
    }
   },
   "outputs": [
    {
     "data": {
      "text/plain": [
       "-8437.673028      1\n",
       "-3507.818775      1\n",
       " 354500.415854    1\n",
       "-769.717438       1\n",
       "-3963.590317      1\n",
       "                 ..\n",
       "-1099.957609      1\n",
       "-209.984794       1\n",
       " 398099.392433    1\n",
       "-1271.038880      1\n",
       "-1984.507589      1\n",
       "Name: days_employed, Length: 19351, dtype: int64"
      ]
     },
     "metadata": {},
     "output_type": "display_data"
    },
    {
     "name": "stdout",
     "output_type": "stream",
     "text": [
      "0.7389547038327526\n"
     ]
    }
   ],
   "source": [
    "\n",
    "\n",
    "display(df['days_employed'].value_counts())\n",
    "\n",
    "\n",
    "print(df[df['days_employed'] < 0]['days_employed'].value_counts().shape[0] / df.shape[0])\n",
    "\n",
    "\n"
   ]
  },
  {
   "cell_type": "markdown",
   "metadata": {},
   "source": [
    "73% of the values are negative! we'll turn them positive."
   ]
  },
  {
   "cell_type": "markdown",
   "metadata": {},
   "source": [
    "\n",
    "the amount of negative values looks high enough that there's some technical issue that turns the values negative. we'll just turn them positive. can't think of an obvious reason."
   ]
  },
  {
   "cell_type": "code",
   "execution_count": 148,
   "metadata": {
    "ExecuteTime": {
     "end_time": "2022-10-23T11:24:17.427758Z",
     "start_time": "2022-10-23T11:24:17.357944Z"
    },
    "scrolled": false
   },
   "outputs": [
    {
     "data": {
      "text/plain": [
       "count    15906.000000\n",
       "mean      2353.015932\n",
       "std       2304.243851\n",
       "min         24.141633\n",
       "25%        756.371964\n",
       "50%       1630.019381\n",
       "75%       3157.480084\n",
       "max      18388.949901\n",
       "Name: days_employed, dtype: float64"
      ]
     },
     "execution_count": 148,
     "metadata": {},
     "output_type": "execute_result"
    }
   ],
   "source": [
    "# Address the problematic values, if they exist\n",
    "df['days_employed'] = df.loc[df['days_employed'] < 0]['days_employed'] * (-1)\n",
    "\n",
    "#df['days_employed'].value_counts()\n",
    "df.days_employed.describe()\n"
   ]
  },
  {
   "cell_type": "markdown",
   "metadata": {},
   "source": [
    "the range of the values definitely seems weird. people have been working for years?"
   ]
  },
  {
   "cell_type": "code",
   "execution_count": 149,
   "metadata": {
    "ExecuteTime": {
     "end_time": "2022-10-23T11:24:17.475629Z",
     "start_time": "2022-10-23T11:24:17.436732Z"
    }
   },
   "outputs": [
    {
     "data": {
      "text/plain": [
       "Series([], Name: days_employed, dtype: int64)"
      ]
     },
     "execution_count": 149,
     "metadata": {},
     "output_type": "execute_result"
    }
   ],
   "source": [
    "# Check the result - make sure it's fixed\n",
    "df[df['days_employed'] < 0]['days_employed'].value_counts()"
   ]
  },
  {
   "cell_type": "code",
   "execution_count": 150,
   "metadata": {
    "ExecuteTime": {
     "end_time": "2022-10-23T11:24:17.537465Z",
     "start_time": "2022-10-23T11:24:17.485603Z"
    },
    "scrolled": true
   },
   "outputs": [
    {
     "data": {
      "text/plain": [
       "49    48\n",
       "44    44\n",
       "50    42\n",
       "52    38\n",
       "42    37\n",
       "53    37\n",
       "51    36\n",
       "48    34\n",
       "55    34\n",
       "47    34\n",
       "46    33\n",
       "45    30\n",
       "43    28\n",
       "57    27\n",
       "56    26\n",
       "59    25\n",
       "54    25\n",
       "58    21\n",
       "41    19\n",
       "39    18\n",
       "61    17\n",
       "40    15\n",
       "38    15\n",
       "60    15\n",
       "63    11\n",
       "64     8\n",
       "36     7\n",
       "62     6\n",
       "65     6\n",
       "66     5\n",
       "0      3\n",
       "37     3\n",
       "35     2\n",
       "67     2\n",
       "72     2\n",
       "71     1\n",
       "69     1\n",
       "70     1\n",
       "68     1\n",
       "Name: dob_years, dtype: int64"
      ]
     },
     "execution_count": 150,
     "metadata": {},
     "output_type": "execute_result"
    }
   ],
   "source": [
    "df.loc[df['days_employed'] > (365*20)]['dob_years'].value_counts()\n"
   ]
  },
  {
   "cell_type": "markdown",
   "metadata": {},
   "source": [
    "values don't seem too large, every person who's worked more than 40 years is at least 50 years old and that makes sense.\n",
    "\n",
    "\n",
    "however i've noticed a zero value in the 'dob_years' column."
   ]
  },
  {
   "cell_type": "markdown",
   "metadata": {},
   "source": [
    "issues in age column:"
   ]
  },
  {
   "cell_type": "code",
   "execution_count": 151,
   "metadata": {
    "ExecuteTime": {
     "end_time": "2022-10-23T11:24:17.600301Z",
     "start_time": "2022-10-23T11:24:17.547437Z"
    },
    "scrolled": true
   },
   "outputs": [
    {
     "data": {
      "text/plain": [
       "35    0.028664\n",
       "40    0.028293\n",
       "41    0.028200\n",
       "34    0.028014\n",
       "38    0.027782\n",
       "42    0.027735\n",
       "33    0.026992\n",
       "39    0.026620\n",
       "31    0.026016\n",
       "36    0.025784\n",
       "44    0.025412\n",
       "29    0.025319\n",
       "30    0.025087\n",
       "48    0.024994\n",
       "37    0.024948\n",
       "50    0.023879\n",
       "43    0.023833\n",
       "32    0.023693\n",
       "49    0.023600\n",
       "28    0.023368\n",
       "45    0.023089\n",
       "27    0.022904\n",
       "56    0.022625\n",
       "52    0.022485\n",
       "47    0.022300\n",
       "54    0.022253\n",
       "46    0.022067\n",
       "58    0.021417\n",
       "57    0.021370\n",
       "53    0.021324\n",
       "51    0.020813\n",
       "59    0.020627\n",
       "55    0.020581\n",
       "26    0.018955\n",
       "60    0.017515\n",
       "25    0.016585\n",
       "61    0.016492\n",
       "62    0.016353\n",
       "63    0.012497\n",
       "64    0.012311\n",
       "24    0.012265\n",
       "23    0.011800\n",
       "65    0.009013\n",
       "22    0.008502\n",
       "66    0.008502\n",
       "67    0.007758\n",
       "21    0.005157\n",
       "0     0.004692\n",
       "68    0.004599\n",
       "69    0.003949\n",
       "70    0.003020\n",
       "71    0.002695\n",
       "20    0.002369\n",
       "72    0.001533\n",
       "19    0.000650\n",
       "73    0.000372\n",
       "74    0.000279\n",
       "75    0.000046\n",
       "Name: dob_years, dtype: float64"
      ]
     },
     "execution_count": 151,
     "metadata": {},
     "output_type": "execute_result"
    }
   ],
   "source": [
    "# Check the `dob_years` for suspicious values and count the percentage\n",
    "df['dob_years'].value_counts() / df.shape[0]\n",
    "# there are 101 zero values. otherwise the data seems fine\n",
    "\n"
   ]
  },
  {
   "cell_type": "markdown",
   "metadata": {},
   "source": [
    "\n",
    "\n",
    "i'll replace the zero values with the median of the ages, since from what i saw there are outliers (values which are rarer)"
   ]
  },
  {
   "cell_type": "markdown",
   "metadata": {},
   "source": [
    "issues in the `dob_years` column, if they exist"
   ]
  },
  {
   "cell_type": "code",
   "execution_count": 152,
   "metadata": {
    "ExecuteTime": {
     "end_time": "2022-10-23T11:24:17.647170Z",
     "start_time": "2022-10-23T11:24:17.609272Z"
    }
   },
   "outputs": [],
   "source": [
    "\n",
    "df.loc[df['dob_years'] != 0, 'dob_years'].median()\n",
    "\n",
    "#the median is 43\n",
    "\n",
    "df.loc[df['dob_years'] == 0, 'dob_years'] = 43\n"
   ]
  },
  {
   "cell_type": "code",
   "execution_count": 153,
   "metadata": {
    "ExecuteTime": {
     "end_time": "2022-10-23T11:24:17.694045Z",
     "start_time": "2022-10-23T11:24:17.654151Z"
    },
    "scrolled": true
   },
   "outputs": [
    {
     "data": {
      "text/plain": [
       "35    617\n",
       "43    614\n",
       "40    609\n",
       "41    607\n",
       "34    603\n",
       "38    598\n",
       "42    597\n",
       "33    581\n",
       "39    573\n",
       "31    560\n",
       "36    555\n",
       "44    547\n",
       "29    545\n",
       "30    540\n",
       "48    538\n",
       "37    537\n",
       "50    514\n",
       "32    510\n",
       "49    508\n",
       "28    503\n",
       "45    497\n",
       "27    493\n",
       "56    487\n",
       "52    484\n",
       "47    480\n",
       "54    479\n",
       "46    475\n",
       "58    461\n",
       "57    460\n",
       "53    459\n",
       "51    448\n",
       "59    444\n",
       "55    443\n",
       "26    408\n",
       "60    377\n",
       "25    357\n",
       "61    355\n",
       "62    352\n",
       "63    269\n",
       "64    265\n",
       "24    264\n",
       "23    254\n",
       "65    194\n",
       "66    183\n",
       "22    183\n",
       "67    167\n",
       "21    111\n",
       "68     99\n",
       "69     85\n",
       "70     65\n",
       "71     58\n",
       "20     51\n",
       "72     33\n",
       "19     14\n",
       "73      8\n",
       "74      6\n",
       "75      1\n",
       "Name: dob_years, dtype: int64"
      ]
     },
     "execution_count": 153,
     "metadata": {},
     "output_type": "execute_result"
    }
   ],
   "source": [
    "# Check the result - make sure it's fixed\n",
    "df['dob_years'].value_counts()"
   ]
  },
  {
   "cell_type": "markdown",
   "metadata": {},
   "source": [
    "checking family status column for problems:"
   ]
  },
  {
   "cell_type": "code",
   "execution_count": 154,
   "metadata": {
    "ExecuteTime": {
     "end_time": "2022-10-23T11:24:17.757913Z",
     "start_time": "2022-10-23T11:24:17.701027Z"
    },
    "scrolled": true
   },
   "outputs": [
    {
     "data": {
      "text/plain": [
       "married              12380\n",
       "civil partnership     4177\n",
       "unmarried             2813\n",
       "divorced              1195\n",
       "widow / widower        960\n",
       "Name: family_status, dtype: int64"
      ]
     },
     "execution_count": 154,
     "metadata": {},
     "output_type": "execute_result"
    }
   ],
   "source": [
    "# Let's see the values for the column\n",
    "\n",
    "df['family_status'].value_counts()\n",
    "\n",
    "#no problem there.\n",
    "\n"
   ]
  },
  {
   "cell_type": "markdown",
   "metadata": {},
   "source": [
    "problems in gender column:"
   ]
  },
  {
   "cell_type": "markdown",
   "metadata": {},
   "source": [
    "Let's see the values in the column\n"
   ]
  },
  {
   "cell_type": "code",
   "execution_count": 155,
   "metadata": {
    "ExecuteTime": {
     "end_time": "2022-10-23T11:24:17.805749Z",
     "start_time": "2022-10-23T11:24:17.766849Z"
    }
   },
   "outputs": [
    {
     "data": {
      "text/plain": [
       "F      14236\n",
       "M       7288\n",
       "XNA        1\n",
       "Name: gender, dtype: int64"
      ]
     },
     "execution_count": 155,
     "metadata": {},
     "output_type": "execute_result"
    }
   ],
   "source": [
    "\n",
    "df['gender'].value_counts()\n"
   ]
  },
  {
   "cell_type": "markdown",
   "metadata": {},
   "source": [
    "there's one XNA value, i'll drop the row."
   ]
  },
  {
   "cell_type": "code",
   "execution_count": 156,
   "metadata": {
    "ExecuteTime": {
     "end_time": "2022-10-23T11:24:17.882539Z",
     "start_time": "2022-10-23T11:24:17.812727Z"
    }
   },
   "outputs": [
    {
     "data": {
      "text/plain": [
       "F    14236\n",
       "M     7288\n",
       "Name: gender, dtype: int64"
      ]
     },
     "execution_count": 156,
     "metadata": {},
     "output_type": "execute_result"
    }
   ],
   "source": [
    "df.drop(df[df['gender']=='XNA'].index, inplace=True)\n",
    "df['gender'].value_counts()"
   ]
  },
  {
   "cell_type": "markdown",
   "metadata": {},
   "source": [
    "checking income type values for problems"
   ]
  },
  {
   "cell_type": "code",
   "execution_count": 157,
   "metadata": {
    "ExecuteTime": {
     "end_time": "2022-10-23T11:24:17.930411Z",
     "start_time": "2022-10-23T11:24:17.891516Z"
    }
   },
   "outputs": [
    {
     "data": {
      "text/plain": [
       "employee                       11119\n",
       "business                        5084\n",
       "retiree                         3856\n",
       "civil servant                   1459\n",
       "unemployed                         2\n",
       "entrepreneur                       2\n",
       "student                            1\n",
       "paternity / maternity leave        1\n",
       "Name: income_type, dtype: int64"
      ]
     },
     "execution_count": 157,
     "metadata": {},
     "output_type": "execute_result"
    }
   ],
   "source": [
    "\n",
    "df['income_type'].value_counts()\n",
    "\n"
   ]
  },
  {
   "cell_type": "markdown",
   "metadata": {},
   "source": [
    "nothing problematic here."
   ]
  },
  {
   "cell_type": "markdown",
   "metadata": {},
   "source": [
    "\n",
    "there are about 70 duplicate rows. hard to know whether they are really duplicates or not because of lack of unique id, so i'll not waste time on it"
   ]
  },
  {
   "cell_type": "code",
   "execution_count": 158,
   "metadata": {
    "ExecuteTime": {
     "end_time": "2022-10-23T11:24:18.058071Z",
     "start_time": "2022-10-23T11:24:17.941384Z"
    }
   },
   "outputs": [
    {
     "data": {
      "text/plain": [
       "71"
      ]
     },
     "execution_count": 158,
     "metadata": {},
     "output_type": "execute_result"
    }
   ],
   "source": [
    "# Checking duplicates\n",
    "df.duplicated().sum()\n"
   ]
  },
  {
   "cell_type": "markdown",
   "metadata": {},
   "source": [
    "Checking the size of the dataset that we now have after our first manipulations with it"
   ]
  },
  {
   "cell_type": "code",
   "execution_count": 159,
   "metadata": {
    "ExecuteTime": {
     "end_time": "2022-10-23T11:24:18.088993Z",
     "start_time": "2022-10-23T11:24:18.070040Z"
    }
   },
   "outputs": [
    {
     "name": "stdout",
     "output_type": "stream",
     "text": [
      "1 rows deleted\n"
     ]
    }
   ],
   "source": [
    "\n",
    "\n",
    "df.shape\n",
    "#previously the number of rows was 21525\n",
    "print(f'{21525-df.shape[0]} rows deleted')"
   ]
  },
  {
   "cell_type": "markdown",
   "metadata": {},
   "source": [
    "\n",
    "\n",
    "about 10% of the education values were lowercased.\n",
    "about 5% of the children values were changed to the median value of 0\n",
    "73% of days employed values were turned positive.\n",
    ".4% of the dob_years values were changed to the median value\n",
    "less than .005% of the gender values were changed from XNA to M (one value)\n",
    "about .0035% of the data were considered duplicates and weren't dropped.\n",
    "\n",
    "\n",
    "\n",
    "\n",
    "\n"
   ]
  },
  {
   "cell_type": "markdown",
   "metadata": {},
   "source": [
    "# Working with missing values"
   ]
  },
  {
   "cell_type": "markdown",
   "metadata": {},
   "source": [
    "### Restoring missing values in `total_income`"
   ]
  },
  {
   "cell_type": "markdown",
   "metadata": {},
   "source": [
    "\n",
    "\n",
    "total income and days employed columns have missing values. although the days employed values aren't really being used in the analysis, so will not fix them.\n",
    "total income values will be filled with median or mean by certain parameter, will investigate relation to age category.\n",
    "\n",
    "\n"
   ]
  },
  {
   "cell_type": "code",
   "execution_count": 160,
   "metadata": {
    "ExecuteTime": {
     "end_time": "2022-10-23T11:24:18.120903Z",
     "start_time": "2022-10-23T11:24:18.096967Z"
    }
   },
   "outputs": [],
   "source": [
    "# Let's write a function that calculates the age category\n",
    "def age_categorizer(age):\n",
    "    if age < 21:\n",
    "        return 'minor'\n",
    "    if age < 30:\n",
    "        return 'young adult'\n",
    "    if age < 65:\n",
    "        return 'adult'\n",
    "    else:\n",
    "        return 'senior'\n",
    "\n",
    "    "
   ]
  },
  {
   "cell_type": "code",
   "execution_count": 161,
   "metadata": {
    "ExecuteTime": {
     "end_time": "2022-10-23T11:24:18.152823Z",
     "start_time": "2022-10-23T11:24:18.129879Z"
    }
   },
   "outputs": [
    {
     "name": "stdout",
     "output_type": "stream",
     "text": [
      "minor\n",
      "young adult\n",
      "adult\n",
      "senior\n"
     ]
    }
   ],
   "source": [
    "# Test if the function works\n",
    "for i in [17,25,47,90]:\n",
    "    print(age_categorizer(i))\n"
   ]
  },
  {
   "cell_type": "code",
   "execution_count": 162,
   "metadata": {
    "ExecuteTime": {
     "end_time": "2022-10-23T11:24:18.232608Z",
     "start_time": "2022-10-23T11:24:18.163791Z"
    }
   },
   "outputs": [
    {
     "data": {
      "text/plain": [
       "adult          17443\n",
       "young adult     3117\n",
       "senior           899\n",
       "minor             65\n",
       "Name: age_category, dtype: int64"
      ]
     },
     "execution_count": 162,
     "metadata": {},
     "output_type": "execute_result"
    }
   ],
   "source": [
    "# Creating new column based on function\n",
    "df['age_category'] = df['dob_years'].apply(age_categorizer)\n",
    "df['age_category'].value_counts()\n",
    "\n"
   ]
  },
  {
   "cell_type": "code",
   "execution_count": 163,
   "metadata": {
    "ExecuteTime": {
     "end_time": "2022-10-23T11:24:18.360305Z",
     "start_time": "2022-10-23T11:24:18.245571Z"
    }
   },
   "outputs": [
    {
     "data": {
      "text/html": [
       "<div>\n",
       "<style scoped>\n",
       "    .dataframe tbody tr th:only-of-type {\n",
       "        vertical-align: middle;\n",
       "    }\n",
       "\n",
       "    .dataframe tbody tr th {\n",
       "        vertical-align: top;\n",
       "    }\n",
       "\n",
       "    .dataframe thead th {\n",
       "        text-align: right;\n",
       "    }\n",
       "</style>\n",
       "<table border=\"1\" class=\"dataframe\">\n",
       "  <thead>\n",
       "    <tr style=\"text-align: right;\">\n",
       "      <th></th>\n",
       "      <th>children</th>\n",
       "      <th>days_employed</th>\n",
       "      <th>dob_years</th>\n",
       "      <th>education</th>\n",
       "      <th>education_id</th>\n",
       "      <th>family_status</th>\n",
       "      <th>family_status_id</th>\n",
       "      <th>gender</th>\n",
       "      <th>income_type</th>\n",
       "      <th>debt</th>\n",
       "      <th>total_income</th>\n",
       "      <th>purpose</th>\n",
       "      <th>age_category</th>\n",
       "    </tr>\n",
       "  </thead>\n",
       "  <tbody>\n",
       "    <tr>\n",
       "      <th>6951</th>\n",
       "      <td>1.0</td>\n",
       "      <td>829.887972</td>\n",
       "      <td>25</td>\n",
       "      <td>bachelor's degree</td>\n",
       "      <td>0</td>\n",
       "      <td>married</td>\n",
       "      <td>0</td>\n",
       "      <td>M</td>\n",
       "      <td>business</td>\n",
       "      <td>0</td>\n",
       "      <td>52811.813</td>\n",
       "      <td>housing transactions</td>\n",
       "      <td>young adult</td>\n",
       "    </tr>\n",
       "    <tr>\n",
       "      <th>6708</th>\n",
       "      <td>0.0</td>\n",
       "      <td>8619.938309</td>\n",
       "      <td>49</td>\n",
       "      <td>secondary education</td>\n",
       "      <td>1</td>\n",
       "      <td>unmarried</td>\n",
       "      <td>4</td>\n",
       "      <td>F</td>\n",
       "      <td>employee</td>\n",
       "      <td>0</td>\n",
       "      <td>72263.662</td>\n",
       "      <td>to buy a car</td>\n",
       "      <td>adult</td>\n",
       "    </tr>\n",
       "    <tr>\n",
       "      <th>5659</th>\n",
       "      <td>3.0</td>\n",
       "      <td>1999.778276</td>\n",
       "      <td>33</td>\n",
       "      <td>secondary education</td>\n",
       "      <td>1</td>\n",
       "      <td>civil partnership</td>\n",
       "      <td>1</td>\n",
       "      <td>F</td>\n",
       "      <td>employee</td>\n",
       "      <td>1</td>\n",
       "      <td>23242.886</td>\n",
       "      <td>to get a supplementary education</td>\n",
       "      <td>adult</td>\n",
       "    </tr>\n",
       "    <tr>\n",
       "      <th>10368</th>\n",
       "      <td>1.0</td>\n",
       "      <td>1564.862764</td>\n",
       "      <td>21</td>\n",
       "      <td>secondary education</td>\n",
       "      <td>1</td>\n",
       "      <td>married</td>\n",
       "      <td>0</td>\n",
       "      <td>F</td>\n",
       "      <td>employee</td>\n",
       "      <td>1</td>\n",
       "      <td>13532.439</td>\n",
       "      <td>transactions with my real estate</td>\n",
       "      <td>young adult</td>\n",
       "    </tr>\n",
       "    <tr>\n",
       "      <th>10175</th>\n",
       "      <td>1.0</td>\n",
       "      <td>5790.920475</td>\n",
       "      <td>34</td>\n",
       "      <td>secondary education</td>\n",
       "      <td>1</td>\n",
       "      <td>married</td>\n",
       "      <td>0</td>\n",
       "      <td>F</td>\n",
       "      <td>employee</td>\n",
       "      <td>0</td>\n",
       "      <td>22512.642</td>\n",
       "      <td>transactions with commercial real estate</td>\n",
       "      <td>adult</td>\n",
       "    </tr>\n",
       "    <tr>\n",
       "      <th>9276</th>\n",
       "      <td>0.0</td>\n",
       "      <td>NaN</td>\n",
       "      <td>66</td>\n",
       "      <td>secondary education</td>\n",
       "      <td>1</td>\n",
       "      <td>married</td>\n",
       "      <td>0</td>\n",
       "      <td>M</td>\n",
       "      <td>retiree</td>\n",
       "      <td>0</td>\n",
       "      <td>7565.268</td>\n",
       "      <td>real estate transactions</td>\n",
       "      <td>senior</td>\n",
       "    </tr>\n",
       "    <tr>\n",
       "      <th>1685</th>\n",
       "      <td>1.0</td>\n",
       "      <td>1168.253701</td>\n",
       "      <td>31</td>\n",
       "      <td>bachelor's degree</td>\n",
       "      <td>0</td>\n",
       "      <td>married</td>\n",
       "      <td>0</td>\n",
       "      <td>M</td>\n",
       "      <td>business</td>\n",
       "      <td>0</td>\n",
       "      <td>30364.068</td>\n",
       "      <td>purchase of a car</td>\n",
       "      <td>adult</td>\n",
       "    </tr>\n",
       "    <tr>\n",
       "      <th>8829</th>\n",
       "      <td>0.0</td>\n",
       "      <td>359.855591</td>\n",
       "      <td>56</td>\n",
       "      <td>secondary education</td>\n",
       "      <td>1</td>\n",
       "      <td>married</td>\n",
       "      <td>0</td>\n",
       "      <td>M</td>\n",
       "      <td>civil servant</td>\n",
       "      <td>0</td>\n",
       "      <td>29971.772</td>\n",
       "      <td>housing</td>\n",
       "      <td>adult</td>\n",
       "    </tr>\n",
       "    <tr>\n",
       "      <th>20995</th>\n",
       "      <td>0.0</td>\n",
       "      <td>2270.795656</td>\n",
       "      <td>45</td>\n",
       "      <td>secondary education</td>\n",
       "      <td>1</td>\n",
       "      <td>married</td>\n",
       "      <td>0</td>\n",
       "      <td>M</td>\n",
       "      <td>employee</td>\n",
       "      <td>0</td>\n",
       "      <td>52259.184</td>\n",
       "      <td>buy real estate</td>\n",
       "      <td>adult</td>\n",
       "    </tr>\n",
       "    <tr>\n",
       "      <th>17962</th>\n",
       "      <td>0.0</td>\n",
       "      <td>NaN</td>\n",
       "      <td>26</td>\n",
       "      <td>some college</td>\n",
       "      <td>2</td>\n",
       "      <td>unmarried</td>\n",
       "      <td>4</td>\n",
       "      <td>F</td>\n",
       "      <td>business</td>\n",
       "      <td>0</td>\n",
       "      <td>NaN</td>\n",
       "      <td>purchase of a car</td>\n",
       "      <td>young adult</td>\n",
       "    </tr>\n",
       "    <tr>\n",
       "      <th>18168</th>\n",
       "      <td>0.0</td>\n",
       "      <td>1584.279182</td>\n",
       "      <td>34</td>\n",
       "      <td>secondary education</td>\n",
       "      <td>1</td>\n",
       "      <td>married</td>\n",
       "      <td>0</td>\n",
       "      <td>F</td>\n",
       "      <td>employee</td>\n",
       "      <td>0</td>\n",
       "      <td>10839.785</td>\n",
       "      <td>to own a car</td>\n",
       "      <td>adult</td>\n",
       "    </tr>\n",
       "    <tr>\n",
       "      <th>6458</th>\n",
       "      <td>0.0</td>\n",
       "      <td>1012.585465</td>\n",
       "      <td>28</td>\n",
       "      <td>secondary education</td>\n",
       "      <td>1</td>\n",
       "      <td>married</td>\n",
       "      <td>0</td>\n",
       "      <td>M</td>\n",
       "      <td>employee</td>\n",
       "      <td>0</td>\n",
       "      <td>11555.328</td>\n",
       "      <td>car purchase</td>\n",
       "      <td>young adult</td>\n",
       "    </tr>\n",
       "    <tr>\n",
       "      <th>2599</th>\n",
       "      <td>0.0</td>\n",
       "      <td>3237.378764</td>\n",
       "      <td>47</td>\n",
       "      <td>bachelor's degree</td>\n",
       "      <td>0</td>\n",
       "      <td>civil partnership</td>\n",
       "      <td>1</td>\n",
       "      <td>F</td>\n",
       "      <td>business</td>\n",
       "      <td>0</td>\n",
       "      <td>24821.475</td>\n",
       "      <td>wedding ceremony</td>\n",
       "      <td>adult</td>\n",
       "    </tr>\n",
       "    <tr>\n",
       "      <th>6263</th>\n",
       "      <td>0.0</td>\n",
       "      <td>381.842820</td>\n",
       "      <td>58</td>\n",
       "      <td>secondary education</td>\n",
       "      <td>1</td>\n",
       "      <td>widow / widower</td>\n",
       "      <td>2</td>\n",
       "      <td>F</td>\n",
       "      <td>employee</td>\n",
       "      <td>0</td>\n",
       "      <td>21466.110</td>\n",
       "      <td>buy residential real estate</td>\n",
       "      <td>adult</td>\n",
       "    </tr>\n",
       "    <tr>\n",
       "      <th>11925</th>\n",
       "      <td>0.0</td>\n",
       "      <td>92.815487</td>\n",
       "      <td>26</td>\n",
       "      <td>secondary education</td>\n",
       "      <td>1</td>\n",
       "      <td>married</td>\n",
       "      <td>0</td>\n",
       "      <td>F</td>\n",
       "      <td>employee</td>\n",
       "      <td>0</td>\n",
       "      <td>23344.250</td>\n",
       "      <td>transactions with my real estate</td>\n",
       "      <td>young adult</td>\n",
       "    </tr>\n",
       "    <tr>\n",
       "      <th>18351</th>\n",
       "      <td>1.0</td>\n",
       "      <td>246.546082</td>\n",
       "      <td>34</td>\n",
       "      <td>secondary education</td>\n",
       "      <td>1</td>\n",
       "      <td>married</td>\n",
       "      <td>0</td>\n",
       "      <td>M</td>\n",
       "      <td>business</td>\n",
       "      <td>0</td>\n",
       "      <td>22208.353</td>\n",
       "      <td>car purchase</td>\n",
       "      <td>adult</td>\n",
       "    </tr>\n",
       "    <tr>\n",
       "      <th>15267</th>\n",
       "      <td>3.0</td>\n",
       "      <td>657.567736</td>\n",
       "      <td>37</td>\n",
       "      <td>secondary education</td>\n",
       "      <td>1</td>\n",
       "      <td>married</td>\n",
       "      <td>0</td>\n",
       "      <td>M</td>\n",
       "      <td>employee</td>\n",
       "      <td>0</td>\n",
       "      <td>44088.420</td>\n",
       "      <td>car purchase</td>\n",
       "      <td>adult</td>\n",
       "    </tr>\n",
       "    <tr>\n",
       "      <th>1461</th>\n",
       "      <td>1.0</td>\n",
       "      <td>NaN</td>\n",
       "      <td>50</td>\n",
       "      <td>secondary education</td>\n",
       "      <td>1</td>\n",
       "      <td>married</td>\n",
       "      <td>0</td>\n",
       "      <td>F</td>\n",
       "      <td>retiree</td>\n",
       "      <td>0</td>\n",
       "      <td>46711.275</td>\n",
       "      <td>education</td>\n",
       "      <td>adult</td>\n",
       "    </tr>\n",
       "    <tr>\n",
       "      <th>582</th>\n",
       "      <td>0.0</td>\n",
       "      <td>NaN</td>\n",
       "      <td>51</td>\n",
       "      <td>bachelor's degree</td>\n",
       "      <td>0</td>\n",
       "      <td>civil partnership</td>\n",
       "      <td>1</td>\n",
       "      <td>F</td>\n",
       "      <td>retiree</td>\n",
       "      <td>0</td>\n",
       "      <td>21437.010</td>\n",
       "      <td>having a wedding</td>\n",
       "      <td>adult</td>\n",
       "    </tr>\n",
       "    <tr>\n",
       "      <th>17699</th>\n",
       "      <td>0.0</td>\n",
       "      <td>4949.664927</td>\n",
       "      <td>44</td>\n",
       "      <td>secondary education</td>\n",
       "      <td>1</td>\n",
       "      <td>married</td>\n",
       "      <td>0</td>\n",
       "      <td>F</td>\n",
       "      <td>employee</td>\n",
       "      <td>0</td>\n",
       "      <td>82133.598</td>\n",
       "      <td>property</td>\n",
       "      <td>adult</td>\n",
       "    </tr>\n",
       "  </tbody>\n",
       "</table>\n",
       "</div>"
      ],
      "text/plain": [
       "       children  days_employed  dob_years            education  education_id  \\\n",
       "6951        1.0     829.887972         25    bachelor's degree             0   \n",
       "6708        0.0    8619.938309         49  secondary education             1   \n",
       "5659        3.0    1999.778276         33  secondary education             1   \n",
       "10368       1.0    1564.862764         21  secondary education             1   \n",
       "10175       1.0    5790.920475         34  secondary education             1   \n",
       "9276        0.0            NaN         66  secondary education             1   \n",
       "1685        1.0    1168.253701         31    bachelor's degree             0   \n",
       "8829        0.0     359.855591         56  secondary education             1   \n",
       "20995       0.0    2270.795656         45  secondary education             1   \n",
       "17962       0.0            NaN         26         some college             2   \n",
       "18168       0.0    1584.279182         34  secondary education             1   \n",
       "6458        0.0    1012.585465         28  secondary education             1   \n",
       "2599        0.0    3237.378764         47    bachelor's degree             0   \n",
       "6263        0.0     381.842820         58  secondary education             1   \n",
       "11925       0.0      92.815487         26  secondary education             1   \n",
       "18351       1.0     246.546082         34  secondary education             1   \n",
       "15267       3.0     657.567736         37  secondary education             1   \n",
       "1461        1.0            NaN         50  secondary education             1   \n",
       "582         0.0            NaN         51    bachelor's degree             0   \n",
       "17699       0.0    4949.664927         44  secondary education             1   \n",
       "\n",
       "           family_status  family_status_id gender    income_type  debt  \\\n",
       "6951             married                 0      M       business     0   \n",
       "6708           unmarried                 4      F       employee     0   \n",
       "5659   civil partnership                 1      F       employee     1   \n",
       "10368            married                 0      F       employee     1   \n",
       "10175            married                 0      F       employee     0   \n",
       "9276             married                 0      M        retiree     0   \n",
       "1685             married                 0      M       business     0   \n",
       "8829             married                 0      M  civil servant     0   \n",
       "20995            married                 0      M       employee     0   \n",
       "17962          unmarried                 4      F       business     0   \n",
       "18168            married                 0      F       employee     0   \n",
       "6458             married                 0      M       employee     0   \n",
       "2599   civil partnership                 1      F       business     0   \n",
       "6263     widow / widower                 2      F       employee     0   \n",
       "11925            married                 0      F       employee     0   \n",
       "18351            married                 0      M       business     0   \n",
       "15267            married                 0      M       employee     0   \n",
       "1461             married                 0      F        retiree     0   \n",
       "582    civil partnership                 1      F        retiree     0   \n",
       "17699            married                 0      F       employee     0   \n",
       "\n",
       "       total_income                                   purpose age_category  \n",
       "6951      52811.813                      housing transactions  young adult  \n",
       "6708      72263.662                              to buy a car        adult  \n",
       "5659      23242.886          to get a supplementary education        adult  \n",
       "10368     13532.439          transactions with my real estate  young adult  \n",
       "10175     22512.642  transactions with commercial real estate        adult  \n",
       "9276       7565.268                  real estate transactions       senior  \n",
       "1685      30364.068                         purchase of a car        adult  \n",
       "8829      29971.772                                   housing        adult  \n",
       "20995     52259.184                           buy real estate        adult  \n",
       "17962           NaN                         purchase of a car  young adult  \n",
       "18168     10839.785                              to own a car        adult  \n",
       "6458      11555.328                              car purchase  young adult  \n",
       "2599      24821.475                          wedding ceremony        adult  \n",
       "6263      21466.110               buy residential real estate        adult  \n",
       "11925     23344.250          transactions with my real estate  young adult  \n",
       "18351     22208.353                              car purchase        adult  \n",
       "15267     44088.420                              car purchase        adult  \n",
       "1461      46711.275                                 education        adult  \n",
       "582       21437.010                          having a wedding        adult  \n",
       "17699     82133.598                                  property        adult  "
      ]
     },
     "execution_count": 163,
     "metadata": {},
     "output_type": "execute_result"
    }
   ],
   "source": [
    "# Checking how values in the new column look\n",
    "df.sample(20)\n",
    "\n"
   ]
  },
  {
   "cell_type": "markdown",
   "metadata": {},
   "source": [
    "\n",
    "\n",
    "the factors i'd consider that income depends on are:\n",
    "age category,  education, number of kids, family status, income type."
   ]
  },
  {
   "cell_type": "code",
   "execution_count": 164,
   "metadata": {
    "ExecuteTime": {
     "end_time": "2022-10-23T11:24:18.483931Z",
     "start_time": "2022-10-23T11:24:18.365250Z"
    },
    "scrolled": true
   },
   "outputs": [
    {
     "data": {
      "text/html": [
       "<div>\n",
       "<style scoped>\n",
       "    .dataframe tbody tr th:only-of-type {\n",
       "        vertical-align: middle;\n",
       "    }\n",
       "\n",
       "    .dataframe tbody tr th {\n",
       "        vertical-align: top;\n",
       "    }\n",
       "\n",
       "    .dataframe thead th {\n",
       "        text-align: right;\n",
       "    }\n",
       "</style>\n",
       "<table border=\"1\" class=\"dataframe\">\n",
       "  <thead>\n",
       "    <tr style=\"text-align: right;\">\n",
       "      <th></th>\n",
       "      <th>children</th>\n",
       "      <th>days_employed</th>\n",
       "      <th>dob_years</th>\n",
       "      <th>education</th>\n",
       "      <th>education_id</th>\n",
       "      <th>family_status</th>\n",
       "      <th>family_status_id</th>\n",
       "      <th>gender</th>\n",
       "      <th>income_type</th>\n",
       "      <th>debt</th>\n",
       "      <th>total_income</th>\n",
       "      <th>purpose</th>\n",
       "      <th>age_category</th>\n",
       "      <th>filled_income</th>\n",
       "    </tr>\n",
       "  </thead>\n",
       "  <tbody>\n",
       "    <tr>\n",
       "      <th>12</th>\n",
       "      <td>0.0</td>\n",
       "      <td>NaN</td>\n",
       "      <td>65</td>\n",
       "      <td>secondary education</td>\n",
       "      <td>1</td>\n",
       "      <td>civil partnership</td>\n",
       "      <td>1</td>\n",
       "      <td>M</td>\n",
       "      <td>retiree</td>\n",
       "      <td>0</td>\n",
       "      <td>NaN</td>\n",
       "      <td>to have a wedding</td>\n",
       "      <td>senior</td>\n",
       "      <td>24594.503037</td>\n",
       "    </tr>\n",
       "    <tr>\n",
       "      <th>26</th>\n",
       "      <td>0.0</td>\n",
       "      <td>NaN</td>\n",
       "      <td>41</td>\n",
       "      <td>secondary education</td>\n",
       "      <td>1</td>\n",
       "      <td>married</td>\n",
       "      <td>0</td>\n",
       "      <td>M</td>\n",
       "      <td>civil servant</td>\n",
       "      <td>0</td>\n",
       "      <td>NaN</td>\n",
       "      <td>education</td>\n",
       "      <td>adult</td>\n",
       "      <td>24594.503037</td>\n",
       "    </tr>\n",
       "    <tr>\n",
       "      <th>29</th>\n",
       "      <td>0.0</td>\n",
       "      <td>NaN</td>\n",
       "      <td>63</td>\n",
       "      <td>secondary education</td>\n",
       "      <td>1</td>\n",
       "      <td>unmarried</td>\n",
       "      <td>4</td>\n",
       "      <td>F</td>\n",
       "      <td>retiree</td>\n",
       "      <td>0</td>\n",
       "      <td>NaN</td>\n",
       "      <td>building a real estate</td>\n",
       "      <td>adult</td>\n",
       "      <td>24594.503037</td>\n",
       "    </tr>\n",
       "    <tr>\n",
       "      <th>41</th>\n",
       "      <td>0.0</td>\n",
       "      <td>NaN</td>\n",
       "      <td>50</td>\n",
       "      <td>secondary education</td>\n",
       "      <td>1</td>\n",
       "      <td>married</td>\n",
       "      <td>0</td>\n",
       "      <td>F</td>\n",
       "      <td>civil servant</td>\n",
       "      <td>0</td>\n",
       "      <td>NaN</td>\n",
       "      <td>second-hand car purchase</td>\n",
       "      <td>adult</td>\n",
       "      <td>24594.503037</td>\n",
       "    </tr>\n",
       "    <tr>\n",
       "      <th>55</th>\n",
       "      <td>0.0</td>\n",
       "      <td>NaN</td>\n",
       "      <td>54</td>\n",
       "      <td>secondary education</td>\n",
       "      <td>1</td>\n",
       "      <td>civil partnership</td>\n",
       "      <td>1</td>\n",
       "      <td>F</td>\n",
       "      <td>retiree</td>\n",
       "      <td>1</td>\n",
       "      <td>NaN</td>\n",
       "      <td>to have a wedding</td>\n",
       "      <td>adult</td>\n",
       "      <td>24594.503037</td>\n",
       "    </tr>\n",
       "    <tr>\n",
       "      <th>...</th>\n",
       "      <td>...</td>\n",
       "      <td>...</td>\n",
       "      <td>...</td>\n",
       "      <td>...</td>\n",
       "      <td>...</td>\n",
       "      <td>...</td>\n",
       "      <td>...</td>\n",
       "      <td>...</td>\n",
       "      <td>...</td>\n",
       "      <td>...</td>\n",
       "      <td>...</td>\n",
       "      <td>...</td>\n",
       "      <td>...</td>\n",
       "      <td>...</td>\n",
       "    </tr>\n",
       "    <tr>\n",
       "      <th>21489</th>\n",
       "      <td>2.0</td>\n",
       "      <td>NaN</td>\n",
       "      <td>47</td>\n",
       "      <td>secondary education</td>\n",
       "      <td>1</td>\n",
       "      <td>married</td>\n",
       "      <td>0</td>\n",
       "      <td>M</td>\n",
       "      <td>business</td>\n",
       "      <td>0</td>\n",
       "      <td>NaN</td>\n",
       "      <td>purchase of a car</td>\n",
       "      <td>adult</td>\n",
       "      <td>24594.503037</td>\n",
       "    </tr>\n",
       "    <tr>\n",
       "      <th>21495</th>\n",
       "      <td>1.0</td>\n",
       "      <td>NaN</td>\n",
       "      <td>50</td>\n",
       "      <td>secondary education</td>\n",
       "      <td>1</td>\n",
       "      <td>civil partnership</td>\n",
       "      <td>1</td>\n",
       "      <td>F</td>\n",
       "      <td>employee</td>\n",
       "      <td>0</td>\n",
       "      <td>NaN</td>\n",
       "      <td>wedding ceremony</td>\n",
       "      <td>adult</td>\n",
       "      <td>24594.503037</td>\n",
       "    </tr>\n",
       "    <tr>\n",
       "      <th>21497</th>\n",
       "      <td>0.0</td>\n",
       "      <td>NaN</td>\n",
       "      <td>48</td>\n",
       "      <td>bachelor's degree</td>\n",
       "      <td>0</td>\n",
       "      <td>married</td>\n",
       "      <td>0</td>\n",
       "      <td>F</td>\n",
       "      <td>business</td>\n",
       "      <td>0</td>\n",
       "      <td>NaN</td>\n",
       "      <td>building a property</td>\n",
       "      <td>adult</td>\n",
       "      <td>33142.802434</td>\n",
       "    </tr>\n",
       "    <tr>\n",
       "      <th>21502</th>\n",
       "      <td>1.0</td>\n",
       "      <td>NaN</td>\n",
       "      <td>42</td>\n",
       "      <td>secondary education</td>\n",
       "      <td>1</td>\n",
       "      <td>married</td>\n",
       "      <td>0</td>\n",
       "      <td>F</td>\n",
       "      <td>employee</td>\n",
       "      <td>0</td>\n",
       "      <td>NaN</td>\n",
       "      <td>building a real estate</td>\n",
       "      <td>adult</td>\n",
       "      <td>24594.503037</td>\n",
       "    </tr>\n",
       "    <tr>\n",
       "      <th>21510</th>\n",
       "      <td>2.0</td>\n",
       "      <td>NaN</td>\n",
       "      <td>28</td>\n",
       "      <td>secondary education</td>\n",
       "      <td>1</td>\n",
       "      <td>married</td>\n",
       "      <td>0</td>\n",
       "      <td>F</td>\n",
       "      <td>employee</td>\n",
       "      <td>0</td>\n",
       "      <td>NaN</td>\n",
       "      <td>car purchase</td>\n",
       "      <td>young adult</td>\n",
       "      <td>24594.503037</td>\n",
       "    </tr>\n",
       "  </tbody>\n",
       "</table>\n",
       "<p>2174 rows × 14 columns</p>\n",
       "</div>"
      ],
      "text/plain": [
       "       children  days_employed  dob_years            education  education_id  \\\n",
       "12          0.0            NaN         65  secondary education             1   \n",
       "26          0.0            NaN         41  secondary education             1   \n",
       "29          0.0            NaN         63  secondary education             1   \n",
       "41          0.0            NaN         50  secondary education             1   \n",
       "55          0.0            NaN         54  secondary education             1   \n",
       "...         ...            ...        ...                  ...           ...   \n",
       "21489       2.0            NaN         47  secondary education             1   \n",
       "21495       1.0            NaN         50  secondary education             1   \n",
       "21497       0.0            NaN         48    bachelor's degree             0   \n",
       "21502       1.0            NaN         42  secondary education             1   \n",
       "21510       2.0            NaN         28  secondary education             1   \n",
       "\n",
       "           family_status  family_status_id gender    income_type  debt  \\\n",
       "12     civil partnership                 1      M        retiree     0   \n",
       "26               married                 0      M  civil servant     0   \n",
       "29             unmarried                 4      F        retiree     0   \n",
       "41               married                 0      F  civil servant     0   \n",
       "55     civil partnership                 1      F        retiree     1   \n",
       "...                  ...               ...    ...            ...   ...   \n",
       "21489            married                 0      M       business     0   \n",
       "21495  civil partnership                 1      F       employee     0   \n",
       "21497            married                 0      F       business     0   \n",
       "21502            married                 0      F       employee     0   \n",
       "21510            married                 0      F       employee     0   \n",
       "\n",
       "       total_income                   purpose age_category  filled_income  \n",
       "12              NaN         to have a wedding       senior   24594.503037  \n",
       "26              NaN                 education        adult   24594.503037  \n",
       "29              NaN    building a real estate        adult   24594.503037  \n",
       "41              NaN  second-hand car purchase        adult   24594.503037  \n",
       "55              NaN         to have a wedding        adult   24594.503037  \n",
       "...             ...                       ...          ...            ...  \n",
       "21489           NaN         purchase of a car        adult   24594.503037  \n",
       "21495           NaN          wedding ceremony        adult   24594.503037  \n",
       "21497           NaN       building a property        adult   33142.802434  \n",
       "21502           NaN    building a real estate        adult   24594.503037  \n",
       "21510           NaN              car purchase  young adult   24594.503037  \n",
       "\n",
       "[2174 rows x 14 columns]"
      ]
     },
     "execution_count": 164,
     "metadata": {},
     "output_type": "execute_result"
    }
   ],
   "source": [
    "# creating a table without missing values and making sure it's filled\n",
    "\n",
    "df['filled_income'] = df.groupby('education')['total_income'].transform(lambda grp: grp.fillna(np.mean(grp)) )\n",
    "df.loc[df['total_income'].isna()]\n",
    "\n"
   ]
  },
  {
   "cell_type": "markdown",
   "metadata": {},
   "source": [
    "it looks fine"
   ]
  },
  {
   "cell_type": "code",
   "execution_count": 165,
   "metadata": {
    "ExecuteTime": {
     "end_time": "2022-10-23T11:24:18.592639Z",
     "start_time": "2022-10-23T11:24:18.489917Z"
    }
   },
   "outputs": [
    {
     "data": {
      "text/plain": [
       "education\n",
       "bachelor's degree      33142.802434\n",
       "graduate degree        27960.024667\n",
       "primary education      21144.882211\n",
       "secondary education    24594.503037\n",
       "some college           29040.132990\n",
       "Name: filled_income, dtype: float64"
      ]
     },
     "metadata": {},
     "output_type": "display_data"
    },
    {
     "data": {
      "text/plain": [
       "age_category\n",
       "adult          27239.294469\n",
       "minor          20048.598896\n",
       "senior         21918.762455\n",
       "young adult    25840.071068\n",
       "Name: filled_income, dtype: float64"
      ]
     },
     "metadata": {},
     "output_type": "display_data"
    },
    {
     "data": {
      "text/plain": [
       "family_status\n",
       "civil partnership    26689.488496\n",
       "divorced             27136.437367\n",
       "married              27016.531450\n",
       "unmarried            27027.581383\n",
       "widow / widower      23239.634291\n",
       "Name: filled_income, dtype: float64"
      ]
     },
     "metadata": {},
     "output_type": "display_data"
    },
    {
     "data": {
      "text/plain": [
       "children\n",
       "0.0    26446.814369\n",
       "1.0    27358.268988\n",
       "2.0    27452.538207\n",
       "3.0    29056.454233\n",
       "4.0    27246.642148\n",
       "5.0    26971.697893\n",
       "Name: filled_income, dtype: float64"
      ]
     },
     "metadata": {},
     "output_type": "display_data"
    },
    {
     "data": {
      "text/plain": [
       "income_type\n",
       "business                       31941.046689\n",
       "civil servant                  27443.546442\n",
       "employee                       25891.476391\n",
       "entrepreneur                   56504.452717\n",
       "paternity / maternity leave     8612.661000\n",
       "retiree                        22352.577061\n",
       "student                        15712.260000\n",
       "unemployed                     21014.360500\n",
       "Name: filled_income, dtype: float64"
      ]
     },
     "metadata": {},
     "output_type": "display_data"
    }
   ],
   "source": [
    "# Looking at the mean values for income based on our identified factors\n",
    "display(df.groupby('education')['filled_income'].mean())\n",
    "display(df.groupby('age_category')['filled_income'].mean())\n",
    "\n",
    "display(df.groupby('family_status')['filled_income'].mean())\n",
    "display(df.groupby('children')['filled_income'].mean())\n",
    "\n",
    "display(df.groupby('income_type')['filled_income'].mean())\n"
   ]
  },
  {
   "cell_type": "code",
   "execution_count": 166,
   "metadata": {
    "ExecuteTime": {
     "end_time": "2022-10-23T11:24:18.702349Z",
     "start_time": "2022-10-23T11:24:18.597630Z"
    },
    "scrolled": true
   },
   "outputs": [
    {
     "data": {
      "text/plain": [
       "education\n",
       "bachelor's degree      30338.7240\n",
       "graduate degree        25161.5835\n",
       "primary education      19711.1800\n",
       "secondary education    23313.1460\n",
       "some college           26953.8010\n",
       "Name: filled_income, dtype: float64"
      ]
     },
     "metadata": {},
     "output_type": "display_data"
    },
    {
     "data": {
      "text/plain": [
       "age_category\n",
       "adult          24594.503037\n",
       "minor          18947.777000\n",
       "senior         19505.519000\n",
       "young adult    24179.295000\n",
       "Name: filled_income, dtype: float64"
      ]
     },
     "metadata": {},
     "output_type": "display_data"
    },
    {
     "data": {
      "text/plain": [
       "family_status\n",
       "civil partnership    24594.503037\n",
       "divorced             24594.503037\n",
       "married              24594.503037\n",
       "unmarried            24594.503037\n",
       "widow / widower      21621.862000\n",
       "Name: filled_income, dtype: float64"
      ]
     },
     "metadata": {},
     "output_type": "display_data"
    },
    {
     "data": {
      "text/plain": [
       "children\n",
       "0.0    24594.503037\n",
       "1.0    24594.503037\n",
       "2.0    24594.503037\n",
       "3.0    24594.503037\n",
       "4.0    24594.503037\n",
       "5.0    26953.748000\n",
       "Name: filled_income, dtype: float64"
      ]
     },
     "metadata": {},
     "output_type": "display_data"
    },
    {
     "data": {
      "text/plain": [
       "income_type\n",
       "business                       27223.718000\n",
       "civil servant                  24594.503037\n",
       "employee                       24264.901000\n",
       "entrepreneur                   56504.452717\n",
       "paternity / maternity leave     8612.661000\n",
       "retiree                        20599.628000\n",
       "student                        15712.260000\n",
       "unemployed                     21014.360500\n",
       "Name: filled_income, dtype: float64"
      ]
     },
     "metadata": {},
     "output_type": "display_data"
    }
   ],
   "source": [
    "# Looking at the median values for income based on our identified factors\n",
    "display(df.groupby('education')['filled_income'].median())\n",
    "display(df.groupby('age_category')['filled_income'].median())\n",
    "\n",
    "display(df.groupby('family_status')['filled_income'].median())\n",
    "display(df.groupby('children')['filled_income'].median())\n",
    "\n",
    "display(df.groupby('income_type')['filled_income'].median())"
   ]
  },
  {
   "cell_type": "markdown",
   "metadata": {},
   "source": [
    "\n",
    "\n",
    "i've considered the income type compared to education, family status, income type, number of children and age category.\n",
    "education - higher education should on average mean a higher salary.\n",
    "family status - i'd think that married people would earn more, but we see that is not the case.\n",
    "number of children - i'm assuming people with more children are able to maintain the family only by having a steady income.\n",
    "age category - i would reason that older people had more time to build their skills, experience so it's easier for them to maintain a job with certain income."
   ]
  },
  {
   "cell_type": "markdown",
   "metadata": {},
   "source": [
    "\n",
    " seeing as the mean varies the most with age category, education and income type, i'll say these are the characteristics that define income most and so i'll use the mean to fill missing values if necessary."
   ]
  },
  {
   "cell_type": "code",
   "execution_count": 167,
   "metadata": {
    "ExecuteTime": {
     "end_time": "2022-10-23T11:24:18.748225Z",
     "start_time": "2022-10-23T11:24:18.708331Z"
    }
   },
   "outputs": [
    {
     "data": {
      "text/html": [
       "<div>\n",
       "<style scoped>\n",
       "    .dataframe tbody tr th:only-of-type {\n",
       "        vertical-align: middle;\n",
       "    }\n",
       "\n",
       "    .dataframe tbody tr th {\n",
       "        vertical-align: top;\n",
       "    }\n",
       "\n",
       "    .dataframe thead th {\n",
       "        text-align: right;\n",
       "    }\n",
       "</style>\n",
       "<table border=\"1\" class=\"dataframe\">\n",
       "  <thead>\n",
       "    <tr style=\"text-align: right;\">\n",
       "      <th></th>\n",
       "      <th>children</th>\n",
       "      <th>days_employed</th>\n",
       "      <th>dob_years</th>\n",
       "      <th>education</th>\n",
       "      <th>education_id</th>\n",
       "      <th>family_status</th>\n",
       "      <th>family_status_id</th>\n",
       "      <th>gender</th>\n",
       "      <th>income_type</th>\n",
       "      <th>debt</th>\n",
       "      <th>total_income</th>\n",
       "      <th>purpose</th>\n",
       "      <th>age_category</th>\n",
       "      <th>filled_income</th>\n",
       "    </tr>\n",
       "  </thead>\n",
       "  <tbody>\n",
       "  </tbody>\n",
       "</table>\n",
       "</div>"
      ],
      "text/plain": [
       "Empty DataFrame\n",
       "Columns: [children, days_employed, dob_years, education, education_id, family_status, family_status_id, gender, income_type, debt, total_income, purpose, age_category, filled_income]\n",
       "Index: []"
      ]
     },
     "execution_count": 167,
     "metadata": {},
     "output_type": "execute_result"
    }
   ],
   "source": [
    "# function that we will use for filling in missing values\n",
    "df.loc[df['total_income'].isna(),'total_income'] = df['filled_income']\n",
    "df.loc[df['total_income'].isna()]\n",
    "\n",
    "\n",
    "\n",
    "\n",
    "\n",
    "\n",
    "        \n",
    "        "
   ]
  },
  {
   "cell_type": "markdown",
   "metadata": {},
   "source": [
    "no na values left"
   ]
  },
  {
   "cell_type": "code",
   "execution_count": 168,
   "metadata": {
    "ExecuteTime": {
     "end_time": "2022-10-23T11:24:18.780142Z",
     "start_time": "2022-10-23T11:24:18.755210Z"
    }
   },
   "outputs": [
    {
     "data": {
      "text/plain": [
       "False    21524\n",
       "Name: total_income, dtype: int64"
      ]
     },
     "execution_count": 168,
     "metadata": {},
     "output_type": "execute_result"
    }
   ],
   "source": [
    "df['total_income'].isna().value_counts()\n"
   ]
  },
  {
   "cell_type": "code",
   "execution_count": 169,
   "metadata": {
    "ExecuteTime": {
     "end_time": "2022-10-23T11:24:18.812090Z",
     "start_time": "2022-10-23T11:24:18.786123Z"
    }
   },
   "outputs": [
    {
     "data": {
      "text/plain": [
       "21524"
      ]
     },
     "execution_count": 169,
     "metadata": {},
     "output_type": "execute_result"
    }
   ],
   "source": [
    "# Checking the number of entries in the columns\n",
    "df['total_income'].count()\n",
    "\n",
    "\n"
   ]
  },
  {
   "cell_type": "markdown",
   "metadata": {},
   "source": [
    "###  Restoring values in `days_employed`"
   ]
  },
  {
   "cell_type": "markdown",
   "metadata": {},
   "source": [
    "[Think about the parameters that may help you restore the missing values in this column. Eventually, you will want to find out whether you should use mean or median values for replacing missing values. You will probably conduct a research similar to the one you've done when restoring data in a previous column.]"
   ]
  },
  {
   "cell_type": "code",
   "execution_count": 170,
   "metadata": {
    "ExecuteTime": {
     "end_time": "2022-10-23T11:24:18.859925Z",
     "start_time": "2022-10-23T11:24:18.829010Z"
    }
   },
   "outputs": [
    {
     "data": {
      "text/plain": [
       "employee                       11119\n",
       "business                        5084\n",
       "retiree                         3856\n",
       "civil servant                   1459\n",
       "unemployed                         2\n",
       "entrepreneur                       2\n",
       "student                            1\n",
       "paternity / maternity leave        1\n",
       "Name: income_type, dtype: int64"
      ]
     },
     "execution_count": 170,
     "metadata": {},
     "output_type": "execute_result"
    }
   ],
   "source": [
    "df['income_type'].value_counts()\n",
    "# the number of retirees is significant and their days_employed value is NaN"
   ]
  },
  {
   "cell_type": "code",
   "execution_count": 171,
   "metadata": {
    "ExecuteTime": {
     "end_time": "2022-10-23T11:24:18.923358Z",
     "start_time": "2022-10-23T11:24:18.863916Z"
    },
    "pycharm": {
     "name": "#%%\n"
    }
   },
   "outputs": [
    {
     "name": "stdout",
     "output_type": "stream",
     "text": [
      "education\n",
      "bachelor's degree      1611.056758\n",
      "graduate degree        3851.735057\n",
      "primary education      1189.581396\n",
      "secondary education    1684.271101\n",
      "some college           1145.952155\n",
      "Name: days_employed, dtype: float64 income_type\n",
      "business                       1546.333214\n",
      "civil servant                  2689.368353\n",
      "employee                       1574.202821\n",
      "entrepreneur                    520.848083\n",
      "paternity / maternity leave    3296.759962\n",
      "retiree                                NaN\n",
      "student                         578.751554\n",
      "unemployed                             NaN\n",
      "Name: days_employed, dtype: float64 age_category\n",
      "adult          1871.660146\n",
      "minor           695.968951\n",
      "senior         2876.221697\n",
      "young adult    1012.585465\n",
      "Name: days_employed, dtype: float64\n"
     ]
    }
   ],
   "source": [
    "# Distribution of `days_employed` medians based on our identified parameters\n",
    "print(df.groupby('education')['days_employed'].median(),\n",
    "      df.groupby('income_type')['days_employed'].median(),\n",
    "      df.groupby('age_category')['days_employed'].median()\n",
    "     )\n",
    "\n",
    "\n"
   ]
  },
  {
   "cell_type": "code",
   "execution_count": 172,
   "metadata": {
    "ExecuteTime": {
     "end_time": "2022-10-23T11:24:18.987190Z",
     "start_time": "2022-10-23T11:24:18.930338Z"
    },
    "scrolled": true
   },
   "outputs": [
    {
     "name": "stdout",
     "output_type": "stream",
     "text": [
      "education\n",
      "bachelor's degree      2277.818710\n",
      "graduate degree        3520.186537\n",
      "primary education      1940.672957\n",
      "secondary education    2434.270703\n",
      "some college           1561.867190\n",
      "Name: days_employed, dtype: float64 income_type\n",
      "business                       2111.470404\n",
      "civil servant                  3399.896902\n",
      "employee                       2326.499216\n",
      "entrepreneur                    520.848083\n",
      "paternity / maternity leave    3296.759962\n",
      "retiree                                NaN\n",
      "student                         578.751554\n",
      "unemployed                             NaN\n",
      "Name: days_employed, dtype: float64 age_category\n",
      "adult          2592.695308\n",
      "minor           673.648361\n",
      "senior         4010.478357\n",
      "young adult    1220.752492\n",
      "Name: days_employed, dtype: float64\n"
     ]
    }
   ],
   "source": [
    "# Distribution of `days_employed` means based on our identified parameters\n",
    "\n",
    "print(df.groupby('education')['days_employed'].mean(),\n",
    "      df.groupby('income_type')['days_employed'].mean(),\n",
    "      df.groupby('age_category')['days_employed'].mean()\n",
    "     )\n"
   ]
  },
  {
   "cell_type": "markdown",
   "metadata": {},
   "source": [
    "\n",
    "since we're not gonna use days_employed in our analysis i won't bother filling in missing values for retirees even though it's a significant amount of NaN values."
   ]
  },
  {
   "cell_type": "code",
   "execution_count": 173,
   "metadata": {
    "ExecuteTime": {
     "end_time": "2022-10-23T11:24:19.034060Z",
     "start_time": "2022-10-23T11:24:18.992174Z"
    }
   },
   "outputs": [
    {
     "name": "stdout",
     "output_type": "stream",
     "text": [
      "8437.673028    1\n",
      "719.625408     1\n",
      "114.463945     1\n",
      "5135.928528    1\n",
      "3112.788664    1\n",
      "              ..\n",
      "1133.987382    1\n",
      "5730.178239    1\n",
      "429.448441     1\n",
      "1645.706859    1\n",
      "1984.507589    1\n",
      "Name: days_employed, Length: 15905, dtype: int64\n",
      "0    8437.673028\n",
      "1    4024.803754\n",
      "2    5623.422610\n",
      "3    4124.747207\n",
      "4            NaN\n",
      "5     926.185831\n",
      "6    2879.202052\n",
      "7     152.779569\n",
      "8    6929.865299\n",
      "9    2188.756445\n",
      "Name: days_employed, dtype: float64\n"
     ]
    }
   ],
   "source": [
    "df.loc[df['days_employed'].notna(), 'days_employed'].astype(int)\n",
    "\n",
    "print(df.days_employed.value_counts())\n",
    "df.total_income = df.total_income.astype(int, errors='ignore')\n",
    "\n",
    "print(df.days_employed.head(10))\n",
    "\n",
    "\n",
    "\n",
    "\n",
    "\n"
   ]
  },
  {
   "cell_type": "markdown",
   "metadata": {},
   "source": [
    "## Categorization of data\n",
    "\n",
    "\n"
   ]
  },
  {
   "cell_type": "code",
   "execution_count": 174,
   "metadata": {
    "ExecuteTime": {
     "end_time": "2022-10-23T11:24:19.081979Z",
     "start_time": "2022-10-23T11:24:19.040046Z"
    },
    "scrolled": true
   },
   "outputs": [
    {
     "name": "stdout",
     "output_type": "stream",
     "text": [
      "       children  debt\n",
      "0           1.0     0\n",
      "1           1.0     0\n",
      "2           0.0     0\n",
      "3           3.0     0\n",
      "4           0.0     0\n",
      "...         ...   ...\n",
      "21520       1.0     0\n",
      "21521       0.0     0\n",
      "21522       1.0     1\n",
      "21523       3.0     1\n",
      "21524       2.0     0\n",
      "\n",
      "[21524 rows x 2 columns]\n"
     ]
    }
   ],
   "source": [
    "#1 Print the values for your selected data for categorization 1st children\n",
    "\n",
    "df1 = df[['children','debt']]\n",
    "print(df1)\n",
    "\n"
   ]
  },
  {
   "cell_type": "markdown",
   "metadata": {},
   "source": [
    "Let's check unique values"
   ]
  },
  {
   "cell_type": "code",
   "execution_count": 175,
   "metadata": {
    "ExecuteTime": {
     "end_time": "2022-10-23T11:24:19.113851Z",
     "start_time": "2022-10-23T11:24:19.086918Z"
    }
   },
   "outputs": [
    {
     "data": {
      "text/plain": [
       "0.0    14148\n",
       "1.0     4865\n",
       "2.0     2055\n",
       "3.0      330\n",
       "4.0       41\n",
       "5.0        9\n",
       "Name: children, dtype: int64"
      ]
     },
     "execution_count": 175,
     "metadata": {},
     "output_type": "execute_result"
    }
   ],
   "source": [
    "#1 Check the unique values children\n",
    "df1['children'].value_counts()\n"
   ]
  },
  {
   "cell_type": "markdown",
   "metadata": {},
   "source": [
    "\n",
    "in my eyes the main groups are - childless, have 1-2 children, and child addicts (3-5 children), corresponding to expense level\n",
    "\n",
    "now we'll categorize by groups\n"
   ]
  },
  {
   "cell_type": "code",
   "execution_count": 176,
   "metadata": {
    "ExecuteTime": {
     "end_time": "2022-10-23T11:24:19.143766Z",
     "start_time": "2022-10-23T11:24:19.119835Z"
    }
   },
   "outputs": [],
   "source": [
    "#1 Let's write a function to categorize the data based on common topics\n",
    "\n",
    "def child_cat(n):\n",
    "    if n == 0:\n",
    "        return 'childless'\n",
    "    if n < 4:\n",
    "        return '1-3 children'\n",
    "    return 'child addicts'\n"
   ]
  },
  {
   "cell_type": "code",
   "execution_count": 177,
   "metadata": {
    "ExecuteTime": {
     "end_time": "2022-10-23T11:24:19.220567Z",
     "start_time": "2022-10-23T11:24:19.151747Z"
    },
    "scrolled": true
   },
   "outputs": [
    {
     "data": {
      "text/plain": [
       "childless        14148\n",
       "1-3 children      7250\n",
       "child addicts      126\n",
       "Name: child_category, dtype: int64"
      ]
     },
     "metadata": {},
     "output_type": "display_data"
    }
   ],
   "source": [
    "#1 Creating a column with the categories and counting the values for them\n",
    "\n",
    "df['child_category'] = df['children'].apply(child_cat)\n",
    "df1 = df[['children','debt','child_category']]\n",
    "display(df1['child_category'].value_counts())\n",
    "\n",
    "\n"
   ]
  },
  {
   "cell_type": "code",
   "execution_count": 178,
   "metadata": {
    "ExecuteTime": {
     "end_time": "2022-10-23T11:24:19.284393Z",
     "start_time": "2022-10-23T11:24:19.229537Z"
    }
   },
   "outputs": [
    {
     "data": {
      "text/html": [
       "<div>\n",
       "<style scoped>\n",
       "    .dataframe tbody tr th:only-of-type {\n",
       "        vertical-align: middle;\n",
       "    }\n",
       "\n",
       "    .dataframe tbody tr th {\n",
       "        vertical-align: top;\n",
       "    }\n",
       "\n",
       "    .dataframe thead th {\n",
       "        text-align: right;\n",
       "    }\n",
       "</style>\n",
       "<table border=\"1\" class=\"dataframe\">\n",
       "  <thead>\n",
       "    <tr style=\"text-align: right;\">\n",
       "      <th></th>\n",
       "      <th>children</th>\n",
       "      <th>debt</th>\n",
       "    </tr>\n",
       "  </thead>\n",
       "  <tbody>\n",
       "    <tr>\n",
       "      <th>count</th>\n",
       "      <td>21448.000000</td>\n",
       "      <td>21524.000000</td>\n",
       "    </tr>\n",
       "    <tr>\n",
       "      <th>mean</th>\n",
       "      <td>0.474357</td>\n",
       "      <td>0.080886</td>\n",
       "    </tr>\n",
       "    <tr>\n",
       "      <th>std</th>\n",
       "      <td>0.751427</td>\n",
       "      <td>0.272667</td>\n",
       "    </tr>\n",
       "    <tr>\n",
       "      <th>min</th>\n",
       "      <td>0.000000</td>\n",
       "      <td>0.000000</td>\n",
       "    </tr>\n",
       "    <tr>\n",
       "      <th>25%</th>\n",
       "      <td>0.000000</td>\n",
       "      <td>0.000000</td>\n",
       "    </tr>\n",
       "    <tr>\n",
       "      <th>50%</th>\n",
       "      <td>0.000000</td>\n",
       "      <td>0.000000</td>\n",
       "    </tr>\n",
       "    <tr>\n",
       "      <th>75%</th>\n",
       "      <td>1.000000</td>\n",
       "      <td>0.000000</td>\n",
       "    </tr>\n",
       "    <tr>\n",
       "      <th>max</th>\n",
       "      <td>5.000000</td>\n",
       "      <td>1.000000</td>\n",
       "    </tr>\n",
       "  </tbody>\n",
       "</table>\n",
       "</div>"
      ],
      "text/plain": [
       "           children          debt\n",
       "count  21448.000000  21524.000000\n",
       "mean       0.474357      0.080886\n",
       "std        0.751427      0.272667\n",
       "min        0.000000      0.000000\n",
       "25%        0.000000      0.000000\n",
       "50%        0.000000      0.000000\n",
       "75%        1.000000      0.000000\n",
       "max        5.000000      1.000000"
      ]
     },
     "execution_count": 178,
     "metadata": {},
     "output_type": "execute_result"
    }
   ],
   "source": [
    "df1.describe()"
   ]
  },
  {
   "cell_type": "code",
   "execution_count": 179,
   "metadata": {
    "ExecuteTime": {
     "end_time": "2022-10-23T11:24:19.332308Z",
     "start_time": "2022-10-23T11:24:19.291373Z"
    }
   },
   "outputs": [
    {
     "name": "stdout",
     "output_type": "stream",
     "text": [
      "           family_status  debt\n",
      "0                married     0\n",
      "1                married     0\n",
      "2                married     0\n",
      "3                married     0\n",
      "4      civil partnership     0\n",
      "...                  ...   ...\n",
      "21520  civil partnership     0\n",
      "21521            married     0\n",
      "21522  civil partnership     1\n",
      "21523            married     1\n",
      "21524            married     0\n",
      "\n",
      "[21524 rows x 2 columns]\n"
     ]
    }
   ],
   "source": [
    "#2 Printing the values for our selected data for categorization 2nd family_status\n",
    "df2 = df[['family_status','debt']]\n",
    "print(df2)"
   ]
  },
  {
   "cell_type": "code",
   "execution_count": 180,
   "metadata": {
    "ExecuteTime": {
     "end_time": "2022-10-23T11:24:19.364221Z",
     "start_time": "2022-10-23T11:24:19.337249Z"
    },
    "scrolled": true
   },
   "outputs": [
    {
     "data": {
      "text/plain": [
       "married              12380\n",
       "civil partnership     4176\n",
       "unmarried             2813\n",
       "divorced              1195\n",
       "widow / widower        960\n",
       "Name: family_status, dtype: int64"
      ]
     },
     "execution_count": 180,
     "metadata": {},
     "output_type": "execute_result"
    }
   ],
   "source": [
    "#2 Checking the unique values family_status\n",
    "df2['family_status'].value_counts()\n"
   ]
  },
  {
   "cell_type": "markdown",
   "metadata": {},
   "source": [
    "categorizing by partnership as opposed to loners "
   ]
  },
  {
   "cell_type": "code",
   "execution_count": 181,
   "metadata": {
    "ExecuteTime": {
     "end_time": "2022-10-23T11:24:19.396093Z",
     "start_time": "2022-10-23T11:24:19.370161Z"
    }
   },
   "outputs": [
    {
     "data": {
      "text/plain": [
       "'lone wolves'"
      ]
     },
     "execution_count": 181,
     "metadata": {},
     "output_type": "execute_result"
    }
   ],
   "source": [
    "#2 Let's write a function to categorize the data based on common topics\n",
    "def family_cat(fam):\n",
    "    if fam in {'married', 'civil_partnership'}:\n",
    "        return 'partners'\n",
    "    else:\n",
    "        return 'lone wolves'\n",
    "family_cat('widower')"
   ]
  },
  {
   "cell_type": "code",
   "execution_count": 182,
   "metadata": {
    "ExecuteTime": {
     "end_time": "2022-10-23T11:24:19.599335Z",
     "start_time": "2022-10-23T11:24:19.403075Z"
    }
   },
   "outputs": [
    {
     "data": {
      "text/plain": [
       "partners       12380\n",
       "lone wolves     9144\n",
       "Name: family_category, dtype: int64"
      ]
     },
     "metadata": {},
     "output_type": "display_data"
    }
   ],
   "source": [
    "#2 Creating a column with the categories and counting the values for them\n",
    "df['family_category'] = df['family_status'].apply(family_cat)\n",
    "df2 = df[['family_status','debt','family_category']]\n",
    "display(df2['family_category'].value_counts())\n"
   ]
  },
  {
   "cell_type": "code",
   "execution_count": 183,
   "metadata": {
    "ExecuteTime": {
     "end_time": "2022-10-23T11:24:19.646165Z",
     "start_time": "2022-10-23T11:24:19.604276Z"
    },
    "scrolled": true
   },
   "outputs": [
    {
     "data": {
      "text/html": [
       "<div>\n",
       "<style scoped>\n",
       "    .dataframe tbody tr th:only-of-type {\n",
       "        vertical-align: middle;\n",
       "    }\n",
       "\n",
       "    .dataframe tbody tr th {\n",
       "        vertical-align: top;\n",
       "    }\n",
       "\n",
       "    .dataframe thead th {\n",
       "        text-align: right;\n",
       "    }\n",
       "</style>\n",
       "<table border=\"1\" class=\"dataframe\">\n",
       "  <thead>\n",
       "    <tr style=\"text-align: right;\">\n",
       "      <th></th>\n",
       "      <th>debt</th>\n",
       "    </tr>\n",
       "  </thead>\n",
       "  <tbody>\n",
       "    <tr>\n",
       "      <th>count</th>\n",
       "      <td>21524.000000</td>\n",
       "    </tr>\n",
       "    <tr>\n",
       "      <th>mean</th>\n",
       "      <td>0.080886</td>\n",
       "    </tr>\n",
       "    <tr>\n",
       "      <th>std</th>\n",
       "      <td>0.272667</td>\n",
       "    </tr>\n",
       "    <tr>\n",
       "      <th>min</th>\n",
       "      <td>0.000000</td>\n",
       "    </tr>\n",
       "    <tr>\n",
       "      <th>25%</th>\n",
       "      <td>0.000000</td>\n",
       "    </tr>\n",
       "    <tr>\n",
       "      <th>50%</th>\n",
       "      <td>0.000000</td>\n",
       "    </tr>\n",
       "    <tr>\n",
       "      <th>75%</th>\n",
       "      <td>0.000000</td>\n",
       "    </tr>\n",
       "    <tr>\n",
       "      <th>max</th>\n",
       "      <td>1.000000</td>\n",
       "    </tr>\n",
       "  </tbody>\n",
       "</table>\n",
       "</div>"
      ],
      "text/plain": [
       "               debt\n",
       "count  21524.000000\n",
       "mean       0.080886\n",
       "std        0.272667\n",
       "min        0.000000\n",
       "25%        0.000000\n",
       "50%        0.000000\n",
       "75%        0.000000\n",
       "max        1.000000"
      ]
     },
     "execution_count": 183,
     "metadata": {},
     "output_type": "execute_result"
    }
   ],
   "source": [
    "df2.describe()"
   ]
  },
  {
   "cell_type": "code",
   "execution_count": 184,
   "metadata": {
    "ExecuteTime": {
     "end_time": "2022-10-23T11:24:19.678123Z",
     "start_time": "2022-10-23T11:24:19.651152Z"
    }
   },
   "outputs": [
    {
     "name": "stdout",
     "output_type": "stream",
     "text": [
      "  income_type  debt\n",
      "0    employee     0\n",
      "1    employee     0\n",
      "2    employee     0\n",
      "3    employee     0\n",
      "4     retiree     0\n",
      "5    business     0\n",
      "6    business     0\n",
      "7    employee     0\n",
      "8    employee     0\n",
      "9    employee     0\n"
     ]
    }
   ],
   "source": [
    "#3 Printing the values for our selected data for categorization 3rd income_type\n",
    "\n",
    "df3 = df[['income_type','debt']]\n",
    "print(df3.head(10))\n"
   ]
  },
  {
   "cell_type": "code",
   "execution_count": 185,
   "metadata": {
    "ExecuteTime": {
     "end_time": "2022-10-23T11:24:19.724954Z",
     "start_time": "2022-10-23T11:24:19.684064Z"
    },
    "scrolled": true
   },
   "outputs": [
    {
     "data": {
      "text/plain": [
       "employee                       11119\n",
       "business                        5084\n",
       "retiree                         3856\n",
       "civil servant                   1459\n",
       "unemployed                         2\n",
       "entrepreneur                       2\n",
       "student                            1\n",
       "paternity / maternity leave        1\n",
       "Name: income_type, dtype: int64"
      ]
     },
     "execution_count": 185,
     "metadata": {},
     "output_type": "execute_result"
    }
   ],
   "source": [
    "#3 Checking the unique values income_type\n",
    "df3['income_type'].value_counts()\n"
   ]
  },
  {
   "cell_type": "markdown",
   "metadata": {},
   "source": [
    "first group is people who aren't working full time, second is businessmen and entrepreneurs, which i consider riskier than the third group; people with regular jobs.\n"
   ]
  },
  {
   "cell_type": "code",
   "execution_count": 186,
   "metadata": {
    "ExecuteTime": {
     "end_time": "2022-10-23T11:24:19.755870Z",
     "start_time": "2022-10-23T11:24:19.732932Z"
    }
   },
   "outputs": [],
   "source": [
    "#3 Let's write a function to categorize the data based on common topics income_type\n",
    "def income_cat(income_type):\n",
    "    if income_type in {'retiree', 'unemployed','student','paternity / maternity leave'}:\n",
    "        return 'currently not working'\n",
    "    if income_type in {'entrepreneur', 'business'}:\n",
    "        return 'risk takers'\n",
    "    return 'regular income'\n",
    "    "
   ]
  },
  {
   "cell_type": "code",
   "execution_count": 187,
   "metadata": {
    "ExecuteTime": {
     "end_time": "2022-10-23T11:24:19.866574Z",
     "start_time": "2022-10-23T11:24:19.762852Z"
    },
    "scrolled": true
   },
   "outputs": [
    {
     "data": {
      "text/plain": [
       "regular income           12578\n",
       "risk takers               5086\n",
       "currently not working     3860\n",
       "Name: income_category, dtype: int64"
      ]
     },
     "metadata": {},
     "output_type": "display_data"
    }
   ],
   "source": [
    "#3 Creating a column with the categories and counting the values for them, income type\n",
    "df['income_category'] = df['income_type'].apply(income_cat)\n",
    "df3 = df[['income_type','debt','income_category']]\n",
    "display(df3['income_category'].value_counts())\n"
   ]
  },
  {
   "cell_type": "code",
   "execution_count": 188,
   "metadata": {
    "ExecuteTime": {
     "end_time": "2022-10-23T11:24:19.913448Z",
     "start_time": "2022-10-23T11:24:19.872559Z"
    }
   },
   "outputs": [
    {
     "data": {
      "text/html": [
       "<div>\n",
       "<style scoped>\n",
       "    .dataframe tbody tr th:only-of-type {\n",
       "        vertical-align: middle;\n",
       "    }\n",
       "\n",
       "    .dataframe tbody tr th {\n",
       "        vertical-align: top;\n",
       "    }\n",
       "\n",
       "    .dataframe thead th {\n",
       "        text-align: right;\n",
       "    }\n",
       "</style>\n",
       "<table border=\"1\" class=\"dataframe\">\n",
       "  <thead>\n",
       "    <tr style=\"text-align: right;\">\n",
       "      <th></th>\n",
       "      <th>debt</th>\n",
       "    </tr>\n",
       "  </thead>\n",
       "  <tbody>\n",
       "    <tr>\n",
       "      <th>count</th>\n",
       "      <td>21524.000000</td>\n",
       "    </tr>\n",
       "    <tr>\n",
       "      <th>mean</th>\n",
       "      <td>0.080886</td>\n",
       "    </tr>\n",
       "    <tr>\n",
       "      <th>std</th>\n",
       "      <td>0.272667</td>\n",
       "    </tr>\n",
       "    <tr>\n",
       "      <th>min</th>\n",
       "      <td>0.000000</td>\n",
       "    </tr>\n",
       "    <tr>\n",
       "      <th>25%</th>\n",
       "      <td>0.000000</td>\n",
       "    </tr>\n",
       "    <tr>\n",
       "      <th>50%</th>\n",
       "      <td>0.000000</td>\n",
       "    </tr>\n",
       "    <tr>\n",
       "      <th>75%</th>\n",
       "      <td>0.000000</td>\n",
       "    </tr>\n",
       "    <tr>\n",
       "      <th>max</th>\n",
       "      <td>1.000000</td>\n",
       "    </tr>\n",
       "  </tbody>\n",
       "</table>\n",
       "</div>"
      ],
      "text/plain": [
       "               debt\n",
       "count  21524.000000\n",
       "mean       0.080886\n",
       "std        0.272667\n",
       "min        0.000000\n",
       "25%        0.000000\n",
       "50%        0.000000\n",
       "75%        0.000000\n",
       "max        1.000000"
      ]
     },
     "execution_count": 188,
     "metadata": {},
     "output_type": "execute_result"
    }
   ],
   "source": [
    "df3.describe()"
   ]
  },
  {
   "cell_type": "markdown",
   "metadata": {},
   "source": [
    "\n",
    "\n",
    "categorizing the purposes:"
   ]
  },
  {
   "cell_type": "code",
   "execution_count": 189,
   "metadata": {
    "ExecuteTime": {
     "end_time": "2022-10-23T11:24:19.945363Z",
     "start_time": "2022-10-23T11:24:19.918438Z"
    }
   },
   "outputs": [
    {
     "data": {
      "text/plain": [
       "array(['purchase of the house', 'car purchase', 'supplementary education',\n",
       "       'to have a wedding', 'housing transactions', 'education',\n",
       "       'having a wedding', 'purchase of the house for my family',\n",
       "       'buy real estate', 'buy commercial real estate',\n",
       "       'buy residential real estate', 'construction of own property',\n",
       "       'property', 'building a property', 'buying a second-hand car',\n",
       "       'buying my own car', 'transactions with commercial real estate',\n",
       "       'building a real estate', 'housing',\n",
       "       'transactions with my real estate', 'cars', 'to become educated',\n",
       "       'second-hand car purchase', 'getting an education', 'car',\n",
       "       'wedding ceremony', 'to get a supplementary education',\n",
       "       'purchase of my own house', 'real estate transactions',\n",
       "       'getting higher education', 'to own a car', 'purchase of a car',\n",
       "       'profile education', 'university education',\n",
       "       'buying property for renting out', 'to buy a car',\n",
       "       'housing renovation', 'going to university'], dtype=object)"
      ]
     },
     "execution_count": 189,
     "metadata": {},
     "output_type": "execute_result"
    }
   ],
   "source": [
    "df.purpose.unique()"
   ]
  },
  {
   "cell_type": "code",
   "execution_count": 190,
   "metadata": {
    "ExecuteTime": {
     "end_time": "2022-10-23T11:24:20.087295Z",
     "start_time": "2022-10-23T11:24:19.950350Z"
    },
    "scrolled": true
   },
   "outputs": [
    {
     "name": "stdout",
     "output_type": "stream",
     "text": [
      "['purchase', 'of', 'the', 'house', 'car', 'supplementary', 'education', 'to', 'have', 'a', 'wedding', 'housing', 'transaction', 'having', 'for', 'my', 'family', 'buy', 'real', 'estate', 'commercial', 'residential', 'construction', 'own', 'property', 'building', 'buying', 'second-hand', 'with', 'become', 'educated', 'getting', 'an', 'ceremony', 'get', 'higher', 'profile', 'university', 'renting', 'out', 'renovation', 'going']\n"
     ]
    }
   ],
   "source": [
    "lemma_list_all = []\n",
    "\n",
    "for purpose in df.purpose.unique():\n",
    "    words = nltk.word_tokenize(purpose)\n",
    "    lemmas = [wordnet_lemma.lemmatize(w, pos = 'n') for w in words]\n",
    "    lemmas = [l.lower() for l in lemmas]\n",
    "    for i in lemmas:\n",
    "        if i in lemma_list_all:\n",
    "            continue\n",
    "        else:\n",
    "            lemma_list_all.append(i)\n",
    "print(lemma_list_all)"
   ]
  },
  {
   "cell_type": "code",
   "execution_count": 191,
   "metadata": {
    "ExecuteTime": {
     "end_time": "2022-10-23T11:24:20.135170Z",
     "start_time": "2022-10-23T11:24:20.100275Z"
    },
    "scrolled": true
   },
   "outputs": [
    {
     "data": {
      "text/plain": [
       "Counter({'purchase': 1,\n",
       "         'of': 1,\n",
       "         'the': 1,\n",
       "         'house': 1,\n",
       "         'car': 1,\n",
       "         'supplementary': 1,\n",
       "         'education': 1,\n",
       "         'to': 1,\n",
       "         'have': 1,\n",
       "         'a': 1,\n",
       "         'wedding': 1,\n",
       "         'housing': 1,\n",
       "         'transaction': 1,\n",
       "         'having': 1,\n",
       "         'for': 1,\n",
       "         'my': 1,\n",
       "         'family': 1,\n",
       "         'buy': 1,\n",
       "         'real': 1,\n",
       "         'estate': 1,\n",
       "         'commercial': 1,\n",
       "         'residential': 1,\n",
       "         'construction': 1,\n",
       "         'own': 1,\n",
       "         'property': 1,\n",
       "         'building': 1,\n",
       "         'buying': 1,\n",
       "         'second-hand': 1,\n",
       "         'with': 1,\n",
       "         'become': 1,\n",
       "         'educated': 1,\n",
       "         'getting': 1,\n",
       "         'an': 1,\n",
       "         'ceremony': 1,\n",
       "         'get': 1,\n",
       "         'higher': 1,\n",
       "         'profile': 1,\n",
       "         'university': 1,\n",
       "         'renting': 1,\n",
       "         'out': 1,\n",
       "         'renovation': 1,\n",
       "         'going': 1})"
      ]
     },
     "execution_count": 191,
     "metadata": {},
     "output_type": "execute_result"
    }
   ],
   "source": [
    "#listing purpose categories and their words\n",
    "\n",
    "assets_category=['property','car','house','real','estate','construction','build']\n",
    "education_category = ['supplementary','education','university']\n",
    "\n",
    "Counter(lemma_list_all)"
   ]
  },
  {
   "cell_type": "markdown",
   "metadata": {},
   "source": [
    "i've decided to keep the categorization here simple, one for people buying any kind of asset, one for people looking to expand their education and one for others.\n",
    "i could categorize by asset type, maybe add a category for investment (like buying real estate for renting purposes)"
   ]
  },
  {
   "cell_type": "code",
   "execution_count": 192,
   "metadata": {
    "ExecuteTime": {
     "end_time": "2022-10-23T11:24:20.166131Z",
     "start_time": "2022-10-23T11:24:20.140153Z"
    }
   },
   "outputs": [],
   "source": [
    "def lemmatization_func(line):\n",
    "  \n",
    "    words = nltk.word_tokenize(line)\n",
    "    lemmas = [wordnet_lemma.lemmatize(w, pos = 'n') for w in words]\n",
    "    lemmas=[l.lower() for l in lemmas]\n",
    "    \n",
    "    if any(word in lemmas for word in assets_category):\n",
    "        return 'assets'\n",
    "    elif  any(word in lemmas for word in education_category):\n",
    "        return 'education'\n",
    "    else:\n",
    "        \n",
    "        return 'other'"
   ]
  },
  {
   "cell_type": "code",
   "execution_count": 193,
   "metadata": {
    "ExecuteTime": {
     "end_time": "2022-10-23T11:24:29.296425Z",
     "start_time": "2022-10-23T11:24:20.171074Z"
    }
   },
   "outputs": [
    {
     "name": "stdout",
     "output_type": "stream",
     "text": [
      "assets       13242\n",
      "other         4672\n",
      "education     3610\n",
      "Name: purpose_category, dtype: int64\n"
     ]
    }
   ],
   "source": [
    "df['purpose_category'] = df.purpose.apply(lemmatization_func)\n",
    "print(df.purpose_category.value_counts())"
   ]
  },
  {
   "cell_type": "code",
   "execution_count": 194,
   "metadata": {
    "ExecuteTime": {
     "end_time": "2022-10-23T11:24:29.375812Z",
     "start_time": "2022-10-23T11:24:29.302365Z"
    }
   },
   "outputs": [
    {
     "data": {
      "text/html": [
       "<div>\n",
       "<style scoped>\n",
       "    .dataframe tbody tr th:only-of-type {\n",
       "        vertical-align: middle;\n",
       "    }\n",
       "\n",
       "    .dataframe tbody tr th {\n",
       "        vertical-align: top;\n",
       "    }\n",
       "\n",
       "    .dataframe thead th {\n",
       "        text-align: right;\n",
       "    }\n",
       "</style>\n",
       "<table border=\"1\" class=\"dataframe\">\n",
       "  <thead>\n",
       "    <tr style=\"text-align: right;\">\n",
       "      <th></th>\n",
       "      <th>purpose</th>\n",
       "      <th>debt</th>\n",
       "      <th>purpose_category</th>\n",
       "    </tr>\n",
       "  </thead>\n",
       "  <tbody>\n",
       "    <tr>\n",
       "      <th>0</th>\n",
       "      <td>purchase of the house</td>\n",
       "      <td>0</td>\n",
       "      <td>assets</td>\n",
       "    </tr>\n",
       "    <tr>\n",
       "      <th>1</th>\n",
       "      <td>car purchase</td>\n",
       "      <td>0</td>\n",
       "      <td>assets</td>\n",
       "    </tr>\n",
       "    <tr>\n",
       "      <th>2</th>\n",
       "      <td>purchase of the house</td>\n",
       "      <td>0</td>\n",
       "      <td>assets</td>\n",
       "    </tr>\n",
       "    <tr>\n",
       "      <th>3</th>\n",
       "      <td>supplementary education</td>\n",
       "      <td>0</td>\n",
       "      <td>education</td>\n",
       "    </tr>\n",
       "    <tr>\n",
       "      <th>4</th>\n",
       "      <td>to have a wedding</td>\n",
       "      <td>0</td>\n",
       "      <td>other</td>\n",
       "    </tr>\n",
       "    <tr>\n",
       "      <th>5</th>\n",
       "      <td>purchase of the house</td>\n",
       "      <td>0</td>\n",
       "      <td>assets</td>\n",
       "    </tr>\n",
       "    <tr>\n",
       "      <th>6</th>\n",
       "      <td>housing transactions</td>\n",
       "      <td>0</td>\n",
       "      <td>other</td>\n",
       "    </tr>\n",
       "    <tr>\n",
       "      <th>7</th>\n",
       "      <td>education</td>\n",
       "      <td>0</td>\n",
       "      <td>education</td>\n",
       "    </tr>\n",
       "    <tr>\n",
       "      <th>8</th>\n",
       "      <td>having a wedding</td>\n",
       "      <td>0</td>\n",
       "      <td>other</td>\n",
       "    </tr>\n",
       "    <tr>\n",
       "      <th>9</th>\n",
       "      <td>purchase of the house for my family</td>\n",
       "      <td>0</td>\n",
       "      <td>assets</td>\n",
       "    </tr>\n",
       "  </tbody>\n",
       "</table>\n",
       "</div>"
      ],
      "text/plain": [
       "                               purpose  debt purpose_category\n",
       "0                purchase of the house     0           assets\n",
       "1                         car purchase     0           assets\n",
       "2                purchase of the house     0           assets\n",
       "3              supplementary education     0        education\n",
       "4                    to have a wedding     0            other\n",
       "5                purchase of the house     0           assets\n",
       "6                 housing transactions     0            other\n",
       "7                            education     0        education\n",
       "8                     having a wedding     0            other\n",
       "9  purchase of the house for my family     0           assets"
      ]
     },
     "metadata": {},
     "output_type": "display_data"
    }
   ],
   "source": [
    "df4 = df[['purpose','debt','purpose_category']]\n",
    "display(df4.head(10))\n",
    "\n"
   ]
  },
  {
   "cell_type": "markdown",
   "metadata": {},
   "source": [
    "## Checking the Hypotheses\n"
   ]
  },
  {
   "cell_type": "markdown",
   "metadata": {},
   "source": [
    "**Is there a correlation between having children and paying back on time?**"
   ]
  },
  {
   "cell_type": "code",
   "execution_count": 195,
   "metadata": {
    "ExecuteTime": {
     "end_time": "2022-10-23T11:24:29.501437Z",
     "start_time": "2022-10-23T11:24:29.385759Z"
    }
   },
   "outputs": [
    {
     "data": {
      "text/plain": [
       "child_category  debt\n",
       "1-3 children    0        6584\n",
       "                1         666\n",
       "child addicts   0         114\n",
       "                1          12\n",
       "childless       0       13085\n",
       "                1        1063\n",
       "Name: debt, dtype: int64"
      ]
     },
     "metadata": {},
     "output_type": "display_data"
    },
    {
     "data": {
      "text/html": [
       "<div>\n",
       "<style scoped>\n",
       "    .dataframe tbody tr th:only-of-type {\n",
       "        vertical-align: middle;\n",
       "    }\n",
       "\n",
       "    .dataframe tbody tr th {\n",
       "        vertical-align: top;\n",
       "    }\n",
       "\n",
       "    .dataframe thead th {\n",
       "        text-align: right;\n",
       "    }\n",
       "</style>\n",
       "<table border=\"1\" class=\"dataframe\">\n",
       "  <thead>\n",
       "    <tr style=\"text-align: right;\">\n",
       "      <th></th>\n",
       "      <th>child_category</th>\n",
       "      <th>debt</th>\n",
       "    </tr>\n",
       "  </thead>\n",
       "  <tbody>\n",
       "    <tr>\n",
       "      <th>2</th>\n",
       "      <td>childless</td>\n",
       "      <td>0.075134</td>\n",
       "    </tr>\n",
       "    <tr>\n",
       "      <th>0</th>\n",
       "      <td>1-3 children</td>\n",
       "      <td>0.091862</td>\n",
       "    </tr>\n",
       "    <tr>\n",
       "      <th>1</th>\n",
       "      <td>child addicts</td>\n",
       "      <td>0.095238</td>\n",
       "    </tr>\n",
       "  </tbody>\n",
       "</table>\n",
       "</div>"
      ],
      "text/plain": [
       "  child_category      debt\n",
       "2      childless  0.075134\n",
       "0   1-3 children  0.091862\n",
       "1  child addicts  0.095238"
      ]
     },
     "metadata": {},
     "output_type": "display_data"
    }
   ],
   "source": [
    "# Check the children data and paying back on time\n",
    "display(df1.groupby('child_category')['debt'].value_counts())\n",
    "\n",
    "\n",
    "# Calculating default-rate based on the number of children\n",
    "display(df.groupby(['child_category'])['debt'].mean().reset_index().sort_values(by='debt'))\n",
    "\n",
    "\n"
   ]
  },
  {
   "cell_type": "markdown",
   "metadata": {},
   "source": [
    "**Conclusion**\n",
    "\n",
    "looks like childless people have the least trouble paying their debts, which makes sense as less children means less expenses; forseen and unforseen. \n",
    "also notice slight rise in debt as number of children rise. there is a correlation between having children and paying debt on time.\n"
   ]
  },
  {
   "cell_type": "markdown",
   "metadata": {},
   "source": [
    "**Is there a correlation between family status and paying back on time?**"
   ]
  },
  {
   "cell_type": "code",
   "execution_count": 196,
   "metadata": {
    "ExecuteTime": {
     "end_time": "2022-10-23T11:24:29.659020Z",
     "start_time": "2022-10-23T11:24:29.514406Z"
    }
   },
   "outputs": [
    {
     "data": {
      "text/plain": [
       "family_status      debt\n",
       "civil partnership  0        3788\n",
       "                   1         388\n",
       "divorced           0        1110\n",
       "                   1          85\n",
       "married            0       11449\n",
       "                   1         931\n",
       "unmarried          0        2539\n",
       "                   1         274\n",
       "widow / widower    0         897\n",
       "                   1          63\n",
       "Name: debt, dtype: int64"
      ]
     },
     "metadata": {},
     "output_type": "display_data"
    },
    {
     "data": {
      "text/html": [
       "<div>\n",
       "<style scoped>\n",
       "    .dataframe tbody tr th:only-of-type {\n",
       "        vertical-align: middle;\n",
       "    }\n",
       "\n",
       "    .dataframe tbody tr th {\n",
       "        vertical-align: top;\n",
       "    }\n",
       "\n",
       "    .dataframe thead th {\n",
       "        text-align: right;\n",
       "    }\n",
       "</style>\n",
       "<table border=\"1\" class=\"dataframe\">\n",
       "  <thead>\n",
       "    <tr style=\"text-align: right;\">\n",
       "      <th></th>\n",
       "      <th>family_category</th>\n",
       "      <th>debt</th>\n",
       "    </tr>\n",
       "  </thead>\n",
       "  <tbody>\n",
       "    <tr>\n",
       "      <th>1</th>\n",
       "      <td>partners</td>\n",
       "      <td>0.075202</td>\n",
       "    </tr>\n",
       "    <tr>\n",
       "      <th>0</th>\n",
       "      <td>lone wolves</td>\n",
       "      <td>0.088583</td>\n",
       "    </tr>\n",
       "  </tbody>\n",
       "</table>\n",
       "</div>"
      ],
      "text/plain": [
       "  family_category      debt\n",
       "1        partners  0.075202\n",
       "0     lone wolves  0.088583"
      ]
     },
     "execution_count": 196,
     "metadata": {},
     "output_type": "execute_result"
    }
   ],
   "source": [
    "# Checking the family status data and paying back on time\n",
    "display(df2.groupby('family_status')['debt'].value_counts())\n",
    "\n",
    "\n",
    "# Calculating default-rate based on family status\n",
    "df.groupby(['family_category'])['debt'].mean().reset_index().sort_values(by='debt')\n",
    "\n"
   ]
  },
  {
   "cell_type": "markdown",
   "metadata": {},
   "source": [
    "**Conclusion**\n",
    "\n",
    "notice the partners have less debt. a good partnership is greater than the sum of its parts, we definitely see a correlation there."
   ]
  },
  {
   "cell_type": "markdown",
   "metadata": {},
   "source": [
    "**Is there a correlation between income level and paying back on time?**"
   ]
  },
  {
   "cell_type": "code",
   "execution_count": 197,
   "metadata": {
    "ExecuteTime": {
     "end_time": "2022-10-23T11:24:29.767724Z",
     "start_time": "2022-10-23T11:24:29.667993Z"
    }
   },
   "outputs": [
    {
     "data": {
      "text/plain": [
       "income_category        debt\n",
       "currently not working  0        3642\n",
       "                       1         218\n",
       "regular income         0       11431\n",
       "                       1        1147\n",
       "risk takers            0        4710\n",
       "                       1         376\n",
       "Name: debt, dtype: int64"
      ]
     },
     "metadata": {},
     "output_type": "display_data"
    },
    {
     "data": {
      "text/html": [
       "<div>\n",
       "<style scoped>\n",
       "    .dataframe tbody tr th:only-of-type {\n",
       "        vertical-align: middle;\n",
       "    }\n",
       "\n",
       "    .dataframe tbody tr th {\n",
       "        vertical-align: top;\n",
       "    }\n",
       "\n",
       "    .dataframe thead th {\n",
       "        text-align: right;\n",
       "    }\n",
       "</style>\n",
       "<table border=\"1\" class=\"dataframe\">\n",
       "  <thead>\n",
       "    <tr style=\"text-align: right;\">\n",
       "      <th></th>\n",
       "      <th>income_category</th>\n",
       "      <th>debt</th>\n",
       "    </tr>\n",
       "  </thead>\n",
       "  <tbody>\n",
       "    <tr>\n",
       "      <th>0</th>\n",
       "      <td>currently not working</td>\n",
       "      <td>0.056477</td>\n",
       "    </tr>\n",
       "    <tr>\n",
       "      <th>2</th>\n",
       "      <td>risk takers</td>\n",
       "      <td>0.073928</td>\n",
       "    </tr>\n",
       "    <tr>\n",
       "      <th>1</th>\n",
       "      <td>regular income</td>\n",
       "      <td>0.091191</td>\n",
       "    </tr>\n",
       "  </tbody>\n",
       "</table>\n",
       "</div>"
      ],
      "text/plain": [
       "         income_category      debt\n",
       "0  currently not working  0.056477\n",
       "2            risk takers  0.073928\n",
       "1         regular income  0.091191"
      ]
     },
     "execution_count": 197,
     "metadata": {},
     "output_type": "execute_result"
    }
   ],
   "source": [
    "# Checking the income level data and paying back on time\n",
    "display(df3.groupby('income_category')['debt'].value_counts())\n",
    "\n",
    "\n",
    "\n",
    "# Calculating default-rate based on income level\n",
    "\n",
    "df.groupby(['income_category'])['debt'].mean().reset_index().sort_values(by='debt')\n",
    "\n"
   ]
  },
  {
   "cell_type": "markdown",
   "metadata": {},
   "source": [
    "**Conclusion**\n",
    "\n",
    "looks like employees  are the real risk takers, taking on debt and defaulting on it more than the businessmen and entrepreneurs. there's some correlation although not what i'd expected. looks like non workers are more careful with their money."
   ]
  },
  {
   "cell_type": "markdown",
   "metadata": {},
   "source": [
    "**How does credit purpose affect the default rate?**"
   ]
  },
  {
   "cell_type": "code",
   "execution_count": 198,
   "metadata": {
    "ExecuteTime": {
     "end_time": "2022-10-23T11:24:29.925305Z",
     "start_time": "2022-10-23T11:24:29.778697Z"
    }
   },
   "outputs": [
    {
     "data": {
      "text/plain": [
       "purpose_category  debt\n",
       "assets            0       12186\n",
       "                  1        1056\n",
       "education         0        3279\n",
       "                  1         331\n",
       "other             0        4318\n",
       "                  1         354\n",
       "Name: debt, dtype: int64"
      ]
     },
     "metadata": {},
     "output_type": "display_data"
    },
    {
     "data": {
      "text/html": [
       "<div>\n",
       "<style scoped>\n",
       "    .dataframe tbody tr th:only-of-type {\n",
       "        vertical-align: middle;\n",
       "    }\n",
       "\n",
       "    .dataframe tbody tr th {\n",
       "        vertical-align: top;\n",
       "    }\n",
       "\n",
       "    .dataframe thead th {\n",
       "        text-align: right;\n",
       "    }\n",
       "</style>\n",
       "<table border=\"1\" class=\"dataframe\">\n",
       "  <thead>\n",
       "    <tr style=\"text-align: right;\">\n",
       "      <th></th>\n",
       "      <th>purpose_category</th>\n",
       "      <th>debt</th>\n",
       "    </tr>\n",
       "  </thead>\n",
       "  <tbody>\n",
       "    <tr>\n",
       "      <th>2</th>\n",
       "      <td>other</td>\n",
       "      <td>0.075771</td>\n",
       "    </tr>\n",
       "    <tr>\n",
       "      <th>0</th>\n",
       "      <td>assets</td>\n",
       "      <td>0.079746</td>\n",
       "    </tr>\n",
       "    <tr>\n",
       "      <th>1</th>\n",
       "      <td>education</td>\n",
       "      <td>0.091690</td>\n",
       "    </tr>\n",
       "  </tbody>\n",
       "</table>\n",
       "</div>"
      ],
      "text/plain": [
       "  purpose_category      debt\n",
       "2            other  0.075771\n",
       "0           assets  0.079746\n",
       "1        education  0.091690"
      ]
     },
     "execution_count": 198,
     "metadata": {},
     "output_type": "execute_result"
    }
   ],
   "source": [
    "# Checking the percentages for default rate for each credit purpose and analyzing them\n",
    "display(df4.groupby('purpose_category')['debt'].value_counts())\n",
    "\n",
    "df.groupby(['purpose_category'])['debt'].mean().reset_index().sort_values(by='debt')\n",
    "\n"
   ]
  },
  {
   "cell_type": "markdown",
   "metadata": {},
   "source": [
    "**Conclusion**\n",
    "\n",
    "by the default rates above we see people who are buying assets as the most unlikely to default. perhaps people who are taking a loan for educational purposes don't always end up increasing their potential for income.\n"
   ]
  },
  {
   "cell_type": "markdown",
   "metadata": {},
   "source": [
    "# General Conclusion \n",
    "\n",
    "\n",
    "income level credit purpose\n",
    "\n",
    "in this project we were to assess whether or not there's a connection between income level, credit purpose, number of children, family type and the default rate. \n",
    "\n",
    "preprocessing - \n",
    "in the education column there were too many unique values, caused by different registers which i fixed by str.lower method.\n",
    "\n",
    "in the children column there were a few strange artifacts like 20 or -1, which may have been caused by server errors. i decided to just fill in with mean since the regular values all fall in the range of 0-5 so i treated the date as being pretty flat (no outliers)\n",
    "\n",
    "days employed and total income had matching missing values, and lots of them which makes me believe there's something wrong with the gathering of the data or how it's being logged. will have to notify data engineers. on the same note days employed also had negative values which were fixed with boolean indexing. also changed to int instead of float values.\n",
    "\n",
    "gender had one XNA value which was dropped (doesn't really matter since it's one value, and it really could be F or M) we also didn't use these values in our analysis.\n",
    "\n",
    "purposes - many duplicates, similar purposes. hard work categorizing them by lemmatization. i would ask the data engineers to have a multi-choice question instead of open ended, that way we can more easily analyze, no duplicates, just categories that interest the bank.\n",
    "\n",
    "categorization:\n",
    "\n",
    "children - i've decided to categorize by childless, 1-2 children and 3-5 children. i tried 1-3 and 4-5 but i saw that the 4-5 children was really small, i wanted the sample to be bigger. so i moved the 3 children to the middle category.\n",
    "\n",
    "family status - what mattered to me in the categorization is if the customer is living alone or as a strong financial unit together with another person, so i categorized by single people as opposed to partnerships.\n",
    "\n",
    "income type - in my eyes businessmen and entrepreneurs are risk takers, employees are safe-side-leaners, and non workers have lower income.\n",
    "\n",
    "purposes - housing and buying cars used or new got categorized as assets. i think of assets like investments, so i'd imagine this purpose category as being less risky than other expenses like weddings or renovations. and there's the education category which is also like an investment but not a physical asset.\n",
    "\n",
    "\n",
    "\n",
    "\n",
    "\n",
    "\n",
    "\n",
    "\n",
    "\n",
    "number of children vs default rate - childless people on average defaulted less than the other categories with more children. i would say it's because of the amount of variables they handle in their lives, as in people with more children have more random events and expenses they have to deal with as opposed to a childless person. medium correlation\n",
    "\n",
    "marital status vs default rate - difference was pretty small between the loners and the partners, in favor of the partners. in the partners we take into account people with and without children (which showed a stronger correlation). the categories are pretty broad and if we take the children amount correlation, and the fact that the categories mix childless with child-havers into consideration, it might explain why the correlation here is so weak.\n",
    "\n",
    "income category vs default rate - the 'risk taker' category includes customers with business as the income type. which according to our grouped data default less than employed people! possibly because people who run businesses need to have financial know-how and so plan their repayment better than the employees who (in theory) worry less about financial matters, as their income is steady. the no income people includes retirees, on leave, and students. their income is probably low, so they might be taking loans more seriously and with a more concrete plan to repay, as there is less margin for error. definitely a strong correlation here.\n",
    "\n",
    "loan purpose vs default rate - the education category loses here possibly because it's such a relatively small category, so more outliers affect the default rate for the category. most of the customers apply for loans to buy houses and cars, physical assets. perhaps it's harder to convert a mental asset (education) to profit to repay a loan. either that or it's harder to actually acquire the education (not everyone who starts studying for a degree actually get the degree in the end). would say medium low correlation\n",
    "\n",
    "overall conclusion\n",
    "if i had to put my money on one category, it'd be income type. runner-up is number of children. these would be my main parameters to look at to build a credit score. in conjunction with actual data on credit worthiness these categories would probably give an accurate view of repayment ability.\n",
    "\n",
    "issues in the data need to be reported - negative and missing days_employed and missing total_income values.\n",
    "\n",
    "\n"
   ]
  }
 ],
 "metadata": {
  "ExecuteTimeLog": [
   {
    "duration": 2741,
    "start_time": "2021-10-21T01:08:49.480Z"
   },
   {
    "duration": 52,
    "start_time": "2021-10-21T01:08:53.315Z"
   },
   {
    "duration": 49,
    "start_time": "2021-10-21T01:08:57.432Z"
   },
   {
    "duration": 70,
    "start_time": "2021-10-21T01:09:07.706Z"
   },
   {
    "duration": 623,
    "start_time": "2022-01-12T21:49:59.709Z"
   },
   {
    "duration": 88,
    "start_time": "2022-01-12T21:50:09.100Z"
   },
   {
    "duration": 52,
    "start_time": "2022-01-12T21:50:19.772Z"
   },
   {
    "duration": 307,
    "start_time": "2022-01-12T22:19:59.311Z"
   },
   {
    "duration": 101,
    "start_time": "2022-01-12T22:20:08.676Z"
   },
   {
    "duration": 82,
    "start_time": "2022-01-12T22:20:13.896Z"
   },
   {
    "duration": 4,
    "start_time": "2022-01-12T22:20:18.137Z"
   },
   {
    "duration": 9,
    "start_time": "2022-01-12T22:23:10.037Z"
   },
   {
    "duration": 296,
    "start_time": "2022-01-13T15:39:16.588Z"
   },
   {
    "duration": 958,
    "start_time": "2022-01-13T15:39:39.340Z"
   },
   {
    "duration": 4,
    "start_time": "2022-01-13T15:39:40.300Z"
   },
   {
    "duration": 39,
    "start_time": "2022-01-13T15:39:40.306Z"
   },
   {
    "duration": 25,
    "start_time": "2022-01-13T15:39:40.347Z"
   },
   {
    "duration": 18,
    "start_time": "2022-01-13T15:39:40.374Z"
   },
   {
    "duration": 12,
    "start_time": "2022-01-13T15:39:40.394Z"
   },
   {
    "duration": 12,
    "start_time": "2022-01-13T15:39:40.408Z"
   },
   {
    "duration": 20,
    "start_time": "2022-01-13T15:39:40.423Z"
   },
   {
    "duration": 18,
    "start_time": "2022-01-13T15:39:40.445Z"
   },
   {
    "duration": 18,
    "start_time": "2022-01-13T15:39:40.465Z"
   },
   {
    "duration": 14,
    "start_time": "2022-01-13T15:39:40.485Z"
   },
   {
    "duration": 20,
    "start_time": "2022-01-13T15:39:40.501Z"
   },
   {
    "duration": 18,
    "start_time": "2022-01-13T15:39:40.523Z"
   },
   {
    "duration": 8,
    "start_time": "2022-01-13T15:39:40.543Z"
   },
   {
    "duration": 5,
    "start_time": "2022-01-13T15:39:40.553Z"
   },
   {
    "duration": 5,
    "start_time": "2022-01-13T15:39:40.560Z"
   },
   {
    "duration": 7,
    "start_time": "2022-01-13T15:39:40.567Z"
   },
   {
    "duration": 8,
    "start_time": "2022-01-13T15:39:40.576Z"
   },
   {
    "duration": 6,
    "start_time": "2022-01-13T15:39:40.585Z"
   },
   {
    "duration": 6,
    "start_time": "2022-01-13T15:39:40.592Z"
   },
   {
    "duration": 6,
    "start_time": "2022-01-13T15:39:40.600Z"
   },
   {
    "duration": 5,
    "start_time": "2022-01-13T15:39:40.608Z"
   },
   {
    "duration": 5,
    "start_time": "2022-01-13T15:39:40.617Z"
   },
   {
    "duration": 37,
    "start_time": "2022-01-13T15:39:40.624Z"
   },
   {
    "duration": 2,
    "start_time": "2022-01-13T15:39:40.663Z"
   },
   {
    "duration": 7,
    "start_time": "2022-01-13T15:39:40.666Z"
   },
   {
    "duration": 7,
    "start_time": "2022-01-13T15:39:40.675Z"
   },
   {
    "duration": 6,
    "start_time": "2022-01-13T15:39:40.684Z"
   },
   {
    "duration": 8,
    "start_time": "2022-01-13T15:39:40.691Z"
   },
   {
    "duration": 5,
    "start_time": "2022-01-13T15:39:40.700Z"
   },
   {
    "duration": 8,
    "start_time": "2022-01-13T15:39:40.706Z"
   },
   {
    "duration": 7,
    "start_time": "2022-01-13T15:39:40.716Z"
   },
   {
    "duration": 6,
    "start_time": "2022-01-13T15:39:40.724Z"
   },
   {
    "duration": 29,
    "start_time": "2022-01-13T15:39:40.732Z"
   },
   {
    "duration": 3,
    "start_time": "2022-01-13T15:39:40.763Z"
   },
   {
    "duration": 8,
    "start_time": "2022-01-13T15:39:40.767Z"
   },
   {
    "duration": 10,
    "start_time": "2022-01-13T15:39:40.776Z"
   },
   {
    "duration": 10,
    "start_time": "2022-01-13T15:39:40.788Z"
   },
   {
    "duration": 7,
    "start_time": "2022-01-13T15:39:40.800Z"
   },
   {
    "duration": 12,
    "start_time": "2022-01-13T15:39:40.809Z"
   },
   {
    "duration": 14,
    "start_time": "2022-01-13T15:39:40.822Z"
   },
   {
    "duration": 10,
    "start_time": "2022-01-13T15:39:40.838Z"
   },
   {
    "duration": 5,
    "start_time": "2022-01-13T15:39:40.850Z"
   },
   {
    "duration": 5,
    "start_time": "2022-01-13T15:39:40.857Z"
   },
   {
    "duration": 6,
    "start_time": "2022-01-13T15:39:40.863Z"
   },
   {
    "duration": 6,
    "start_time": "2022-01-13T15:39:40.871Z"
   },
   {
    "duration": 8,
    "start_time": "2022-01-13T15:39:40.878Z"
   },
   {
    "duration": 6,
    "start_time": "2022-01-13T15:39:40.888Z"
   },
   {
    "duration": 19,
    "start_time": "2022-01-13T15:39:40.896Z"
   },
   {
    "duration": 17,
    "start_time": "2022-01-13T15:39:40.917Z"
   },
   {
    "duration": 13,
    "start_time": "2022-01-13T15:39:40.935Z"
   },
   {
    "duration": 8,
    "start_time": "2022-01-13T15:39:40.951Z"
   },
   {
    "duration": 19,
    "start_time": "2022-01-13T15:39:40.961Z"
   },
   {
    "duration": 14,
    "start_time": "2022-01-13T15:39:40.981Z"
   },
   {
    "duration": 25,
    "start_time": "2022-01-13T15:39:40.996Z"
   },
   {
    "duration": 38,
    "start_time": "2022-01-13T15:39:41.023Z"
   },
   {
    "duration": 27,
    "start_time": "2022-01-13T15:39:41.063Z"
   },
   {
    "duration": 22,
    "start_time": "2022-01-13T15:39:41.092Z"
   },
   {
    "duration": 11,
    "start_time": "2022-01-13T15:39:41.116Z"
   },
   {
    "duration": 39,
    "start_time": "2022-01-13T15:39:41.129Z"
   },
   {
    "duration": 7,
    "start_time": "2022-01-13T15:39:41.170Z"
   },
   {
    "duration": 5,
    "start_time": "2022-01-13T15:39:41.179Z"
   },
   {
    "duration": 6,
    "start_time": "2022-01-13T15:39:41.185Z"
   },
   {
    "duration": 6,
    "start_time": "2022-01-13T15:39:41.193Z"
   },
   {
    "duration": 5,
    "start_time": "2022-01-13T15:39:41.200Z"
   },
   {
    "duration": 7,
    "start_time": "2022-01-13T15:39:41.207Z"
   },
   {
    "duration": 13,
    "start_time": "2022-01-13T15:39:41.215Z"
   },
   {
    "duration": 11,
    "start_time": "2022-01-13T15:39:41.229Z"
   },
   {
    "duration": 7,
    "start_time": "2022-01-13T15:39:41.242Z"
   },
   {
    "duration": 8,
    "start_time": "2022-01-13T15:39:41.251Z"
   },
   {
    "duration": 8,
    "start_time": "2022-01-13T15:39:41.260Z"
   },
   {
    "duration": 7,
    "start_time": "2022-01-13T15:51:00.845Z"
   },
   {
    "duration": 279,
    "start_time": "2022-01-13T15:51:25.764Z"
   },
   {
    "duration": 6,
    "start_time": "2022-01-13T15:52:20.575Z"
   },
   {
    "duration": 6,
    "start_time": "2022-01-13T15:54:22.205Z"
   },
   {
    "duration": 8,
    "start_time": "2022-01-13T15:56:30.997Z"
   },
   {
    "duration": 9,
    "start_time": "2022-01-13T15:56:48.714Z"
   },
   {
    "duration": 9,
    "start_time": "2022-01-13T16:00:03.387Z"
   },
   {
    "duration": 6,
    "start_time": "2022-01-13T16:02:59.069Z"
   },
   {
    "duration": 321,
    "start_time": "2022-01-13T17:33:04.150Z"
   },
   {
    "duration": 109,
    "start_time": "2022-01-13T17:33:18.513Z"
   },
   {
    "duration": 265,
    "start_time": "2022-01-13T17:33:31.452Z"
   },
   {
    "duration": 10,
    "start_time": "2022-01-13T17:33:55.905Z"
   },
   {
    "duration": 249,
    "start_time": "2022-01-15T15:09:19.225Z"
   },
   {
    "duration": 6,
    "start_time": "2022-01-15T15:10:34.019Z"
   },
   {
    "duration": 88,
    "start_time": "2022-01-15T15:10:49.095Z"
   },
   {
    "duration": 91,
    "start_time": "2022-01-15T15:11:01.655Z"
   },
   {
    "duration": 264,
    "start_time": "2022-01-15T15:11:19.882Z"
   },
   {
    "duration": 7,
    "start_time": "2022-01-15T15:11:32.926Z"
   },
   {
    "duration": 149,
    "start_time": "2022-01-15T15:15:16.191Z"
   },
   {
    "duration": 91,
    "start_time": "2022-01-15T15:15:37.856Z"
   },
   {
    "duration": 15,
    "start_time": "2022-01-15T15:15:48.754Z"
   },
   {
    "duration": 644,
    "start_time": "2022-01-15T15:16:46.517Z"
   },
   {
    "duration": 10,
    "start_time": "2022-01-15T15:16:55.764Z"
   },
   {
    "duration": 7,
    "start_time": "2022-01-15T15:17:24.929Z"
   },
   {
    "duration": 87,
    "start_time": "2022-01-15T15:20:58.278Z"
   },
   {
    "duration": 81,
    "start_time": "2022-01-15T15:21:57.146Z"
   },
   {
    "duration": 255,
    "start_time": "2022-01-15T15:22:03.644Z"
   },
   {
    "duration": 89,
    "start_time": "2022-01-15T15:22:19.230Z"
   },
   {
    "duration": 84,
    "start_time": "2022-01-15T15:22:32.485Z"
   },
   {
    "duration": 83,
    "start_time": "2022-01-15T15:22:54.173Z"
   },
   {
    "duration": 119,
    "start_time": "2022-01-15T15:23:01.122Z"
   },
   {
    "duration": 80,
    "start_time": "2022-01-15T15:23:11.478Z"
   },
   {
    "duration": 7,
    "start_time": "2022-01-15T15:23:22.983Z"
   },
   {
    "duration": 8,
    "start_time": "2022-01-15T15:23:38.938Z"
   },
   {
    "duration": 15,
    "start_time": "2022-01-15T15:32:25.585Z"
   },
   {
    "duration": 8,
    "start_time": "2022-01-15T15:33:05.162Z"
   },
   {
    "duration": 6,
    "start_time": "2022-01-15T15:33:58.069Z"
   },
   {
    "duration": 9,
    "start_time": "2022-01-15T15:35:48.178Z"
   },
   {
    "duration": 86,
    "start_time": "2022-01-15T16:06:51.284Z"
   },
   {
    "duration": 10,
    "start_time": "2022-01-15T16:06:56.067Z"
   },
   {
    "duration": 9,
    "start_time": "2022-01-15T16:07:10.092Z"
   },
   {
    "duration": 6,
    "start_time": "2022-01-15T16:11:13.282Z"
   },
   {
    "duration": 9,
    "start_time": "2022-01-15T16:11:32.817Z"
   },
   {
    "duration": 15,
    "start_time": "2022-01-15T16:12:29.694Z"
   },
   {
    "duration": 11,
    "start_time": "2022-01-15T16:12:41.408Z"
   },
   {
    "duration": 18,
    "start_time": "2022-01-15T20:17:08.975Z"
   },
   {
    "duration": 8,
    "start_time": "2022-01-15T20:17:18.362Z"
   },
   {
    "duration": 5,
    "start_time": "2022-01-15T20:17:32.120Z"
   },
   {
    "duration": 11,
    "start_time": "2022-01-15T21:27:54.757Z"
   },
   {
    "duration": 3348,
    "start_time": "2022-01-15T21:29:22.298Z"
   },
   {
    "duration": 286,
    "start_time": "2022-01-15T21:29:55.392Z"
   },
   {
    "duration": 82,
    "start_time": "2022-01-15T21:30:14.387Z"
   },
   {
    "duration": 13,
    "start_time": "2022-01-15T21:30:18.520Z"
   },
   {
    "duration": 8,
    "start_time": "2022-01-15T21:30:29.528Z"
   },
   {
    "duration": 8,
    "start_time": "2022-01-15T21:30:49.438Z"
   },
   {
    "duration": 10,
    "start_time": "2022-01-15T21:31:06.094Z"
   },
   {
    "duration": 8,
    "start_time": "2022-01-15T21:31:23.127Z"
   },
   {
    "duration": 3480,
    "start_time": "2022-01-15T21:31:53.784Z"
   },
   {
    "duration": 9,
    "start_time": "2022-01-15T21:32:00.214Z"
   },
   {
    "duration": 8,
    "start_time": "2022-01-15T21:32:44.507Z"
   },
   {
    "duration": 3444,
    "start_time": "2022-01-15T21:36:05.896Z"
   },
   {
    "duration": 8,
    "start_time": "2022-01-15T21:36:24.912Z"
   },
   {
    "duration": 8,
    "start_time": "2022-01-15T21:40:36.117Z"
   },
   {
    "duration": 9,
    "start_time": "2022-01-15T23:03:43.407Z"
   },
   {
    "duration": 8,
    "start_time": "2022-01-15T23:04:04.877Z"
   },
   {
    "duration": 8,
    "start_time": "2022-01-15T23:04:13.114Z"
   },
   {
    "duration": 8,
    "start_time": "2022-01-15T23:04:54.627Z"
   },
   {
    "duration": 14,
    "start_time": "2022-01-15T23:05:42.383Z"
   },
   {
    "duration": 10,
    "start_time": "2022-01-15T23:06:36.056Z"
   },
   {
    "duration": 11,
    "start_time": "2022-01-15T23:07:26.476Z"
   },
   {
    "duration": 11,
    "start_time": "2022-01-15T23:08:49.383Z"
   },
   {
    "duration": 9,
    "start_time": "2022-01-15T23:09:24.525Z"
   },
   {
    "duration": 10,
    "start_time": "2022-01-15T23:09:34.401Z"
   },
   {
    "duration": 9,
    "start_time": "2022-01-15T23:34:19.003Z"
   },
   {
    "duration": 9,
    "start_time": "2022-01-15T23:35:28.445Z"
   },
   {
    "duration": 13,
    "start_time": "2022-01-15T23:37:32.000Z"
   },
   {
    "duration": 12,
    "start_time": "2022-01-15T23:38:35.107Z"
   },
   {
    "duration": 12,
    "start_time": "2022-01-15T23:39:02.165Z"
   },
   {
    "duration": 10,
    "start_time": "2022-01-15T23:39:13.703Z"
   },
   {
    "duration": 12,
    "start_time": "2022-01-15T23:39:22.395Z"
   },
   {
    "duration": 8,
    "start_time": "2022-01-16T01:46:23.476Z"
   },
   {
    "duration": 6283,
    "start_time": "2022-01-16T01:51:57.981Z"
   },
   {
    "duration": 290,
    "start_time": "2022-01-16T01:52:12.095Z"
   },
   {
    "duration": 1677,
    "start_time": "2022-01-16T01:52:25.988Z"
   },
   {
    "duration": 15,
    "start_time": "2022-01-16T01:54:18.744Z"
   },
   {
    "duration": 18,
    "start_time": "2022-01-16T01:54:45.642Z"
   },
   {
    "duration": 11,
    "start_time": "2022-01-16T01:55:52.153Z"
   },
   {
    "duration": 9,
    "start_time": "2022-01-16T01:56:37.821Z"
   },
   {
    "duration": 52,
    "start_time": "2022-01-16T01:57:24.074Z"
   },
   {
    "duration": 3,
    "start_time": "2022-01-16T01:57:24.128Z"
   },
   {
    "duration": 10,
    "start_time": "2022-01-16T01:57:24.133Z"
   },
   {
    "duration": 6,
    "start_time": "2022-01-16T01:57:24.146Z"
   },
   {
    "duration": 8,
    "start_time": "2022-01-16T01:57:24.427Z"
   },
   {
    "duration": 7,
    "start_time": "2022-01-16T01:57:24.442Z"
   },
   {
    "duration": 10,
    "start_time": "2022-01-16T01:57:24.553Z"
   },
   {
    "duration": 7,
    "start_time": "2022-01-16T01:57:24.565Z"
   },
   {
    "duration": 8,
    "start_time": "2022-01-16T01:57:24.667Z"
   },
   {
    "duration": 10,
    "start_time": "2022-01-16T01:57:24.833Z"
   },
   {
    "duration": 3,
    "start_time": "2022-01-16T01:57:24.922Z"
   },
   {
    "duration": 7,
    "start_time": "2022-01-16T01:57:25.032Z"
   },
   {
    "duration": 50,
    "start_time": "2022-01-16T01:57:40.909Z"
   },
   {
    "duration": 2,
    "start_time": "2022-01-16T01:57:40.961Z"
   },
   {
    "duration": 8,
    "start_time": "2022-01-16T01:57:40.966Z"
   },
   {
    "duration": 6,
    "start_time": "2022-01-16T01:57:40.976Z"
   },
   {
    "duration": 7,
    "start_time": "2022-01-16T01:57:40.984Z"
   },
   {
    "duration": 6,
    "start_time": "2022-01-16T01:57:40.993Z"
   },
   {
    "duration": 10,
    "start_time": "2022-01-16T01:57:41.004Z"
   },
   {
    "duration": 7,
    "start_time": "2022-01-16T01:57:41.063Z"
   },
   {
    "duration": 7,
    "start_time": "2022-01-16T01:57:41.073Z"
   },
   {
    "duration": 10,
    "start_time": "2022-01-16T01:57:41.082Z"
   },
   {
    "duration": 2,
    "start_time": "2022-01-16T01:57:41.094Z"
   },
   {
    "duration": 5,
    "start_time": "2022-01-16T01:57:48.194Z"
   },
   {
    "duration": 6,
    "start_time": "2022-01-16T01:58:00.562Z"
   },
   {
    "duration": 7,
    "start_time": "2022-01-16T13:39:22.168Z"
   },
   {
    "duration": 13,
    "start_time": "2022-01-16T13:40:56.768Z"
   },
   {
    "duration": 13,
    "start_time": "2022-01-16T13:41:13.142Z"
   },
   {
    "duration": 5,
    "start_time": "2022-01-16T13:41:42.012Z"
   },
   {
    "duration": 277,
    "start_time": "2022-01-16T13:42:07.860Z"
   },
   {
    "duration": 250,
    "start_time": "2022-01-16T13:42:10.459Z"
   },
   {
    "duration": 7,
    "start_time": "2022-01-16T13:42:22.533Z"
   },
   {
    "duration": 5,
    "start_time": "2022-01-16T13:42:28.837Z"
   },
   {
    "duration": 6,
    "start_time": "2022-01-16T13:48:14.842Z"
   },
   {
    "duration": 6,
    "start_time": "2022-01-16T13:52:41.511Z"
   },
   {
    "duration": 7,
    "start_time": "2022-01-16T13:52:53.521Z"
   },
   {
    "duration": 10,
    "start_time": "2022-01-16T13:53:03.822Z"
   },
   {
    "duration": 7,
    "start_time": "2022-01-16T13:53:27.352Z"
   },
   {
    "duration": 7,
    "start_time": "2022-01-16T21:37:18.324Z"
   },
   {
    "duration": 8,
    "start_time": "2022-01-16T21:37:27.003Z"
   },
   {
    "duration": 9,
    "start_time": "2022-01-16T21:37:36.374Z"
   },
   {
    "duration": 263,
    "start_time": "2022-01-16T21:45:19.013Z"
   },
   {
    "duration": 9,
    "start_time": "2022-01-16T21:45:39.104Z"
   },
   {
    "duration": 7,
    "start_time": "2022-01-16T21:45:54.925Z"
   },
   {
    "duration": 300,
    "start_time": "2022-01-16T21:46:07.383Z"
   },
   {
    "duration": 12,
    "start_time": "2022-01-16T21:46:29.400Z"
   },
   {
    "duration": 10,
    "start_time": "2022-01-16T21:47:25.589Z"
   },
   {
    "duration": 15,
    "start_time": "2022-01-16T21:52:16.244Z"
   },
   {
    "duration": 89,
    "start_time": "2022-01-17T00:47:21.250Z"
   },
   {
    "duration": 642,
    "start_time": "2022-01-17T00:47:31.980Z"
   },
   {
    "duration": 13,
    "start_time": "2022-01-17T00:48:04.202Z"
   },
   {
    "duration": 5,
    "start_time": "2022-01-17T00:48:21.150Z"
   },
   {
    "duration": 7,
    "start_time": "2022-01-17T00:49:20.698Z"
   },
   {
    "duration": 9,
    "start_time": "2022-01-17T00:50:26.270Z"
   },
   {
    "duration": 1649,
    "start_time": "2022-01-17T00:51:16.206Z"
   },
   {
    "duration": 11,
    "start_time": "2022-01-17T00:51:39.327Z"
   },
   {
    "duration": 86,
    "start_time": "2022-01-17T00:51:58.313Z"
   },
   {
    "duration": 12,
    "start_time": "2022-01-17T00:52:02.011Z"
   },
   {
    "duration": 11,
    "start_time": "2022-01-17T00:55:48.719Z"
   },
   {
    "duration": 11,
    "start_time": "2022-01-17T01:02:15.332Z"
   },
   {
    "duration": 249,
    "start_time": "2022-01-17T01:02:20.888Z"
   },
   {
    "duration": 9,
    "start_time": "2022-01-17T01:02:40.713Z"
   },
   {
    "duration": 10,
    "start_time": "2022-01-17T01:02:59.653Z"
   },
   {
    "duration": 602,
    "start_time": "2022-01-17T01:03:31.381Z"
   },
   {
    "duration": 4,
    "start_time": "2022-01-17T01:03:31.985Z"
   },
   {
    "duration": 10,
    "start_time": "2022-01-17T01:03:31.991Z"
   },
   {
    "duration": 6,
    "start_time": "2022-01-17T01:03:32.003Z"
   },
   {
    "duration": 8,
    "start_time": "2022-01-17T01:03:32.011Z"
   },
   {
    "duration": 6,
    "start_time": "2022-01-17T01:03:32.021Z"
   },
   {
    "duration": 11,
    "start_time": "2022-01-17T01:03:32.060Z"
   },
   {
    "duration": 7,
    "start_time": "2022-01-17T01:03:32.072Z"
   },
   {
    "duration": 6,
    "start_time": "2022-01-17T01:03:32.081Z"
   },
   {
    "duration": 12,
    "start_time": "2022-01-17T01:03:32.089Z"
   },
   {
    "duration": 2,
    "start_time": "2022-01-17T01:03:32.103Z"
   },
   {
    "duration": 54,
    "start_time": "2022-01-17T01:03:32.107Z"
   },
   {
    "duration": 10,
    "start_time": "2022-01-17T01:03:32.162Z"
   },
   {
    "duration": 8,
    "start_time": "2022-01-17T01:03:32.174Z"
   },
   {
    "duration": 9,
    "start_time": "2022-01-17T01:03:32.183Z"
   },
   {
    "duration": 12,
    "start_time": "2022-01-17T01:03:32.194Z"
   },
   {
    "duration": 4,
    "start_time": "2022-01-17T01:03:32.208Z"
   },
   {
    "duration": 53,
    "start_time": "2022-01-17T01:03:32.213Z"
   },
   {
    "duration": 5,
    "start_time": "2022-01-17T01:03:41.281Z"
   },
   {
    "duration": 9,
    "start_time": "2022-01-17T01:03:48.342Z"
   },
   {
    "duration": 5,
    "start_time": "2022-01-17T01:04:05.367Z"
   },
   {
    "duration": 13,
    "start_time": "2022-01-17T01:17:51.543Z"
   },
   {
    "duration": 7,
    "start_time": "2022-01-17T01:18:45.032Z"
   },
   {
    "duration": 308,
    "start_time": "2022-01-17T01:18:57.077Z"
   },
   {
    "duration": 8,
    "start_time": "2022-01-17T01:19:06.266Z"
   },
   {
    "duration": 7,
    "start_time": "2022-01-17T01:19:55.990Z"
   },
   {
    "duration": 8,
    "start_time": "2022-01-17T01:22:51.107Z"
   },
   {
    "duration": 9,
    "start_time": "2022-01-17T01:22:56.344Z"
   },
   {
    "duration": 8,
    "start_time": "2022-01-17T01:22:59.846Z"
   },
   {
    "duration": 8,
    "start_time": "2022-01-17T01:23:05.637Z"
   },
   {
    "duration": 9,
    "start_time": "2022-01-17T01:23:09.616Z"
   },
   {
    "duration": 12,
    "start_time": "2022-01-17T01:23:21.192Z"
   },
   {
    "duration": 8,
    "start_time": "2022-01-17T01:23:39.588Z"
   },
   {
    "duration": 7,
    "start_time": "2022-01-17T01:23:56.706Z"
   },
   {
    "duration": 8,
    "start_time": "2022-01-17T01:24:10.957Z"
   },
   {
    "duration": 53,
    "start_time": "2022-01-17T01:24:24.646Z"
   },
   {
    "duration": 3,
    "start_time": "2022-01-17T01:24:24.785Z"
   },
   {
    "duration": 13,
    "start_time": "2022-01-17T01:24:24.791Z"
   },
   {
    "duration": 6,
    "start_time": "2022-01-17T01:24:24.806Z"
   },
   {
    "duration": 7,
    "start_time": "2022-01-17T01:24:24.813Z"
   },
   {
    "duration": 6,
    "start_time": "2022-01-17T01:24:24.822Z"
   },
   {
    "duration": 12,
    "start_time": "2022-01-17T01:24:24.829Z"
   },
   {
    "duration": 18,
    "start_time": "2022-01-17T01:24:24.843Z"
   },
   {
    "duration": 6,
    "start_time": "2022-01-17T01:24:24.863Z"
   },
   {
    "duration": 13,
    "start_time": "2022-01-17T01:24:24.962Z"
   },
   {
    "duration": 2,
    "start_time": "2022-01-17T01:24:24.977Z"
   },
   {
    "duration": 10,
    "start_time": "2022-01-17T01:24:24.982Z"
   },
   {
    "duration": 12,
    "start_time": "2022-01-17T01:24:24.994Z"
   },
   {
    "duration": 8,
    "start_time": "2022-01-17T01:24:25.008Z"
   },
   {
    "duration": 47,
    "start_time": "2022-01-17T01:24:25.018Z"
   },
   {
    "duration": 18,
    "start_time": "2022-01-17T01:24:25.067Z"
   },
   {
    "duration": 8,
    "start_time": "2022-01-17T01:24:25.087Z"
   },
   {
    "duration": 14,
    "start_time": "2022-01-17T01:24:25.098Z"
   },
   {
    "duration": 12,
    "start_time": "2022-01-17T01:25:14.511Z"
   },
   {
    "duration": 7,
    "start_time": "2022-01-17T01:25:20.836Z"
   },
   {
    "duration": 8,
    "start_time": "2022-01-17T01:25:29.892Z"
   },
   {
    "duration": 109,
    "start_time": "2022-01-17T01:26:46.654Z"
   },
   {
    "duration": 8,
    "start_time": "2022-01-17T01:26:56.400Z"
   },
   {
    "duration": 7,
    "start_time": "2022-01-17T01:27:01.908Z"
   },
   {
    "duration": 8,
    "start_time": "2022-01-17T01:27:08.072Z"
   },
   {
    "duration": 8,
    "start_time": "2022-01-17T01:27:14.613Z"
   },
   {
    "duration": 7,
    "start_time": "2022-01-17T01:27:19.134Z"
   },
   {
    "duration": 7,
    "start_time": "2022-01-17T01:27:24.600Z"
   },
   {
    "duration": 7,
    "start_time": "2022-01-17T01:27:43.812Z"
   },
   {
    "duration": 1055,
    "start_time": "2022-01-17T01:28:02.266Z"
   },
   {
    "duration": 1026,
    "start_time": "2022-01-17T01:28:14.466Z"
   },
   {
    "duration": 11313,
    "start_time": "2022-01-17T01:28:16.676Z"
   },
   {
    "duration": 9,
    "start_time": "2022-01-17T01:28:35.633Z"
   },
   {
    "duration": 8,
    "start_time": "2022-01-17T01:28:48.240Z"
   },
   {
    "duration": 7,
    "start_time": "2022-01-17T01:28:55.223Z"
   },
   {
    "duration": 9,
    "start_time": "2022-01-17T01:29:06.785Z"
   },
   {
    "duration": 8,
    "start_time": "2022-01-17T01:46:20.700Z"
   },
   {
    "duration": 8,
    "start_time": "2022-01-17T01:46:30.415Z"
   },
   {
    "duration": 6,
    "start_time": "2022-01-17T01:48:37.093Z"
   },
   {
    "duration": 7,
    "start_time": "2022-01-17T01:51:06.063Z"
   },
   {
    "duration": 57,
    "start_time": "2022-01-17T01:52:53.245Z"
   },
   {
    "duration": 7,
    "start_time": "2022-01-17T01:53:21.224Z"
   },
   {
    "duration": 10,
    "start_time": "2022-01-17T01:54:09.232Z"
   },
   {
    "duration": 7,
    "start_time": "2022-01-17T01:54:44.358Z"
   },
   {
    "duration": 7518,
    "start_time": "2022-01-17T11:16:30.015Z"
   },
   {
    "duration": 8,
    "start_time": "2022-01-17T11:16:42.479Z"
   },
   {
    "duration": 7,
    "start_time": "2022-01-17T11:17:13.909Z"
   },
   {
    "duration": 7,
    "start_time": "2022-01-17T11:17:17.223Z"
   },
   {
    "duration": 14,
    "start_time": "2022-01-17T11:18:37.256Z"
   },
   {
    "duration": 7,
    "start_time": "2022-01-17T11:18:58.217Z"
   },
   {
    "duration": 23,
    "start_time": "2022-01-17T11:49:00.841Z"
   },
   {
    "duration": 70,
    "start_time": "2022-01-17T11:49:58.736Z"
   },
   {
    "duration": 30,
    "start_time": "2022-01-17T11:50:23.307Z"
   },
   {
    "duration": 47,
    "start_time": "2022-01-17T11:50:32.770Z"
   },
   {
    "duration": 43,
    "start_time": "2022-01-17T11:50:42.916Z"
   },
   {
    "duration": 314,
    "start_time": "2022-01-17T11:59:01.119Z"
   },
   {
    "duration": 32,
    "start_time": "2022-01-17T11:59:18.618Z"
   },
   {
    "duration": 30,
    "start_time": "2022-01-17T12:00:26.908Z"
   },
   {
    "duration": 47,
    "start_time": "2022-01-17T12:02:24.743Z"
   },
   {
    "duration": 358,
    "start_time": "2022-01-17T12:12:06.428Z"
   },
   {
    "duration": 4,
    "start_time": "2022-01-17T12:12:18.887Z"
   },
   {
    "duration": 4,
    "start_time": "2022-01-17T12:13:36.937Z"
   },
   {
    "duration": 55,
    "start_time": "2022-01-17T16:56:25.592Z"
   },
   {
    "duration": 3,
    "start_time": "2022-01-17T16:56:25.649Z"
   },
   {
    "duration": 12,
    "start_time": "2022-01-17T16:56:25.655Z"
   },
   {
    "duration": 6,
    "start_time": "2022-01-17T16:56:25.670Z"
   },
   {
    "duration": 8,
    "start_time": "2022-01-17T16:56:25.758Z"
   },
   {
    "duration": 7,
    "start_time": "2022-01-17T16:56:25.768Z"
   },
   {
    "duration": 11,
    "start_time": "2022-01-17T16:56:25.903Z"
   },
   {
    "duration": 14,
    "start_time": "2022-01-17T16:56:25.916Z"
   },
   {
    "duration": 10,
    "start_time": "2022-01-17T16:56:25.934Z"
   },
   {
    "duration": 12,
    "start_time": "2022-01-17T16:56:26.015Z"
   },
   {
    "duration": 2,
    "start_time": "2022-01-17T16:56:26.044Z"
   },
   {
    "duration": 12,
    "start_time": "2022-01-17T16:56:29.062Z"
   },
   {
    "duration": 262,
    "start_time": "2022-01-17T17:09:56.587Z"
   },
   {
    "duration": 4,
    "start_time": "2022-01-17T17:09:59.137Z"
   },
   {
    "duration": 4,
    "start_time": "2022-01-17T17:10:01.554Z"
   },
   {
    "duration": 5,
    "start_time": "2022-01-17T17:10:09.184Z"
   },
   {
    "duration": 3,
    "start_time": "2022-01-17T17:10:21.995Z"
   },
   {
    "duration": 4,
    "start_time": "2022-01-17T17:10:24.332Z"
   },
   {
    "duration": 17,
    "start_time": "2022-01-17T17:12:49.268Z"
   },
   {
    "duration": 251,
    "start_time": "2022-01-17T17:13:00.783Z"
   },
   {
    "duration": 21,
    "start_time": "2022-01-17T17:13:12.441Z"
   },
   {
    "duration": 272,
    "start_time": "2022-01-17T18:33:37.587Z"
   },
   {
    "duration": 5,
    "start_time": "2022-01-17T18:33:42.657Z"
   },
   {
    "duration": 20,
    "start_time": "2022-01-17T19:37:57.126Z"
   },
   {
    "duration": 36,
    "start_time": "2022-01-17T19:38:32.212Z"
   },
   {
    "duration": 39,
    "start_time": "2022-01-17T19:38:39.992Z"
   },
   {
    "duration": 32,
    "start_time": "2022-01-17T19:38:45.186Z"
   },
   {
    "duration": 30,
    "start_time": "2022-01-17T19:39:58.317Z"
   },
   {
    "duration": 55,
    "start_time": "2022-01-17T19:41:44.721Z"
   },
   {
    "duration": 4,
    "start_time": "2022-01-17T19:41:44.778Z"
   },
   {
    "duration": 13,
    "start_time": "2022-01-17T19:41:44.784Z"
   },
   {
    "duration": 8,
    "start_time": "2022-01-17T19:41:44.799Z"
   },
   {
    "duration": 8,
    "start_time": "2022-01-17T19:41:44.831Z"
   },
   {
    "duration": 24,
    "start_time": "2022-01-17T19:41:44.841Z"
   },
   {
    "duration": 11,
    "start_time": "2022-01-17T19:41:44.867Z"
   },
   {
    "duration": 8,
    "start_time": "2022-01-17T19:41:44.881Z"
   },
   {
    "duration": 12,
    "start_time": "2022-01-17T19:41:44.890Z"
   },
   {
    "duration": 13,
    "start_time": "2022-01-17T19:41:45.014Z"
   },
   {
    "duration": 27,
    "start_time": "2022-01-17T19:41:45.029Z"
   },
   {
    "duration": 18,
    "start_time": "2022-01-17T19:41:45.058Z"
   },
   {
    "duration": 11,
    "start_time": "2022-01-17T19:41:45.131Z"
   },
   {
    "duration": 13,
    "start_time": "2022-01-17T19:41:45.143Z"
   },
   {
    "duration": 12,
    "start_time": "2022-01-17T19:41:45.159Z"
   },
   {
    "duration": 11,
    "start_time": "2022-01-17T19:41:45.173Z"
   },
   {
    "duration": 7,
    "start_time": "2022-01-17T19:41:45.186Z"
   },
   {
    "duration": 13,
    "start_time": "2022-01-17T19:41:45.263Z"
   },
   {
    "duration": 17,
    "start_time": "2022-01-17T19:41:45.278Z"
   },
   {
    "duration": 11,
    "start_time": "2022-01-17T19:41:45.298Z"
   },
   {
    "duration": 28,
    "start_time": "2022-01-17T19:41:45.311Z"
   },
   {
    "duration": 7,
    "start_time": "2022-01-17T19:41:45.404Z"
   },
   {
    "duration": 14,
    "start_time": "2022-01-17T19:41:45.413Z"
   },
   {
    "duration": 10,
    "start_time": "2022-01-17T19:41:45.429Z"
   },
   {
    "duration": 14,
    "start_time": "2022-01-17T19:41:45.441Z"
   },
   {
    "duration": 6,
    "start_time": "2022-01-17T19:41:45.457Z"
   },
   {
    "duration": 3,
    "start_time": "2022-01-17T19:41:45.544Z"
   },
   {
    "duration": 14,
    "start_time": "2022-01-17T19:41:45.550Z"
   },
   {
    "duration": 19,
    "start_time": "2022-01-17T19:41:45.567Z"
   },
   {
    "duration": 9,
    "start_time": "2022-01-17T19:41:45.588Z"
   },
   {
    "duration": 11,
    "start_time": "2022-01-17T19:41:45.598Z"
   },
   {
    "duration": 3,
    "start_time": "2022-01-17T19:41:45.674Z"
   },
   {
    "duration": 7,
    "start_time": "2022-01-17T19:41:45.679Z"
   },
   {
    "duration": 17,
    "start_time": "2022-01-17T19:42:35.660Z"
   },
   {
    "duration": 4,
    "start_time": "2022-01-17T19:42:52.697Z"
   },
   {
    "duration": 298,
    "start_time": "2022-01-17T20:32:20.484Z"
   },
   {
    "duration": 231,
    "start_time": "2022-01-17T20:40:22.827Z"
   },
   {
    "duration": 288,
    "start_time": "2022-01-17T20:40:36.024Z"
   },
   {
    "duration": 248,
    "start_time": "2022-01-17T20:40:51.476Z"
   },
   {
    "duration": 248,
    "start_time": "2022-01-17T21:01:24.253Z"
   },
   {
    "duration": 514,
    "start_time": "2022-01-17T21:02:42.477Z"
   },
   {
    "duration": 4,
    "start_time": "2022-01-17T21:02:57.323Z"
   },
   {
    "duration": 4,
    "start_time": "2022-01-17T21:02:59.558Z"
   },
   {
    "duration": 14,
    "start_time": "2022-01-17T21:03:01.492Z"
   },
   {
    "duration": 8,
    "start_time": "2022-01-17T21:03:03.652Z"
   },
   {
    "duration": 5,
    "start_time": "2022-01-17T21:04:03.984Z"
   },
   {
    "duration": 257,
    "start_time": "2022-01-17T21:05:34.917Z"
   },
   {
    "duration": 23,
    "start_time": "2022-01-17T21:08:30.747Z"
   },
   {
    "duration": 263,
    "start_time": "2022-01-17T21:12:40.434Z"
   },
   {
    "duration": 53,
    "start_time": "2022-01-17T21:13:22.380Z"
   },
   {
    "duration": 3,
    "start_time": "2022-01-17T21:13:22.498Z"
   },
   {
    "duration": 30,
    "start_time": "2022-01-17T21:13:22.503Z"
   },
   {
    "duration": 25,
    "start_time": "2022-01-17T21:13:22.535Z"
   },
   {
    "duration": 15,
    "start_time": "2022-01-17T21:13:22.562Z"
   },
   {
    "duration": 25,
    "start_time": "2022-01-17T21:13:22.579Z"
   },
   {
    "duration": 11,
    "start_time": "2022-01-17T21:13:22.644Z"
   },
   {
    "duration": 18,
    "start_time": "2022-01-17T21:13:22.657Z"
   },
   {
    "duration": 24,
    "start_time": "2022-01-17T21:13:22.677Z"
   },
   {
    "duration": 35,
    "start_time": "2022-01-17T21:13:22.702Z"
   },
   {
    "duration": 20,
    "start_time": "2022-01-17T21:13:22.739Z"
   },
   {
    "duration": 9,
    "start_time": "2022-01-17T21:13:22.821Z"
   },
   {
    "duration": 39,
    "start_time": "2022-01-17T21:13:22.832Z"
   },
   {
    "duration": 25,
    "start_time": "2022-01-17T21:13:22.873Z"
   },
   {
    "duration": 15,
    "start_time": "2022-01-17T21:13:22.900Z"
   },
   {
    "duration": 19,
    "start_time": "2022-01-17T21:13:22.916Z"
   },
   {
    "duration": 23,
    "start_time": "2022-01-17T21:13:22.937Z"
   },
   {
    "duration": 20,
    "start_time": "2022-01-17T21:13:22.966Z"
   },
   {
    "duration": 26,
    "start_time": "2022-01-17T21:13:22.988Z"
   },
   {
    "duration": 8,
    "start_time": "2022-01-17T21:13:23.017Z"
   },
   {
    "duration": 16,
    "start_time": "2022-01-17T21:13:23.026Z"
   },
   {
    "duration": 10,
    "start_time": "2022-01-17T21:13:23.044Z"
   },
   {
    "duration": 7,
    "start_time": "2022-01-17T21:13:23.128Z"
   },
   {
    "duration": 12,
    "start_time": "2022-01-17T21:13:23.138Z"
   },
   {
    "duration": 9,
    "start_time": "2022-01-17T21:13:23.152Z"
   },
   {
    "duration": 17,
    "start_time": "2022-01-17T21:13:23.163Z"
   },
   {
    "duration": 11,
    "start_time": "2022-01-17T21:13:23.182Z"
   },
   {
    "duration": 19,
    "start_time": "2022-01-17T21:13:23.194Z"
   },
   {
    "duration": 12,
    "start_time": "2022-01-17T21:13:23.273Z"
   },
   {
    "duration": 9,
    "start_time": "2022-01-17T21:13:23.287Z"
   },
   {
    "duration": 34,
    "start_time": "2022-01-17T21:13:23.298Z"
   },
   {
    "duration": 17,
    "start_time": "2022-01-17T21:13:23.334Z"
   },
   {
    "duration": 14,
    "start_time": "2022-01-17T21:13:23.352Z"
   },
   {
    "duration": 22,
    "start_time": "2022-01-17T21:13:23.368Z"
   },
   {
    "duration": 2,
    "start_time": "2022-01-17T21:13:23.391Z"
   },
   {
    "duration": 8,
    "start_time": "2022-01-17T21:13:23.395Z"
   },
   {
    "duration": 6,
    "start_time": "2022-01-17T21:13:23.404Z"
   },
   {
    "duration": 7,
    "start_time": "2022-01-17T21:13:23.412Z"
   },
   {
    "duration": 5,
    "start_time": "2022-01-17T21:13:23.420Z"
   },
   {
    "duration": 4,
    "start_time": "2022-01-17T21:13:23.430Z"
   },
   {
    "duration": 23,
    "start_time": "2022-01-17T21:17:02.298Z"
   },
   {
    "duration": 23,
    "start_time": "2022-01-17T21:17:15.058Z"
   },
   {
    "duration": 23,
    "start_time": "2022-01-17T21:17:51.327Z"
   },
   {
    "duration": 28,
    "start_time": "2022-01-17T21:18:04.995Z"
   },
   {
    "duration": 273,
    "start_time": "2022-01-17T21:19:43.861Z"
   },
   {
    "duration": 35,
    "start_time": "2022-01-17T21:23:31.686Z"
   },
   {
    "duration": 27,
    "start_time": "2022-01-17T21:23:43.175Z"
   },
   {
    "duration": 26,
    "start_time": "2022-01-17T21:26:52.056Z"
   },
   {
    "duration": 27,
    "start_time": "2022-01-17T21:27:17.654Z"
   },
   {
    "duration": 264,
    "start_time": "2022-01-17T21:28:09.429Z"
   },
   {
    "duration": 284,
    "start_time": "2022-01-17T21:28:15.268Z"
   },
   {
    "duration": 262,
    "start_time": "2022-01-17T21:28:21.187Z"
   },
   {
    "duration": 13,
    "start_time": "2022-01-17T21:28:32.859Z"
   },
   {
    "duration": 32,
    "start_time": "2022-01-17T21:28:41.776Z"
   },
   {
    "duration": 259,
    "start_time": "2022-01-17T21:29:26.876Z"
   },
   {
    "duration": 332,
    "start_time": "2022-01-17T21:29:33.331Z"
   },
   {
    "duration": 640,
    "start_time": "2022-01-17T21:29:45.085Z"
   },
   {
    "duration": 4,
    "start_time": "2022-01-17T21:29:52.253Z"
   },
   {
    "duration": 5,
    "start_time": "2022-01-17T21:30:02.206Z"
   },
   {
    "duration": 5,
    "start_time": "2022-01-17T21:35:16.204Z"
   },
   {
    "duration": 5,
    "start_time": "2022-01-17T21:35:28.741Z"
   },
   {
    "duration": 4,
    "start_time": "2022-01-17T21:43:01.942Z"
   },
   {
    "duration": 24,
    "start_time": "2022-01-17T21:44:34.072Z"
   },
   {
    "duration": 18,
    "start_time": "2022-01-17T21:47:12.639Z"
   },
   {
    "duration": 21,
    "start_time": "2022-01-17T21:47:27.524Z"
   },
   {
    "duration": 87,
    "start_time": "2022-01-17T21:47:48.033Z"
   },
   {
    "duration": 19,
    "start_time": "2022-01-17T21:47:57.744Z"
   },
   {
    "duration": 7,
    "start_time": "2022-01-17T21:48:42.851Z"
   },
   {
    "duration": 7,
    "start_time": "2022-01-17T21:49:00.544Z"
   },
   {
    "duration": 7,
    "start_time": "2022-01-17T21:49:11.040Z"
   },
   {
    "duration": 11,
    "start_time": "2022-01-17T21:49:30.061Z"
   },
   {
    "duration": 11,
    "start_time": "2022-01-17T21:49:53.784Z"
   },
   {
    "duration": 15,
    "start_time": "2022-01-17T21:51:09.840Z"
   },
   {
    "duration": 16,
    "start_time": "2022-01-17T21:51:49.634Z"
   },
   {
    "duration": 17,
    "start_time": "2022-01-17T21:52:54.146Z"
   },
   {
    "duration": 18,
    "start_time": "2022-01-17T22:01:03.630Z"
   },
   {
    "duration": 13,
    "start_time": "2022-01-17T22:07:05.797Z"
   },
   {
    "duration": 84,
    "start_time": "2022-01-17T22:07:18.626Z"
   },
   {
    "duration": 9,
    "start_time": "2022-01-17T22:07:23.689Z"
   },
   {
    "duration": 5,
    "start_time": "2022-01-17T22:07:35.037Z"
   },
   {
    "duration": 9,
    "start_time": "2022-01-17T22:08:02.077Z"
   },
   {
    "duration": 19,
    "start_time": "2022-01-17T22:09:24.663Z"
   },
   {
    "duration": 19,
    "start_time": "2022-01-17T22:09:47.317Z"
   },
   {
    "duration": 17,
    "start_time": "2022-01-17T22:10:16.830Z"
   },
   {
    "duration": 113,
    "start_time": "2022-01-17T23:21:49.636Z"
   },
   {
    "duration": 21,
    "start_time": "2022-01-17T23:21:54.938Z"
   },
   {
    "duration": 82,
    "start_time": "2022-01-17T23:22:28.347Z"
   },
   {
    "duration": 19,
    "start_time": "2022-01-17T23:22:38.287Z"
   },
   {
    "duration": 26,
    "start_time": "2022-01-18T00:05:10.444Z"
   },
   {
    "duration": 24,
    "start_time": "2022-01-18T00:06:05.660Z"
   },
   {
    "duration": 18,
    "start_time": "2022-01-18T00:06:09.927Z"
   },
   {
    "duration": 88,
    "start_time": "2022-01-18T00:06:21.498Z"
   },
   {
    "duration": 8,
    "start_time": "2022-01-18T00:06:32.358Z"
   },
   {
    "duration": 93,
    "start_time": "2022-01-18T00:06:44.804Z"
   },
   {
    "duration": 1190,
    "start_time": "2022-01-18T00:06:53.933Z"
   },
   {
    "duration": 4849,
    "start_time": "2022-01-18T00:06:59.285Z"
   },
   {
    "duration": 14,
    "start_time": "2022-01-18T00:07:41.733Z"
   },
   {
    "duration": 9,
    "start_time": "2022-01-18T00:07:56.270Z"
   },
   {
    "duration": 266,
    "start_time": "2022-01-18T00:08:11.323Z"
   },
   {
    "duration": 13,
    "start_time": "2022-01-18T00:08:29.701Z"
   },
   {
    "duration": 9,
    "start_time": "2022-01-18T00:08:40.895Z"
   },
   {
    "duration": 11,
    "start_time": "2022-01-18T00:08:55.329Z"
   },
   {
    "duration": 4,
    "start_time": "2022-01-18T00:09:42.270Z"
   },
   {
    "duration": 4,
    "start_time": "2022-01-18T00:10:04.692Z"
   },
   {
    "duration": 5,
    "start_time": "2022-01-18T00:13:29.659Z"
   },
   {
    "duration": 3,
    "start_time": "2022-01-18T00:14:26.975Z"
   },
   {
    "duration": 16,
    "start_time": "2022-01-18T00:15:32.674Z"
   },
   {
    "duration": 374,
    "start_time": "2022-01-18T11:25:04.106Z"
   },
   {
    "duration": 266,
    "start_time": "2022-01-18T11:25:08.643Z"
   },
   {
    "duration": 8,
    "start_time": "2022-01-18T11:25:17.794Z"
   },
   {
    "duration": 17,
    "start_time": "2022-01-18T11:27:13.800Z"
   },
   {
    "duration": 16,
    "start_time": "2022-01-18T12:33:50.869Z"
   },
   {
    "duration": 154,
    "start_time": "2022-01-18T12:37:25.736Z"
   },
   {
    "duration": 14,
    "start_time": "2022-01-18T12:38:43.034Z"
   },
   {
    "duration": 52,
    "start_time": "2022-01-18T12:38:56.126Z"
   },
   {
    "duration": 3,
    "start_time": "2022-01-18T12:38:56.181Z"
   },
   {
    "duration": 9,
    "start_time": "2022-01-18T12:38:59.199Z"
   },
   {
    "duration": 12,
    "start_time": "2022-01-18T12:39:13.421Z"
   },
   {
    "duration": 10,
    "start_time": "2022-01-18T12:40:45.125Z"
   },
   {
    "duration": 8,
    "start_time": "2022-01-18T12:40:47.598Z"
   },
   {
    "duration": 13,
    "start_time": "2022-01-18T12:42:39.097Z"
   },
   {
    "duration": 10,
    "start_time": "2022-01-18T12:42:51.846Z"
   },
   {
    "duration": 296,
    "start_time": "2022-01-18T12:43:17.934Z"
   },
   {
    "duration": 13,
    "start_time": "2022-01-18T12:44:04.189Z"
   },
   {
    "duration": 8,
    "start_time": "2022-01-18T12:47:11.286Z"
   },
   {
    "duration": 8,
    "start_time": "2022-01-18T12:47:22.978Z"
   },
   {
    "duration": 4178,
    "start_time": "2022-01-18T12:47:36.442Z"
   },
   {
    "duration": 10,
    "start_time": "2022-01-18T12:47:42.335Z"
   },
   {
    "duration": 9,
    "start_time": "2022-01-18T12:47:56.503Z"
   },
   {
    "duration": 8,
    "start_time": "2022-01-18T12:48:54.648Z"
   },
   {
    "duration": 12,
    "start_time": "2022-01-18T12:49:39.658Z"
   },
   {
    "duration": 3,
    "start_time": "2022-01-18T12:50:00.426Z"
   },
   {
    "duration": 8,
    "start_time": "2022-01-18T14:49:46.233Z"
   },
   {
    "duration": 10,
    "start_time": "2022-01-18T14:49:49.104Z"
   },
   {
    "duration": 6,
    "start_time": "2022-01-18T14:49:50.787Z"
   },
   {
    "duration": 8,
    "start_time": "2022-01-18T14:50:21.315Z"
   },
   {
    "duration": 10,
    "start_time": "2022-01-18T14:52:10.661Z"
   },
   {
    "duration": 10,
    "start_time": "2022-01-18T14:52:15.045Z"
   },
   {
    "duration": 9,
    "start_time": "2022-01-18T14:52:35.013Z"
   },
   {
    "duration": 81,
    "start_time": "2022-01-18T14:53:00.503Z"
   },
   {
    "duration": 14,
    "start_time": "2022-01-18T14:53:09.827Z"
   },
   {
    "duration": 18,
    "start_time": "2022-01-18T14:53:14.045Z"
   },
   {
    "duration": 5,
    "start_time": "2022-01-20T10:35:00.471Z"
   },
   {
    "duration": 4,
    "start_time": "2022-01-20T10:35:03.625Z"
   },
   {
    "duration": 1368,
    "start_time": "2022-01-20T10:35:06.781Z"
   },
   {
    "duration": 2787,
    "start_time": "2022-01-20T10:35:13.142Z"
   },
   {
    "duration": 2676,
    "start_time": "2022-01-20T10:35:19.376Z"
   },
   {
    "duration": 3,
    "start_time": "2022-01-20T10:35:22.054Z"
   },
   {
    "duration": 8,
    "start_time": "2022-01-20T10:35:22.059Z"
   },
   {
    "duration": 18,
    "start_time": "2022-01-20T10:35:22.069Z"
   },
   {
    "duration": 8,
    "start_time": "2022-01-20T10:35:22.088Z"
   },
   {
    "duration": 5,
    "start_time": "2022-01-20T10:35:22.098Z"
   },
   {
    "duration": 8,
    "start_time": "2022-01-20T10:35:22.105Z"
   },
   {
    "duration": 13,
    "start_time": "2022-01-20T10:35:22.116Z"
   },
   {
    "duration": 53,
    "start_time": "2022-01-20T10:35:22.131Z"
   },
   {
    "duration": 2,
    "start_time": "2022-01-20T10:35:22.191Z"
   },
   {
    "duration": 9,
    "start_time": "2022-01-20T10:35:22.195Z"
   },
   {
    "duration": 9,
    "start_time": "2022-01-20T10:35:22.206Z"
   },
   {
    "duration": 5,
    "start_time": "2022-01-20T10:35:22.217Z"
   },
   {
    "duration": 8,
    "start_time": "2022-01-20T10:35:22.224Z"
   },
   {
    "duration": 16,
    "start_time": "2022-01-20T10:35:22.233Z"
   },
   {
    "duration": 11,
    "start_time": "2022-01-20T10:35:22.271Z"
   },
   {
    "duration": 12,
    "start_time": "2022-01-20T10:35:22.288Z"
   },
   {
    "duration": 14,
    "start_time": "2022-01-20T10:35:22.302Z"
   },
   {
    "duration": 11,
    "start_time": "2022-01-20T10:35:22.317Z"
   },
   {
    "duration": 10,
    "start_time": "2022-01-20T10:35:22.329Z"
   },
   {
    "duration": 12,
    "start_time": "2022-01-20T10:35:22.341Z"
   },
   {
    "duration": 23,
    "start_time": "2022-01-20T10:35:22.354Z"
   },
   {
    "duration": 10,
    "start_time": "2022-01-20T10:35:22.380Z"
   },
   {
    "duration": 12,
    "start_time": "2022-01-20T10:35:22.392Z"
   },
   {
    "duration": 16,
    "start_time": "2022-01-20T10:35:22.406Z"
   },
   {
    "duration": 3,
    "start_time": "2022-01-20T10:35:32.892Z"
   },
   {
    "duration": 4,
    "start_time": "2022-01-20T10:35:34.209Z"
   },
   {
    "duration": 12,
    "start_time": "2022-01-20T10:35:36.182Z"
   },
   {
    "duration": 21,
    "start_time": "2022-01-20T10:35:41.596Z"
   },
   {
    "duration": 1252,
    "start_time": "2022-01-20T10:38:23.302Z"
   },
   {
    "duration": 1249,
    "start_time": "2022-01-20T10:39:21.414Z"
   },
   {
    "duration": 7,
    "start_time": "2022-01-20T10:39:26.343Z"
   },
   {
    "duration": 1233,
    "start_time": "2022-01-20T10:40:40.436Z"
   },
   {
    "duration": 7,
    "start_time": "2022-01-20T10:40:50.688Z"
   },
   {
    "duration": 7,
    "start_time": "2022-01-20T10:40:54.839Z"
   },
   {
    "duration": 10,
    "start_time": "2022-01-20T10:41:01.432Z"
   },
   {
    "duration": 7,
    "start_time": "2022-01-20T10:41:09.699Z"
   },
   {
    "duration": 6,
    "start_time": "2022-01-20T10:41:15.331Z"
   },
   {
    "duration": 6,
    "start_time": "2022-01-20T10:41:34.430Z"
   },
   {
    "duration": 44,
    "start_time": "2022-01-20T10:42:13.868Z"
   },
   {
    "duration": 3,
    "start_time": "2022-01-20T10:42:13.914Z"
   },
   {
    "duration": 9,
    "start_time": "2022-01-20T10:42:13.920Z"
   },
   {
    "duration": 11,
    "start_time": "2022-01-20T10:42:13.932Z"
   },
   {
    "duration": 31,
    "start_time": "2022-01-20T10:42:13.945Z"
   },
   {
    "duration": 8,
    "start_time": "2022-01-20T10:42:13.978Z"
   },
   {
    "duration": 11,
    "start_time": "2022-01-20T10:42:13.988Z"
   },
   {
    "duration": 7,
    "start_time": "2022-01-20T10:42:14.001Z"
   },
   {
    "duration": 6,
    "start_time": "2022-01-20T10:42:14.009Z"
   },
   {
    "duration": 4,
    "start_time": "2022-01-20T10:42:14.017Z"
   },
   {
    "duration": 12,
    "start_time": "2022-01-20T10:42:14.023Z"
   },
   {
    "duration": 43,
    "start_time": "2022-01-20T10:42:14.037Z"
   },
   {
    "duration": 8,
    "start_time": "2022-01-20T10:42:14.084Z"
   },
   {
    "duration": 7,
    "start_time": "2022-01-20T10:42:14.094Z"
   },
   {
    "duration": 17,
    "start_time": "2022-01-20T10:42:14.102Z"
   },
   {
    "duration": 10,
    "start_time": "2022-01-20T10:42:14.120Z"
   },
   {
    "duration": 44,
    "start_time": "2022-01-20T10:42:14.131Z"
   },
   {
    "duration": 10,
    "start_time": "2022-01-20T10:42:14.179Z"
   },
   {
    "duration": 7,
    "start_time": "2022-01-20T10:42:14.191Z"
   },
   {
    "duration": 7,
    "start_time": "2022-01-20T10:42:14.199Z"
   },
   {
    "duration": 7,
    "start_time": "2022-01-20T10:42:14.208Z"
   },
   {
    "duration": 8,
    "start_time": "2022-01-20T10:42:14.216Z"
   },
   {
    "duration": 10,
    "start_time": "2022-01-20T10:42:14.225Z"
   },
   {
    "duration": 45,
    "start_time": "2022-01-20T10:42:14.237Z"
   },
   {
    "duration": 6,
    "start_time": "2022-01-20T10:42:14.284Z"
   },
   {
    "duration": 8,
    "start_time": "2022-01-20T10:42:14.292Z"
   },
   {
    "duration": 13,
    "start_time": "2022-01-20T10:42:14.302Z"
   },
   {
    "duration": 3,
    "start_time": "2022-01-20T10:42:14.317Z"
   },
   {
    "duration": 11,
    "start_time": "2022-01-20T10:42:14.322Z"
   },
   {
    "duration": 6,
    "start_time": "2022-01-20T10:42:14.335Z"
   },
   {
    "duration": 7,
    "start_time": "2022-01-20T10:42:14.343Z"
   },
   {
    "duration": 25,
    "start_time": "2022-01-20T10:42:14.352Z"
   },
   {
    "duration": 7,
    "start_time": "2022-01-20T10:42:14.383Z"
   },
   {
    "duration": 2,
    "start_time": "2022-01-20T10:42:14.392Z"
   },
   {
    "duration": 7,
    "start_time": "2022-01-20T10:42:14.396Z"
   },
   {
    "duration": 13,
    "start_time": "2022-01-20T10:42:14.405Z"
   },
   {
    "duration": 14,
    "start_time": "2022-01-20T10:42:14.420Z"
   },
   {
    "duration": 26,
    "start_time": "2022-01-20T10:42:14.436Z"
   },
   {
    "duration": 28,
    "start_time": "2022-01-20T10:42:14.476Z"
   },
   {
    "duration": 6,
    "start_time": "2022-01-20T10:43:15.369Z"
   },
   {
    "duration": 12,
    "start_time": "2022-01-20T10:43:20.619Z"
   },
   {
    "duration": 6,
    "start_time": "2022-01-20T10:43:23.952Z"
   },
   {
    "duration": 8,
    "start_time": "2022-01-20T11:07:41.302Z"
   },
   {
    "duration": 7,
    "start_time": "2022-01-20T11:24:17.207Z"
   },
   {
    "duration": 1172,
    "start_time": "2022-01-20T11:26:28.492Z"
   },
   {
    "duration": 331,
    "start_time": "2022-01-20T11:26:51.676Z"
   },
   {
    "duration": 6,
    "start_time": "2022-01-20T11:27:03.225Z"
   },
   {
    "duration": 342,
    "start_time": "2022-01-20T11:27:11.138Z"
   },
   {
    "duration": 370,
    "start_time": "2022-01-20T11:27:21.546Z"
   },
   {
    "duration": 365,
    "start_time": "2022-01-20T11:27:26.602Z"
   },
   {
    "duration": 7,
    "start_time": "2022-01-20T11:27:33.952Z"
   },
   {
    "duration": 3,
    "start_time": "2022-01-20T11:28:45.464Z"
   },
   {
    "duration": 3,
    "start_time": "2022-01-20T11:30:09.239Z"
   },
   {
    "duration": 4,
    "start_time": "2022-01-20T11:31:41.488Z"
   },
   {
    "duration": 310,
    "start_time": "2022-01-20T11:34:08.536Z"
   },
   {
    "duration": 16,
    "start_time": "2022-01-20T11:34:18.099Z"
   },
   {
    "duration": 8,
    "start_time": "2022-01-20T11:34:34.868Z"
   },
   {
    "duration": 1215,
    "start_time": "2022-01-20T11:36:10.451Z"
   },
   {
    "duration": 6,
    "start_time": "2022-01-20T11:37:54.794Z"
   },
   {
    "duration": 334,
    "start_time": "2022-01-20T11:38:10.382Z"
   },
   {
    "duration": 5,
    "start_time": "2022-01-20T11:38:25.041Z"
   },
   {
    "duration": 5,
    "start_time": "2022-01-20T11:38:43.807Z"
   },
   {
    "duration": 5,
    "start_time": "2022-01-20T11:39:18.773Z"
   },
   {
    "duration": 10,
    "start_time": "2022-01-20T11:39:48.647Z"
   },
   {
    "duration": 7,
    "start_time": "2022-01-20T11:40:15.792Z"
   },
   {
    "duration": 6,
    "start_time": "2022-01-20T11:40:28.537Z"
   },
   {
    "duration": 4,
    "start_time": "2022-01-20T11:41:07.028Z"
   },
   {
    "duration": 314,
    "start_time": "2022-01-20T11:41:19.649Z"
   },
   {
    "duration": 4,
    "start_time": "2022-01-20T11:41:23.757Z"
   },
   {
    "duration": 8,
    "start_time": "2022-01-20T11:41:27.810Z"
   },
   {
    "duration": 5,
    "start_time": "2022-01-20T11:44:41.141Z"
   },
   {
    "duration": 4,
    "start_time": "2022-01-20T11:46:10.323Z"
   },
   {
    "duration": 50,
    "start_time": "2022-01-20T11:46:19.560Z"
   },
   {
    "duration": 3,
    "start_time": "2022-01-20T11:46:19.636Z"
   },
   {
    "duration": 12,
    "start_time": "2022-01-20T11:46:19.683Z"
   },
   {
    "duration": 10,
    "start_time": "2022-01-20T11:46:19.759Z"
   },
   {
    "duration": 5,
    "start_time": "2022-01-20T11:46:23.589Z"
   },
   {
    "duration": 6,
    "start_time": "2022-01-20T11:46:42.563Z"
   },
   {
    "duration": 40,
    "start_time": "2022-01-20T11:47:12.926Z"
   },
   {
    "duration": 4,
    "start_time": "2022-01-20T11:47:12.971Z"
   },
   {
    "duration": 8,
    "start_time": "2022-01-20T11:47:13.008Z"
   },
   {
    "duration": 9,
    "start_time": "2022-01-20T11:47:13.047Z"
   },
   {
    "duration": 5,
    "start_time": "2022-01-20T11:47:13.091Z"
   },
   {
    "duration": 7,
    "start_time": "2022-01-20T11:47:13.132Z"
   },
   {
    "duration": 7,
    "start_time": "2022-01-20T11:47:13.212Z"
   },
   {
    "duration": 8,
    "start_time": "2022-01-20T11:47:13.259Z"
   },
   {
    "duration": 6,
    "start_time": "2022-01-20T11:47:13.318Z"
   },
   {
    "duration": 8,
    "start_time": "2022-01-20T11:47:13.365Z"
   },
   {
    "duration": 2,
    "start_time": "2022-01-20T11:47:13.411Z"
   },
   {
    "duration": 7,
    "start_time": "2022-01-20T11:47:13.463Z"
   },
   {
    "duration": 10,
    "start_time": "2022-01-20T11:47:13.483Z"
   },
   {
    "duration": 5,
    "start_time": "2022-01-20T11:47:13.522Z"
   },
   {
    "duration": 15,
    "start_time": "2022-01-20T11:47:38.327Z"
   },
   {
    "duration": 5,
    "start_time": "2022-01-20T11:48:21.116Z"
   },
   {
    "duration": 16,
    "start_time": "2022-01-20T11:49:34.937Z"
   },
   {
    "duration": 7,
    "start_time": "2022-01-20T11:51:38.004Z"
   },
   {
    "duration": 4,
    "start_time": "2022-01-20T11:51:41.620Z"
   },
   {
    "duration": 6,
    "start_time": "2022-01-20T11:51:51.097Z"
   },
   {
    "duration": 5,
    "start_time": "2022-01-20T11:52:10.662Z"
   },
   {
    "duration": 5,
    "start_time": "2022-01-20T11:52:24.284Z"
   },
   {
    "duration": 7,
    "start_time": "2022-01-20T11:52:31.319Z"
   },
   {
    "duration": 3,
    "start_time": "2022-01-20T11:57:21.467Z"
   },
   {
    "duration": 10,
    "start_time": "2022-01-20T11:57:35.018Z"
   },
   {
    "duration": 94,
    "start_time": "2022-01-20T11:57:46.243Z"
   },
   {
    "duration": 17,
    "start_time": "2022-01-20T11:57:49.677Z"
   },
   {
    "duration": 312,
    "start_time": "2022-01-20T12:02:11.725Z"
   },
   {
    "duration": 310,
    "start_time": "2022-01-20T12:02:17.473Z"
   },
   {
    "duration": 3,
    "start_time": "2022-01-20T12:27:38.894Z"
   },
   {
    "duration": 8,
    "start_time": "2022-01-20T12:31:27.061Z"
   },
   {
    "duration": 20,
    "start_time": "2022-01-20T12:32:15.645Z"
   },
   {
    "duration": 335,
    "start_time": "2022-01-20T12:32:34.217Z"
   },
   {
    "duration": 11,
    "start_time": "2022-01-20T12:32:57.046Z"
   },
   {
    "duration": 985,
    "start_time": "2022-01-20T12:36:05.428Z"
   },
   {
    "duration": 1514,
    "start_time": "2022-01-20T12:36:25.007Z"
   },
   {
    "duration": 853,
    "start_time": "2022-01-20T12:36:28.960Z"
   },
   {
    "duration": 12709,
    "start_time": "2022-01-20T12:36:38.269Z"
   },
   {
    "duration": 7,
    "start_time": "2022-01-20T12:38:03.701Z"
   },
   {
    "duration": 7,
    "start_time": "2022-01-20T12:41:00.377Z"
   },
   {
    "duration": 7,
    "start_time": "2022-01-20T12:42:51.199Z"
   },
   {
    "duration": 7,
    "start_time": "2022-01-20T12:44:42.588Z"
   },
   {
    "duration": 11,
    "start_time": "2022-01-20T12:44:44.377Z"
   },
   {
    "duration": 111,
    "start_time": "2022-01-20T12:50:25.326Z"
   },
   {
    "duration": 4,
    "start_time": "2022-01-20T12:50:49.212Z"
   },
   {
    "duration": 4,
    "start_time": "2022-01-20T12:50:58.877Z"
   },
   {
    "duration": 4,
    "start_time": "2022-01-20T12:51:09.147Z"
   },
   {
    "duration": 11,
    "start_time": "2022-01-20T12:52:19.884Z"
   },
   {
    "duration": 312,
    "start_time": "2022-01-20T12:57:26.988Z"
   },
   {
    "duration": 9,
    "start_time": "2022-01-20T12:57:30.766Z"
   },
   {
    "duration": 44,
    "start_time": "2022-01-20T12:59:30.613Z"
   },
   {
    "duration": 2,
    "start_time": "2022-01-20T12:59:30.659Z"
   },
   {
    "duration": 23,
    "start_time": "2022-01-20T12:59:30.663Z"
   },
   {
    "duration": 25,
    "start_time": "2022-01-20T12:59:30.688Z"
   },
   {
    "duration": 16,
    "start_time": "2022-01-20T12:59:30.714Z"
   },
   {
    "duration": 19,
    "start_time": "2022-01-20T12:59:30.732Z"
   },
   {
    "duration": 22,
    "start_time": "2022-01-20T12:59:30.752Z"
   },
   {
    "duration": 18,
    "start_time": "2022-01-20T12:59:30.776Z"
   },
   {
    "duration": 14,
    "start_time": "2022-01-20T12:59:30.796Z"
   },
   {
    "duration": 28,
    "start_time": "2022-01-20T12:59:30.812Z"
   },
   {
    "duration": 27,
    "start_time": "2022-01-20T12:59:30.842Z"
   },
   {
    "duration": 19,
    "start_time": "2022-01-20T12:59:30.871Z"
   },
   {
    "duration": 14,
    "start_time": "2022-01-20T12:59:30.892Z"
   },
   {
    "duration": 10,
    "start_time": "2022-01-20T12:59:30.908Z"
   },
   {
    "duration": 7,
    "start_time": "2022-01-20T12:59:30.920Z"
   },
   {
    "duration": 18,
    "start_time": "2022-01-20T12:59:30.929Z"
   },
   {
    "duration": 14,
    "start_time": "2022-01-20T12:59:30.949Z"
   },
   {
    "duration": 32,
    "start_time": "2022-01-20T12:59:30.971Z"
   },
   {
    "duration": 8,
    "start_time": "2022-01-20T12:59:31.005Z"
   },
   {
    "duration": 25,
    "start_time": "2022-01-20T12:59:31.014Z"
   },
   {
    "duration": 23,
    "start_time": "2022-01-20T12:59:31.040Z"
   },
   {
    "duration": 15,
    "start_time": "2022-01-20T12:59:31.065Z"
   },
   {
    "duration": 6,
    "start_time": "2022-01-20T12:59:31.085Z"
   },
   {
    "duration": 7,
    "start_time": "2022-01-20T12:59:31.135Z"
   },
   {
    "duration": 2,
    "start_time": "2022-01-20T12:59:31.159Z"
   },
   {
    "duration": 2,
    "start_time": "2022-01-20T12:59:31.182Z"
   },
   {
    "duration": 7,
    "start_time": "2022-01-20T12:59:31.204Z"
   },
   {
    "duration": 10,
    "start_time": "2022-01-20T12:59:31.226Z"
   },
   {
    "duration": 14,
    "start_time": "2022-01-20T12:59:31.237Z"
   },
   {
    "duration": 7,
    "start_time": "2022-01-20T12:59:31.269Z"
   },
   {
    "duration": 8,
    "start_time": "2022-01-20T12:59:31.287Z"
   },
   {
    "duration": 2,
    "start_time": "2022-01-20T12:59:31.312Z"
   },
   {
    "duration": 14,
    "start_time": "2022-01-20T12:59:31.352Z"
   },
   {
    "duration": 3,
    "start_time": "2022-01-20T12:59:31.374Z"
   },
   {
    "duration": 3,
    "start_time": "2022-01-20T12:59:31.424Z"
   },
   {
    "duration": 4,
    "start_time": "2022-01-20T12:59:31.442Z"
   },
   {
    "duration": 13,
    "start_time": "2022-01-20T12:59:31.468Z"
   },
   {
    "duration": 36,
    "start_time": "2022-01-20T12:59:31.490Z"
   },
   {
    "duration": 24,
    "start_time": "2022-01-20T12:59:31.528Z"
   },
   {
    "duration": 20,
    "start_time": "2022-01-20T12:59:31.554Z"
   },
   {
    "duration": 16,
    "start_time": "2022-01-20T12:59:31.576Z"
   },
   {
    "duration": 9,
    "start_time": "2022-01-20T12:59:31.594Z"
   },
   {
    "duration": 6,
    "start_time": "2022-01-20T12:59:31.624Z"
   },
   {
    "duration": 15,
    "start_time": "2022-01-20T12:59:31.648Z"
   },
   {
    "duration": 31,
    "start_time": "2022-01-20T12:59:31.682Z"
   },
   {
    "duration": 14,
    "start_time": "2022-01-20T12:59:31.714Z"
   },
   {
    "duration": 11,
    "start_time": "2022-01-20T12:59:31.729Z"
   },
   {
    "duration": 6,
    "start_time": "2022-01-20T12:59:31.744Z"
   },
   {
    "duration": 7,
    "start_time": "2022-01-20T12:59:31.819Z"
   },
   {
    "duration": 3,
    "start_time": "2022-01-20T12:59:32.126Z"
   },
   {
    "duration": 12,
    "start_time": "2022-01-20T12:59:32.153Z"
   },
   {
    "duration": 8,
    "start_time": "2022-01-20T12:59:32.172Z"
   },
   {
    "duration": 9,
    "start_time": "2022-01-20T12:59:32.188Z"
   },
   {
    "duration": 7,
    "start_time": "2022-01-20T12:59:32.204Z"
   },
   {
    "duration": 4,
    "start_time": "2022-01-20T12:59:32.221Z"
   },
   {
    "duration": 11,
    "start_time": "2022-01-20T12:59:32.235Z"
   },
   {
    "duration": 2,
    "start_time": "2022-01-20T12:59:32.254Z"
   },
   {
    "duration": 2,
    "start_time": "2022-01-20T12:59:32.267Z"
   },
   {
    "duration": 2,
    "start_time": "2022-01-20T12:59:32.296Z"
   },
   {
    "duration": 2,
    "start_time": "2022-01-20T12:59:32.319Z"
   },
   {
    "duration": 2,
    "start_time": "2022-01-20T12:59:32.337Z"
   },
   {
    "duration": 10,
    "start_time": "2022-01-20T12:59:32.378Z"
   },
   {
    "duration": 9,
    "start_time": "2022-01-20T12:59:32.421Z"
   },
   {
    "duration": 13,
    "start_time": "2022-01-20T13:00:54.099Z"
   },
   {
    "duration": 6,
    "start_time": "2022-01-20T13:00:56.011Z"
   },
   {
    "duration": 3,
    "start_time": "2022-01-20T13:00:57.879Z"
   },
   {
    "duration": 12,
    "start_time": "2022-01-20T13:00:59.161Z"
   },
   {
    "duration": 41,
    "start_time": "2022-01-20T13:01:21.174Z"
   },
   {
    "duration": 2,
    "start_time": "2022-01-20T13:01:21.217Z"
   },
   {
    "duration": 9,
    "start_time": "2022-01-20T13:01:21.221Z"
   },
   {
    "duration": 12,
    "start_time": "2022-01-20T13:01:21.232Z"
   },
   {
    "duration": 5,
    "start_time": "2022-01-20T13:01:21.248Z"
   },
   {
    "duration": 7,
    "start_time": "2022-01-20T13:01:21.265Z"
   },
   {
    "duration": 7,
    "start_time": "2022-01-20T13:01:21.294Z"
   },
   {
    "duration": 8,
    "start_time": "2022-01-20T13:01:21.320Z"
   },
   {
    "duration": 7,
    "start_time": "2022-01-20T13:01:21.338Z"
   },
   {
    "duration": 6,
    "start_time": "2022-01-20T13:01:21.360Z"
   },
   {
    "duration": 3,
    "start_time": "2022-01-20T13:01:21.386Z"
   },
   {
    "duration": 7,
    "start_time": "2022-01-20T13:01:21.430Z"
   },
   {
    "duration": 8,
    "start_time": "2022-01-20T13:01:21.447Z"
   },
   {
    "duration": 5,
    "start_time": "2022-01-20T13:01:21.468Z"
   },
   {
    "duration": 6,
    "start_time": "2022-01-20T13:01:21.488Z"
   },
   {
    "duration": 15,
    "start_time": "2022-01-20T13:01:21.511Z"
   },
   {
    "duration": 10,
    "start_time": "2022-01-20T13:01:21.548Z"
   },
   {
    "duration": 10,
    "start_time": "2022-01-20T13:01:21.560Z"
   },
   {
    "duration": 5,
    "start_time": "2022-01-20T13:01:21.586Z"
   },
   {
    "duration": 6,
    "start_time": "2022-01-20T13:01:21.605Z"
   },
   {
    "duration": 6,
    "start_time": "2022-01-20T13:01:21.637Z"
   },
   {
    "duration": 6,
    "start_time": "2022-01-20T13:01:21.657Z"
   },
   {
    "duration": 6,
    "start_time": "2022-01-20T13:01:21.675Z"
   },
   {
    "duration": 6,
    "start_time": "2022-01-20T13:01:21.699Z"
   },
   {
    "duration": 2,
    "start_time": "2022-01-20T13:01:21.717Z"
   },
   {
    "duration": 2,
    "start_time": "2022-01-20T13:01:21.728Z"
   },
   {
    "duration": 7,
    "start_time": "2022-01-20T13:01:21.754Z"
   },
   {
    "duration": 34,
    "start_time": "2022-01-20T13:01:21.781Z"
   },
   {
    "duration": 17,
    "start_time": "2022-01-20T13:01:21.817Z"
   },
   {
    "duration": 35,
    "start_time": "2022-01-20T13:01:21.836Z"
   },
   {
    "duration": 16,
    "start_time": "2022-01-20T13:01:21.873Z"
   },
   {
    "duration": 15,
    "start_time": "2022-01-20T13:01:21.891Z"
   },
   {
    "duration": 23,
    "start_time": "2022-01-20T13:01:21.907Z"
   },
   {
    "duration": 4,
    "start_time": "2022-01-20T13:01:21.932Z"
   },
   {
    "duration": 3,
    "start_time": "2022-01-20T13:01:21.954Z"
   },
   {
    "duration": 4,
    "start_time": "2022-01-20T13:01:21.983Z"
   },
   {
    "duration": 12,
    "start_time": "2022-01-20T13:01:22.037Z"
   },
   {
    "duration": 18,
    "start_time": "2022-01-20T13:01:22.064Z"
   },
   {
    "duration": 23,
    "start_time": "2022-01-20T13:01:22.090Z"
   },
   {
    "duration": 15,
    "start_time": "2022-01-20T13:01:22.115Z"
   },
   {
    "duration": 17,
    "start_time": "2022-01-20T13:01:22.131Z"
   },
   {
    "duration": 30,
    "start_time": "2022-01-20T13:01:22.149Z"
   },
   {
    "duration": 6,
    "start_time": "2022-01-20T13:01:22.180Z"
   },
   {
    "duration": 4,
    "start_time": "2022-01-20T13:01:22.188Z"
   },
   {
    "duration": 7,
    "start_time": "2022-01-20T13:01:22.210Z"
   },
   {
    "duration": 11,
    "start_time": "2022-01-20T13:01:22.229Z"
   },
   {
    "duration": 11,
    "start_time": "2022-01-20T13:01:22.246Z"
   },
   {
    "duration": 6,
    "start_time": "2022-01-20T13:01:22.272Z"
   },
   {
    "duration": 4,
    "start_time": "2022-01-20T13:01:22.295Z"
   },
   {
    "duration": 7,
    "start_time": "2022-01-20T13:01:30.731Z"
   },
   {
    "duration": 5,
    "start_time": "2022-01-20T13:01:32.339Z"
   },
   {
    "duration": 3,
    "start_time": "2022-01-20T13:01:34.192Z"
   },
   {
    "duration": 11,
    "start_time": "2022-01-20T13:01:35.718Z"
   },
   {
    "duration": 1254,
    "start_time": "2022-01-20T13:01:49.401Z"
   },
   {
    "duration": 3,
    "start_time": "2022-01-20T13:01:50.657Z"
   },
   {
    "duration": 12,
    "start_time": "2022-01-20T13:01:50.662Z"
   },
   {
    "duration": 18,
    "start_time": "2022-01-20T13:01:50.675Z"
   },
   {
    "duration": 10,
    "start_time": "2022-01-20T13:01:50.694Z"
   },
   {
    "duration": 8,
    "start_time": "2022-01-20T13:01:51.040Z"
   },
   {
    "duration": 15,
    "start_time": "2022-01-20T13:01:51.049Z"
   },
   {
    "duration": 9,
    "start_time": "2022-01-20T13:01:51.066Z"
   },
   {
    "duration": 8,
    "start_time": "2022-01-20T13:01:51.076Z"
   },
   {
    "duration": 8,
    "start_time": "2022-01-20T13:01:51.086Z"
   },
   {
    "duration": 5,
    "start_time": "2022-01-20T13:01:51.095Z"
   },
   {
    "duration": 12,
    "start_time": "2022-01-20T13:01:51.101Z"
   },
   {
    "duration": 11,
    "start_time": "2022-01-20T13:01:51.115Z"
   },
   {
    "duration": 9,
    "start_time": "2022-01-20T13:01:51.128Z"
   },
   {
    "duration": 11,
    "start_time": "2022-01-20T13:01:51.138Z"
   },
   {
    "duration": 30,
    "start_time": "2022-01-20T13:01:51.150Z"
   },
   {
    "duration": 10,
    "start_time": "2022-01-20T13:01:51.181Z"
   },
   {
    "duration": 12,
    "start_time": "2022-01-20T13:01:51.192Z"
   },
   {
    "duration": 15,
    "start_time": "2022-01-20T13:01:51.205Z"
   },
   {
    "duration": 18,
    "start_time": "2022-01-20T13:01:51.221Z"
   },
   {
    "duration": 10,
    "start_time": "2022-01-20T13:01:51.241Z"
   },
   {
    "duration": 14,
    "start_time": "2022-01-20T13:01:51.252Z"
   },
   {
    "duration": 12,
    "start_time": "2022-01-20T13:01:51.267Z"
   },
   {
    "duration": 13,
    "start_time": "2022-01-20T13:01:51.281Z"
   },
   {
    "duration": 17,
    "start_time": "2022-01-20T13:01:51.296Z"
   },
   {
    "duration": 11,
    "start_time": "2022-01-20T13:01:51.314Z"
   },
   {
    "duration": 25,
    "start_time": "2022-01-20T13:01:51.327Z"
   },
   {
    "duration": 14,
    "start_time": "2022-01-20T13:01:51.356Z"
   },
   {
    "duration": 9,
    "start_time": "2022-01-20T13:01:51.373Z"
   },
   {
    "duration": 13,
    "start_time": "2022-01-20T13:01:51.384Z"
   },
   {
    "duration": 9,
    "start_time": "2022-01-20T13:01:51.399Z"
   },
   {
    "duration": 10,
    "start_time": "2022-01-20T13:01:51.410Z"
   },
   {
    "duration": 21,
    "start_time": "2022-01-20T13:01:51.421Z"
   },
   {
    "duration": 4,
    "start_time": "2022-01-20T13:01:51.444Z"
   },
   {
    "duration": 7,
    "start_time": "2022-01-20T13:01:51.449Z"
   },
   {
    "duration": 11,
    "start_time": "2022-01-20T13:01:51.458Z"
   },
   {
    "duration": 16,
    "start_time": "2022-01-20T13:01:51.470Z"
   },
   {
    "duration": 20,
    "start_time": "2022-01-20T13:01:51.487Z"
   },
   {
    "duration": 22,
    "start_time": "2022-01-20T13:01:51.508Z"
   },
   {
    "duration": 15,
    "start_time": "2022-01-20T13:01:51.532Z"
   },
   {
    "duration": 36,
    "start_time": "2022-01-20T13:01:51.549Z"
   },
   {
    "duration": 10,
    "start_time": "2022-01-20T13:01:51.587Z"
   },
   {
    "duration": 8,
    "start_time": "2022-01-20T13:01:51.599Z"
   },
   {
    "duration": 5,
    "start_time": "2022-01-20T13:01:51.609Z"
   },
   {
    "duration": 16,
    "start_time": "2022-01-20T13:01:51.615Z"
   },
   {
    "duration": 19,
    "start_time": "2022-01-20T13:01:51.633Z"
   },
   {
    "duration": 23,
    "start_time": "2022-01-20T13:01:51.653Z"
   },
   {
    "duration": 6,
    "start_time": "2022-01-20T13:01:51.677Z"
   },
   {
    "duration": 15,
    "start_time": "2022-01-20T13:01:51.684Z"
   },
   {
    "duration": 9,
    "start_time": "2022-01-20T13:01:51.700Z"
   },
   {
    "duration": 20,
    "start_time": "2022-01-20T13:01:51.710Z"
   },
   {
    "duration": 11,
    "start_time": "2022-01-20T13:01:51.731Z"
   },
   {
    "duration": 10,
    "start_time": "2022-01-20T13:01:51.744Z"
   },
   {
    "duration": 20,
    "start_time": "2022-01-20T13:01:51.755Z"
   },
   {
    "duration": 6,
    "start_time": "2022-01-20T13:01:51.776Z"
   },
   {
    "duration": 14,
    "start_time": "2022-01-20T13:01:51.784Z"
   },
   {
    "duration": 2,
    "start_time": "2022-01-20T13:01:51.800Z"
   },
   {
    "duration": 12,
    "start_time": "2022-01-20T13:01:51.803Z"
   },
   {
    "duration": 14,
    "start_time": "2022-01-20T13:01:51.816Z"
   },
   {
    "duration": 13,
    "start_time": "2022-01-20T13:01:51.831Z"
   },
   {
    "duration": 13,
    "start_time": "2022-01-20T13:01:51.846Z"
   },
   {
    "duration": 18,
    "start_time": "2022-01-20T13:01:51.860Z"
   },
   {
    "duration": 15,
    "start_time": "2022-01-20T13:01:51.879Z"
   },
   {
    "duration": 5,
    "start_time": "2022-01-20T13:01:51.896Z"
   },
   {
    "duration": 10,
    "start_time": "2022-01-20T13:01:51.902Z"
   },
   {
    "duration": 11,
    "start_time": "2022-01-20T13:02:14.121Z"
   },
   {
    "duration": 13,
    "start_time": "2022-01-20T13:03:12.234Z"
   },
   {
    "duration": 11,
    "start_time": "2022-01-20T13:03:17.825Z"
   },
   {
    "duration": 6,
    "start_time": "2022-01-20T13:03:22.556Z"
   },
   {
    "duration": 12,
    "start_time": "2022-01-20T15:11:42.524Z"
   },
   {
    "duration": 839,
    "start_time": "2022-01-20T15:12:34.294Z"
   },
   {
    "duration": 710,
    "start_time": "2022-01-20T15:12:42.674Z"
   },
   {
    "duration": 13,
    "start_time": "2022-01-20T15:14:26.182Z"
   },
   {
    "duration": 42,
    "start_time": "2022-01-20T15:14:39.687Z"
   },
   {
    "duration": 3,
    "start_time": "2022-01-20T15:14:39.730Z"
   },
   {
    "duration": 22,
    "start_time": "2022-01-20T15:14:39.736Z"
   },
   {
    "duration": 20,
    "start_time": "2022-01-20T15:14:39.760Z"
   },
   {
    "duration": 5,
    "start_time": "2022-01-20T15:14:39.782Z"
   },
   {
    "duration": 9,
    "start_time": "2022-01-20T15:14:39.789Z"
   },
   {
    "duration": 7,
    "start_time": "2022-01-20T15:14:39.800Z"
   },
   {
    "duration": 11,
    "start_time": "2022-01-20T15:14:39.809Z"
   },
   {
    "duration": 9,
    "start_time": "2022-01-20T15:14:39.822Z"
   },
   {
    "duration": 9,
    "start_time": "2022-01-20T15:14:39.833Z"
   },
   {
    "duration": 2,
    "start_time": "2022-01-20T15:14:39.872Z"
   },
   {
    "duration": 10,
    "start_time": "2022-01-20T15:14:39.876Z"
   },
   {
    "duration": 13,
    "start_time": "2022-01-20T15:14:39.888Z"
   },
   {
    "duration": 8,
    "start_time": "2022-01-20T15:14:39.902Z"
   },
   {
    "duration": 10,
    "start_time": "2022-01-20T15:14:39.912Z"
   },
   {
    "duration": 17,
    "start_time": "2022-01-20T15:14:39.924Z"
   },
   {
    "duration": 36,
    "start_time": "2022-01-20T15:14:39.943Z"
   },
   {
    "duration": 11,
    "start_time": "2022-01-20T15:14:39.981Z"
   },
   {
    "duration": 7,
    "start_time": "2022-01-20T15:14:39.993Z"
   },
   {
    "duration": 14,
    "start_time": "2022-01-20T15:14:40.001Z"
   },
   {
    "duration": 11,
    "start_time": "2022-01-20T15:14:40.016Z"
   },
   {
    "duration": 11,
    "start_time": "2022-01-20T15:14:40.029Z"
   },
   {
    "duration": 33,
    "start_time": "2022-01-20T15:14:40.041Z"
   },
   {
    "duration": 8,
    "start_time": "2022-01-20T15:14:40.077Z"
   },
   {
    "duration": 6,
    "start_time": "2022-01-20T15:14:40.087Z"
   },
   {
    "duration": 7,
    "start_time": "2022-01-20T15:14:40.095Z"
   },
   {
    "duration": 14,
    "start_time": "2022-01-20T15:14:40.104Z"
   },
   {
    "duration": 16,
    "start_time": "2022-01-20T15:14:40.119Z"
   },
   {
    "duration": 3,
    "start_time": "2022-01-20T15:14:40.136Z"
   },
   {
    "duration": 14,
    "start_time": "2022-01-20T15:14:40.140Z"
   },
   {
    "duration": 17,
    "start_time": "2022-01-20T15:14:40.155Z"
   },
   {
    "duration": 7,
    "start_time": "2022-01-20T15:14:40.173Z"
   },
   {
    "duration": 22,
    "start_time": "2022-01-20T15:14:40.181Z"
   },
   {
    "duration": 3,
    "start_time": "2022-01-20T15:14:40.205Z"
   },
   {
    "duration": 6,
    "start_time": "2022-01-20T15:14:40.210Z"
   },
   {
    "duration": 11,
    "start_time": "2022-01-20T15:14:40.219Z"
   },
   {
    "duration": 14,
    "start_time": "2022-01-20T15:14:40.232Z"
   },
   {
    "duration": 41,
    "start_time": "2022-01-20T15:14:40.248Z"
   },
   {
    "duration": 25,
    "start_time": "2022-01-20T15:14:40.291Z"
   },
   {
    "duration": 16,
    "start_time": "2022-01-20T15:14:40.318Z"
   },
   {
    "duration": 39,
    "start_time": "2022-01-20T15:14:40.335Z"
   },
   {
    "duration": 10,
    "start_time": "2022-01-20T15:14:40.375Z"
   },
   {
    "duration": 6,
    "start_time": "2022-01-20T15:14:40.386Z"
   },
   {
    "duration": 4,
    "start_time": "2022-01-20T15:14:40.393Z"
   },
   {
    "duration": 7,
    "start_time": "2022-01-20T15:14:40.399Z"
   },
   {
    "duration": 13,
    "start_time": "2022-01-20T15:14:40.408Z"
   },
   {
    "duration": 48,
    "start_time": "2022-01-20T15:14:40.423Z"
   },
   {
    "duration": 7,
    "start_time": "2022-01-20T15:14:40.474Z"
   },
   {
    "duration": 9,
    "start_time": "2022-01-20T15:14:40.482Z"
   },
   {
    "duration": 8184,
    "start_time": "2022-01-20T15:15:08.380Z"
   },
   {
    "duration": 23,
    "start_time": "2022-01-20T15:19:17.747Z"
   },
   {
    "duration": 324,
    "start_time": "2022-01-20T15:19:34.098Z"
   },
   {
    "duration": 9,
    "start_time": "2022-01-20T15:19:48.620Z"
   },
   {
    "duration": 388,
    "start_time": "2022-01-20T15:19:55.514Z"
   },
   {
    "duration": 17,
    "start_time": "2022-01-20T15:20:16.270Z"
   },
   {
    "duration": 17,
    "start_time": "2022-01-20T15:20:24.470Z"
   },
   {
    "duration": 6,
    "start_time": "2022-01-20T15:20:37.003Z"
   },
   {
    "duration": 16,
    "start_time": "2022-01-20T15:22:33.804Z"
   },
   {
    "duration": 346,
    "start_time": "2022-01-20T15:24:51.372Z"
   },
   {
    "duration": 300,
    "start_time": "2022-01-20T15:24:54.605Z"
   },
   {
    "duration": 16,
    "start_time": "2022-01-20T15:25:00.627Z"
   },
   {
    "duration": 11,
    "start_time": "2022-01-20T15:25:22.604Z"
   },
   {
    "duration": 7,
    "start_time": "2022-01-20T15:26:43.865Z"
   },
   {
    "duration": 7,
    "start_time": "2022-01-20T15:26:47.317Z"
   },
   {
    "duration": 7,
    "start_time": "2022-01-20T15:26:50.956Z"
   },
   {
    "duration": 7,
    "start_time": "2022-01-20T15:27:25.164Z"
   },
   {
    "duration": 3,
    "start_time": "2022-01-20T15:32:23.187Z"
   },
   {
    "duration": 16,
    "start_time": "2022-01-20T15:33:27.061Z"
   },
   {
    "duration": 12,
    "start_time": "2022-01-20T15:33:37.622Z"
   },
   {
    "duration": 13,
    "start_time": "2022-01-20T15:34:14.695Z"
   },
   {
    "duration": 13,
    "start_time": "2022-01-20T15:34:51.222Z"
   },
   {
    "duration": 340,
    "start_time": "2022-01-20T15:37:14.476Z"
   },
   {
    "duration": 322,
    "start_time": "2022-01-20T15:37:29.558Z"
   },
   {
    "duration": 313,
    "start_time": "2022-01-20T15:37:35.597Z"
   },
   {
    "duration": 41,
    "start_time": "2022-01-20T15:37:45.872Z"
   },
   {
    "duration": 3,
    "start_time": "2022-01-20T15:37:45.915Z"
   },
   {
    "duration": 22,
    "start_time": "2022-01-20T15:37:45.919Z"
   },
   {
    "duration": 18,
    "start_time": "2022-01-20T15:37:45.943Z"
   },
   {
    "duration": 6,
    "start_time": "2022-01-20T15:37:45.963Z"
   },
   {
    "duration": 6,
    "start_time": "2022-01-20T15:37:45.971Z"
   },
   {
    "duration": 5,
    "start_time": "2022-01-20T15:37:45.979Z"
   },
   {
    "duration": 8,
    "start_time": "2022-01-20T15:37:45.986Z"
   },
   {
    "duration": 14,
    "start_time": "2022-01-20T15:37:45.996Z"
   },
   {
    "duration": 10,
    "start_time": "2022-01-20T15:37:46.012Z"
   },
   {
    "duration": 7,
    "start_time": "2022-01-20T15:37:46.024Z"
   },
   {
    "duration": 7,
    "start_time": "2022-01-20T15:37:46.071Z"
   },
   {
    "duration": 11,
    "start_time": "2022-01-20T15:37:46.079Z"
   },
   {
    "duration": 7,
    "start_time": "2022-01-20T15:37:46.091Z"
   },
   {
    "duration": 9,
    "start_time": "2022-01-20T15:37:46.100Z"
   },
   {
    "duration": 16,
    "start_time": "2022-01-20T15:37:46.111Z"
   },
   {
    "duration": 9,
    "start_time": "2022-01-20T15:37:46.128Z"
   },
   {
    "duration": 38,
    "start_time": "2022-01-20T15:37:46.139Z"
   },
   {
    "duration": 6,
    "start_time": "2022-01-20T15:37:46.179Z"
   },
   {
    "duration": 7,
    "start_time": "2022-01-20T15:37:46.186Z"
   },
   {
    "duration": 8,
    "start_time": "2022-01-20T15:37:46.195Z"
   },
   {
    "duration": 8,
    "start_time": "2022-01-20T15:37:46.205Z"
   },
   {
    "duration": 8,
    "start_time": "2022-01-20T15:37:46.214Z"
   },
   {
    "duration": 12,
    "start_time": "2022-01-20T15:37:46.223Z"
   },
   {
    "duration": 5,
    "start_time": "2022-01-20T15:37:46.236Z"
   },
   {
    "duration": 28,
    "start_time": "2022-01-20T15:37:46.243Z"
   },
   {
    "duration": 7,
    "start_time": "2022-01-20T15:37:46.273Z"
   },
   {
    "duration": 11,
    "start_time": "2022-01-20T15:37:46.282Z"
   },
   {
    "duration": 2,
    "start_time": "2022-01-20T15:37:46.295Z"
   },
   {
    "duration": 12,
    "start_time": "2022-01-20T15:37:46.298Z"
   },
   {
    "duration": 6,
    "start_time": "2022-01-20T15:37:46.312Z"
   },
   {
    "duration": 8,
    "start_time": "2022-01-20T15:37:46.319Z"
   },
   {
    "duration": 18,
    "start_time": "2022-01-20T15:37:46.330Z"
   },
   {
    "duration": 2,
    "start_time": "2022-01-20T15:37:46.350Z"
   },
   {
    "duration": 2,
    "start_time": "2022-01-20T15:37:46.376Z"
   },
   {
    "duration": 7,
    "start_time": "2022-01-20T15:37:46.383Z"
   },
   {
    "duration": 12,
    "start_time": "2022-01-20T15:37:46.397Z"
   },
   {
    "duration": 21,
    "start_time": "2022-01-20T15:37:46.413Z"
   },
   {
    "duration": 36,
    "start_time": "2022-01-20T15:37:46.439Z"
   },
   {
    "duration": 15,
    "start_time": "2022-01-20T15:37:46.476Z"
   },
   {
    "duration": 16,
    "start_time": "2022-01-20T15:37:46.493Z"
   },
   {
    "duration": 9,
    "start_time": "2022-01-20T15:37:46.511Z"
   },
   {
    "duration": 5,
    "start_time": "2022-01-20T15:37:46.522Z"
   },
   {
    "duration": 5,
    "start_time": "2022-01-20T15:37:46.529Z"
   },
   {
    "duration": 6,
    "start_time": "2022-01-20T15:37:46.572Z"
   },
   {
    "duration": 12,
    "start_time": "2022-01-20T15:37:46.580Z"
   },
   {
    "duration": 9,
    "start_time": "2022-01-20T15:37:46.594Z"
   },
   {
    "duration": 6,
    "start_time": "2022-01-20T15:37:46.605Z"
   },
   {
    "duration": 10,
    "start_time": "2022-01-20T15:37:46.612Z"
   },
   {
    "duration": 5,
    "start_time": "2022-01-20T15:37:46.623Z"
   },
   {
    "duration": 43,
    "start_time": "2022-01-20T15:37:46.632Z"
   },
   {
    "duration": 13,
    "start_time": "2022-01-20T15:37:46.676Z"
   },
   {
    "duration": 6,
    "start_time": "2022-01-20T15:37:46.691Z"
   },
   {
    "duration": 12,
    "start_time": "2022-01-20T15:37:46.699Z"
   },
   {
    "duration": 12,
    "start_time": "2022-01-20T15:37:46.712Z"
   },
   {
    "duration": 17,
    "start_time": "2022-01-20T15:37:46.726Z"
   },
   {
    "duration": 35,
    "start_time": "2022-01-20T15:37:46.745Z"
   },
   {
    "duration": 7,
    "start_time": "2022-01-20T15:37:46.781Z"
   },
   {
    "duration": 10,
    "start_time": "2022-01-20T15:37:46.789Z"
   },
   {
    "duration": 10,
    "start_time": "2022-01-20T15:37:46.801Z"
   },
   {
    "duration": 14,
    "start_time": "2022-01-20T15:37:46.937Z"
   },
   {
    "duration": 16,
    "start_time": "2022-01-20T15:37:46.953Z"
   },
   {
    "duration": 2,
    "start_time": "2022-01-20T15:37:46.971Z"
   },
   {
    "duration": 10,
    "start_time": "2022-01-20T15:37:46.982Z"
   },
   {
    "duration": 339,
    "start_time": "2022-01-20T15:43:26.219Z"
   },
   {
    "duration": 304,
    "start_time": "2022-01-20T15:43:34.038Z"
   },
   {
    "duration": 316,
    "start_time": "2022-01-20T15:44:05.587Z"
   },
   {
    "duration": 7,
    "start_time": "2022-01-20T15:44:39.786Z"
   },
   {
    "duration": 41,
    "start_time": "2022-01-20T15:44:43.163Z"
   },
   {
    "duration": 3,
    "start_time": "2022-01-20T15:44:43.206Z"
   },
   {
    "duration": 7,
    "start_time": "2022-01-20T15:44:43.213Z"
   },
   {
    "duration": 10,
    "start_time": "2022-01-20T15:44:43.233Z"
   },
   {
    "duration": 6,
    "start_time": "2022-01-20T15:44:43.254Z"
   },
   {
    "duration": 6,
    "start_time": "2022-01-20T15:44:43.268Z"
   },
   {
    "duration": 6,
    "start_time": "2022-01-20T15:44:43.297Z"
   },
   {
    "duration": 9,
    "start_time": "2022-01-20T15:44:43.320Z"
   },
   {
    "duration": 7,
    "start_time": "2022-01-20T15:44:43.330Z"
   },
   {
    "duration": 6,
    "start_time": "2022-01-20T15:44:43.348Z"
   },
   {
    "duration": 2,
    "start_time": "2022-01-20T15:44:43.360Z"
   },
   {
    "duration": 7,
    "start_time": "2022-01-20T15:44:43.387Z"
   },
   {
    "duration": 9,
    "start_time": "2022-01-20T15:44:43.401Z"
   },
   {
    "duration": 4,
    "start_time": "2022-01-20T15:44:43.420Z"
   },
   {
    "duration": 7,
    "start_time": "2022-01-20T15:44:43.461Z"
   },
   {
    "duration": 14,
    "start_time": "2022-01-20T15:44:43.474Z"
   },
   {
    "duration": 10,
    "start_time": "2022-01-20T15:44:43.514Z"
   },
   {
    "duration": 9,
    "start_time": "2022-01-20T15:44:43.539Z"
   },
   {
    "duration": 5,
    "start_time": "2022-01-20T15:44:43.561Z"
   },
   {
    "duration": 6,
    "start_time": "2022-01-20T15:44:43.589Z"
   },
   {
    "duration": 6,
    "start_time": "2022-01-20T15:44:43.618Z"
   },
   {
    "duration": 6,
    "start_time": "2022-01-20T15:44:43.636Z"
   },
   {
    "duration": 5,
    "start_time": "2022-01-20T15:44:43.655Z"
   },
   {
    "duration": 5,
    "start_time": "2022-01-20T15:44:43.683Z"
   },
   {
    "duration": 2,
    "start_time": "2022-01-20T15:44:43.701Z"
   },
   {
    "duration": 2,
    "start_time": "2022-01-20T15:44:43.717Z"
   },
   {
    "duration": 6,
    "start_time": "2022-01-20T15:44:43.740Z"
   },
   {
    "duration": 10,
    "start_time": "2022-01-20T15:44:43.753Z"
   },
   {
    "duration": 1,
    "start_time": "2022-01-20T15:44:43.767Z"
   },
   {
    "duration": 7,
    "start_time": "2022-01-20T15:44:43.794Z"
   },
   {
    "duration": 2,
    "start_time": "2022-01-20T15:44:43.806Z"
   },
   {
    "duration": 2,
    "start_time": "2022-01-20T15:44:43.822Z"
   },
   {
    "duration": 17,
    "start_time": "2022-01-20T15:44:43.843Z"
   },
   {
    "duration": 3,
    "start_time": "2022-01-20T15:44:43.864Z"
   },
   {
    "duration": 3,
    "start_time": "2022-01-20T15:44:43.891Z"
   },
   {
    "duration": 4,
    "start_time": "2022-01-20T15:44:43.910Z"
   },
   {
    "duration": 11,
    "start_time": "2022-01-20T15:44:43.924Z"
   },
   {
    "duration": 20,
    "start_time": "2022-01-20T15:44:43.945Z"
   },
   {
    "duration": 23,
    "start_time": "2022-01-20T15:44:43.972Z"
   },
   {
    "duration": 15,
    "start_time": "2022-01-20T15:44:43.997Z"
   },
   {
    "duration": 16,
    "start_time": "2022-01-20T15:44:44.014Z"
   },
   {
    "duration": 10,
    "start_time": "2022-01-20T15:44:44.040Z"
   },
   {
    "duration": 6,
    "start_time": "2022-01-20T15:44:44.071Z"
   },
   {
    "duration": 6,
    "start_time": "2022-01-20T15:44:44.078Z"
   },
   {
    "duration": 13,
    "start_time": "2022-01-20T15:44:44.094Z"
   },
   {
    "duration": 22,
    "start_time": "2022-01-20T15:44:44.110Z"
   },
   {
    "duration": 16,
    "start_time": "2022-01-20T15:44:44.134Z"
   },
   {
    "duration": 17,
    "start_time": "2022-01-20T15:44:44.151Z"
   },
   {
    "duration": 16,
    "start_time": "2022-01-20T15:44:44.170Z"
   },
   {
    "duration": 17,
    "start_time": "2022-01-20T15:44:44.188Z"
   },
   {
    "duration": 44,
    "start_time": "2022-01-20T15:44:44.206Z"
   },
   {
    "duration": 17,
    "start_time": "2022-01-20T15:44:44.252Z"
   },
   {
    "duration": 14,
    "start_time": "2022-01-20T15:44:44.270Z"
   },
   {
    "duration": 23,
    "start_time": "2022-01-20T15:44:44.285Z"
   },
   {
    "duration": 21,
    "start_time": "2022-01-20T15:44:44.309Z"
   },
   {
    "duration": 27,
    "start_time": "2022-01-20T15:44:44.331Z"
   },
   {
    "duration": 16,
    "start_time": "2022-01-20T15:44:44.360Z"
   },
   {
    "duration": 6,
    "start_time": "2022-01-20T15:45:36.403Z"
   },
   {
    "duration": -16,
    "start_time": "2022-01-20T15:45:54.204Z"
   },
   {
    "duration": 318,
    "start_time": "2022-01-20T15:46:28.582Z"
   },
   {
    "duration": 311,
    "start_time": "2022-01-20T15:46:31.502Z"
   },
   {
    "duration": 316,
    "start_time": "2022-01-20T15:46:37.324Z"
   },
   {
    "duration": 97,
    "start_time": "2022-01-20T15:46:44.335Z"
   },
   {
    "duration": 333,
    "start_time": "2022-01-20T15:46:47.959Z"
   },
   {
    "duration": 40,
    "start_time": "2022-01-20T15:46:56.303Z"
   },
   {
    "duration": 2,
    "start_time": "2022-01-20T15:46:56.345Z"
   },
   {
    "duration": 9,
    "start_time": "2022-01-20T15:46:56.349Z"
   },
   {
    "duration": 10,
    "start_time": "2022-01-20T15:46:56.359Z"
   },
   {
    "duration": 5,
    "start_time": "2022-01-20T15:46:56.371Z"
   },
   {
    "duration": 6,
    "start_time": "2022-01-20T15:46:56.378Z"
   },
   {
    "duration": 6,
    "start_time": "2022-01-20T15:46:56.387Z"
   },
   {
    "duration": 8,
    "start_time": "2022-01-20T15:46:56.399Z"
   },
   {
    "duration": 8,
    "start_time": "2022-01-20T15:46:56.412Z"
   },
   {
    "duration": 7,
    "start_time": "2022-01-20T15:46:56.425Z"
   },
   {
    "duration": 2,
    "start_time": "2022-01-20T15:46:56.441Z"
   },
   {
    "duration": 6,
    "start_time": "2022-01-20T15:46:56.475Z"
   },
   {
    "duration": 12,
    "start_time": "2022-01-20T15:46:56.485Z"
   },
   {
    "duration": 8,
    "start_time": "2022-01-20T15:46:56.499Z"
   },
   {
    "duration": 8,
    "start_time": "2022-01-20T15:46:56.511Z"
   },
   {
    "duration": 14,
    "start_time": "2022-01-20T15:46:56.526Z"
   },
   {
    "duration": 9,
    "start_time": "2022-01-20T15:46:56.542Z"
   },
   {
    "duration": 11,
    "start_time": "2022-01-20T15:46:56.573Z"
   },
   {
    "duration": 7,
    "start_time": "2022-01-20T15:46:56.585Z"
   },
   {
    "duration": 10,
    "start_time": "2022-01-20T15:46:56.594Z"
   },
   {
    "duration": 9,
    "start_time": "2022-01-20T15:46:56.606Z"
   },
   {
    "duration": 6,
    "start_time": "2022-01-20T15:46:56.619Z"
   },
   {
    "duration": 6,
    "start_time": "2022-01-20T15:46:56.630Z"
   },
   {
    "duration": 6,
    "start_time": "2022-01-20T15:46:56.644Z"
   },
   {
    "duration": 1,
    "start_time": "2022-01-20T15:46:56.672Z"
   },
   {
    "duration": 1,
    "start_time": "2022-01-20T15:46:56.686Z"
   },
   {
    "duration": 11,
    "start_time": "2022-01-20T15:46:56.689Z"
   },
   {
    "duration": 13,
    "start_time": "2022-01-20T15:46:56.702Z"
   },
   {
    "duration": 4,
    "start_time": "2022-01-20T15:46:56.716Z"
   },
   {
    "duration": 5,
    "start_time": "2022-01-20T15:46:56.728Z"
   },
   {
    "duration": 3,
    "start_time": "2022-01-20T15:46:56.738Z"
   },
   {
    "duration": 2,
    "start_time": "2022-01-20T15:46:56.750Z"
   },
   {
    "duration": 14,
    "start_time": "2022-01-20T15:46:56.771Z"
   },
   {
    "duration": 3,
    "start_time": "2022-01-20T15:46:56.789Z"
   },
   {
    "duration": 2,
    "start_time": "2022-01-20T15:46:56.820Z"
   },
   {
    "duration": 3,
    "start_time": "2022-01-20T15:46:56.835Z"
   },
   {
    "duration": 12,
    "start_time": "2022-01-20T15:46:56.848Z"
   },
   {
    "duration": 22,
    "start_time": "2022-01-20T15:46:56.866Z"
   },
   {
    "duration": 25,
    "start_time": "2022-01-20T15:46:56.890Z"
   },
   {
    "duration": 16,
    "start_time": "2022-01-20T15:46:56.916Z"
   },
   {
    "duration": 17,
    "start_time": "2022-01-20T15:46:56.933Z"
   },
   {
    "duration": 12,
    "start_time": "2022-01-20T15:46:56.971Z"
   },
   {
    "duration": 6,
    "start_time": "2022-01-20T15:46:56.985Z"
   },
   {
    "duration": 4,
    "start_time": "2022-01-20T15:46:56.993Z"
   },
   {
    "duration": 11,
    "start_time": "2022-01-20T15:46:57.000Z"
   },
   {
    "duration": 15,
    "start_time": "2022-01-20T15:46:57.012Z"
   },
   {
    "duration": 45,
    "start_time": "2022-01-20T15:46:57.028Z"
   },
   {
    "duration": 6,
    "start_time": "2022-01-20T15:46:57.075Z"
   },
   {
    "duration": 8,
    "start_time": "2022-01-20T15:46:57.083Z"
   },
   {
    "duration": 5,
    "start_time": "2022-01-20T15:46:57.092Z"
   },
   {
    "duration": 20,
    "start_time": "2022-01-20T15:46:57.099Z"
   },
   {
    "duration": 13,
    "start_time": "2022-01-20T15:46:57.121Z"
   },
   {
    "duration": 5,
    "start_time": "2022-01-20T15:46:57.136Z"
   },
   {
    "duration": 33,
    "start_time": "2022-01-20T15:46:57.143Z"
   },
   {
    "duration": 4,
    "start_time": "2022-01-20T15:46:57.178Z"
   },
   {
    "duration": 16,
    "start_time": "2022-01-20T15:46:57.184Z"
   },
   {
    "duration": 9,
    "start_time": "2022-01-20T15:46:57.202Z"
   },
   {
    "duration": 6,
    "start_time": "2022-01-20T15:46:57.213Z"
   },
   {
    "duration": 11,
    "start_time": "2022-01-20T15:46:57.220Z"
   },
   {
    "duration": 10,
    "start_time": "2022-01-20T15:46:57.233Z"
   },
   {
    "duration": 34,
    "start_time": "2022-01-20T15:46:57.245Z"
   },
   {
    "duration": 11,
    "start_time": "2022-01-20T15:46:57.281Z"
   },
   {
    "duration": 2,
    "start_time": "2022-01-20T15:46:57.294Z"
   },
   {
    "duration": 8,
    "start_time": "2022-01-20T15:46:57.298Z"
   },
   {
    "duration": 20,
    "start_time": "2022-01-20T15:46:57.308Z"
   },
   {
    "duration": 313,
    "start_time": "2022-01-20T15:47:23.631Z"
   },
   {
    "duration": 9,
    "start_time": "2022-01-20T15:47:53.986Z"
   },
   {
    "duration": 6,
    "start_time": "2022-01-21T11:53:11.993Z"
   },
   {
    "duration": 319,
    "start_time": "2022-01-21T12:34:28.407Z"
   },
   {
    "duration": 313,
    "start_time": "2022-01-21T12:34:48.854Z"
   },
   {
    "duration": 2465,
    "start_time": "2022-01-21T12:35:06.228Z"
   },
   {
    "duration": 350,
    "start_time": "2022-01-21T12:36:22.607Z"
   },
   {
    "duration": 300,
    "start_time": "2022-01-21T12:36:57.945Z"
   },
   {
    "duration": 50,
    "start_time": "2022-01-21T12:37:02.759Z"
   },
   {
    "duration": 724,
    "start_time": "2022-01-21T12:37:07.703Z"
   },
   {
    "duration": 309,
    "start_time": "2022-01-21T12:37:19.506Z"
   },
   {
    "duration": 303,
    "start_time": "2022-01-21T12:37:25.064Z"
   },
   {
    "duration": 43,
    "start_time": "2022-01-21T12:37:34.343Z"
   },
   {
    "duration": 400,
    "start_time": "2022-01-21T12:41:00.134Z"
   },
   {
    "duration": 302,
    "start_time": "2022-01-21T12:42:53.550Z"
   },
   {
    "duration": 41,
    "start_time": "2022-01-21T12:43:23.045Z"
   },
   {
    "duration": 40,
    "start_time": "2022-01-21T12:43:28.838Z"
   },
   {
    "duration": 3,
    "start_time": "2022-01-21T12:43:28.880Z"
   },
   {
    "duration": 13,
    "start_time": "2022-01-21T12:43:28.885Z"
   },
   {
    "duration": 10,
    "start_time": "2022-01-21T12:43:28.983Z"
   },
   {
    "duration": 5,
    "start_time": "2022-01-21T12:43:28.995Z"
   },
   {
    "duration": 6,
    "start_time": "2022-01-21T12:43:29.002Z"
   },
   {
    "duration": 5,
    "start_time": "2022-01-21T12:43:29.010Z"
   },
   {
    "duration": 8,
    "start_time": "2022-01-21T12:43:29.017Z"
   },
   {
    "duration": 8,
    "start_time": "2022-01-21T12:43:29.026Z"
   },
   {
    "duration": 38,
    "start_time": "2022-01-21T12:43:29.035Z"
   },
   {
    "duration": 8,
    "start_time": "2022-01-21T12:43:29.075Z"
   },
   {
    "duration": 7,
    "start_time": "2022-01-21T12:43:29.162Z"
   },
   {
    "duration": 13,
    "start_time": "2022-01-21T12:43:29.171Z"
   },
   {
    "duration": 7,
    "start_time": "2022-01-21T12:43:29.187Z"
   },
   {
    "duration": 7,
    "start_time": "2022-01-21T12:43:29.197Z"
   },
   {
    "duration": 14,
    "start_time": "2022-01-21T12:43:29.206Z"
   },
   {
    "duration": 10,
    "start_time": "2022-01-21T12:43:29.222Z"
   },
   {
    "duration": 40,
    "start_time": "2022-01-21T12:43:29.233Z"
   },
   {
    "duration": 6,
    "start_time": "2022-01-21T12:43:29.274Z"
   },
   {
    "duration": 6,
    "start_time": "2022-01-21T12:43:29.283Z"
   },
   {
    "duration": 6,
    "start_time": "2022-01-21T12:43:29.315Z"
   },
   {
    "duration": 7,
    "start_time": "2022-01-21T12:43:29.323Z"
   },
   {
    "duration": 6,
    "start_time": "2022-01-21T12:43:29.332Z"
   },
   {
    "duration": 11,
    "start_time": "2022-01-21T12:43:29.340Z"
   },
   {
    "duration": 10,
    "start_time": "2022-01-21T12:43:29.353Z"
   },
   {
    "duration": 9,
    "start_time": "2022-01-21T12:43:29.365Z"
   },
   {
    "duration": 13,
    "start_time": "2022-01-21T12:43:29.375Z"
   },
   {
    "duration": 14,
    "start_time": "2022-01-21T12:43:29.389Z"
   },
   {
    "duration": 3,
    "start_time": "2022-01-21T12:43:29.405Z"
   },
   {
    "duration": 11,
    "start_time": "2022-01-21T12:43:29.409Z"
   },
   {
    "duration": 7,
    "start_time": "2022-01-21T12:43:29.421Z"
   },
   {
    "duration": 8,
    "start_time": "2022-01-21T12:43:29.429Z"
   },
   {
    "duration": 15,
    "start_time": "2022-01-21T12:43:29.486Z"
   },
   {
    "duration": 2,
    "start_time": "2022-01-21T12:43:29.503Z"
   },
   {
    "duration": 4,
    "start_time": "2022-01-21T12:43:29.507Z"
   },
   {
    "duration": 11,
    "start_time": "2022-01-21T12:43:29.513Z"
   },
   {
    "duration": 15,
    "start_time": "2022-01-21T12:43:29.526Z"
   },
   {
    "duration": 24,
    "start_time": "2022-01-21T12:43:29.543Z"
   },
   {
    "duration": 24,
    "start_time": "2022-01-21T12:43:29.569Z"
   },
   {
    "duration": 17,
    "start_time": "2022-01-21T12:43:29.595Z"
   },
   {
    "duration": 17,
    "start_time": "2022-01-21T12:43:29.614Z"
   },
   {
    "duration": 35,
    "start_time": "2022-01-21T12:43:29.641Z"
   },
   {
    "duration": 6,
    "start_time": "2022-01-21T12:43:29.677Z"
   },
   {
    "duration": 3,
    "start_time": "2022-01-21T12:43:29.685Z"
   },
   {
    "duration": 10,
    "start_time": "2022-01-21T12:43:29.690Z"
   },
   {
    "duration": 18,
    "start_time": "2022-01-21T12:43:29.702Z"
   },
   {
    "duration": 10,
    "start_time": "2022-01-21T12:43:29.721Z"
   },
   {
    "duration": 6,
    "start_time": "2022-01-21T12:43:29.733Z"
   },
   {
    "duration": 37,
    "start_time": "2022-01-21T12:43:29.741Z"
   },
   {
    "duration": 3,
    "start_time": "2022-01-21T12:43:29.780Z"
   },
   {
    "duration": 20,
    "start_time": "2022-01-21T12:43:29.785Z"
   },
   {
    "duration": 14,
    "start_time": "2022-01-21T12:43:29.807Z"
   },
   {
    "duration": 6,
    "start_time": "2022-01-21T12:43:29.823Z"
   },
   {
    "duration": 42,
    "start_time": "2022-01-21T12:43:29.830Z"
   },
   {
    "duration": 5,
    "start_time": "2022-01-21T12:43:29.875Z"
   },
   {
    "duration": 17,
    "start_time": "2022-01-21T12:43:29.882Z"
   },
   {
    "duration": 10,
    "start_time": "2022-01-21T12:43:29.901Z"
   },
   {
    "duration": 7,
    "start_time": "2022-01-21T12:43:29.912Z"
   },
   {
    "duration": 10,
    "start_time": "2022-01-21T12:43:29.920Z"
   },
   {
    "duration": 9,
    "start_time": "2022-01-21T12:43:29.932Z"
   },
   {
    "duration": 13,
    "start_time": "2022-01-21T12:43:29.972Z"
   },
   {
    "duration": 12,
    "start_time": "2022-01-21T12:43:29.988Z"
   },
   {
    "duration": 6,
    "start_time": "2022-01-21T12:43:30.001Z"
   },
   {
    "duration": 6,
    "start_time": "2022-01-21T12:43:30.008Z"
   },
   {
    "duration": 10,
    "start_time": "2022-01-21T12:43:30.015Z"
   },
   {
    "duration": 10,
    "start_time": "2022-01-21T12:43:30.027Z"
   },
   {
    "duration": 18,
    "start_time": "2022-01-21T12:43:30.039Z"
   },
   {
    "duration": 20,
    "start_time": "2022-01-21T12:43:30.059Z"
   },
   {
    "duration": 8,
    "start_time": "2022-01-21T12:43:30.081Z"
   },
   {
    "duration": 10,
    "start_time": "2022-01-21T12:43:30.091Z"
   },
   {
    "duration": 1326,
    "start_time": "2022-01-21T15:44:17.787Z"
   },
   {
    "duration": 3,
    "start_time": "2022-01-21T15:44:19.115Z"
   },
   {
    "duration": 11,
    "start_time": "2022-01-21T15:44:19.120Z"
   },
   {
    "duration": 10,
    "start_time": "2022-01-21T15:44:19.133Z"
   },
   {
    "duration": 29,
    "start_time": "2022-01-21T15:44:19.145Z"
   },
   {
    "duration": 7,
    "start_time": "2022-01-21T15:44:19.175Z"
   },
   {
    "duration": 10,
    "start_time": "2022-01-21T15:44:19.184Z"
   },
   {
    "duration": 8,
    "start_time": "2022-01-21T15:44:19.196Z"
   },
   {
    "duration": 19,
    "start_time": "2022-01-21T15:44:19.206Z"
   },
   {
    "duration": 18,
    "start_time": "2022-01-21T15:44:19.227Z"
   },
   {
    "duration": 17,
    "start_time": "2022-01-21T15:44:19.246Z"
   },
   {
    "duration": 29,
    "start_time": "2022-01-21T15:44:19.265Z"
   },
   {
    "duration": 23,
    "start_time": "2022-01-21T15:44:19.296Z"
   },
   {
    "duration": 16,
    "start_time": "2022-01-21T15:44:19.322Z"
   },
   {
    "duration": 23,
    "start_time": "2022-01-21T15:44:19.340Z"
   },
   {
    "duration": 20,
    "start_time": "2022-01-21T15:44:19.365Z"
   },
   {
    "duration": 14,
    "start_time": "2022-01-21T15:44:19.387Z"
   },
   {
    "duration": 11,
    "start_time": "2022-01-21T15:44:19.402Z"
   },
   {
    "duration": 23,
    "start_time": "2022-01-21T15:44:19.415Z"
   },
   {
    "duration": 13,
    "start_time": "2022-01-21T15:44:19.440Z"
   },
   {
    "duration": 12,
    "start_time": "2022-01-21T15:44:19.455Z"
   },
   {
    "duration": 14,
    "start_time": "2022-01-21T15:44:19.468Z"
   },
   {
    "duration": 18,
    "start_time": "2022-01-21T15:44:19.487Z"
   },
   {
    "duration": 20,
    "start_time": "2022-01-21T15:44:19.507Z"
   },
   {
    "duration": 28,
    "start_time": "2022-01-21T15:44:19.529Z"
   },
   {
    "duration": 17,
    "start_time": "2022-01-21T15:44:19.559Z"
   },
   {
    "duration": 15,
    "start_time": "2022-01-21T15:44:19.578Z"
   },
   {
    "duration": 15,
    "start_time": "2022-01-21T15:44:19.595Z"
   },
   {
    "duration": 2,
    "start_time": "2022-01-21T15:44:19.612Z"
   },
   {
    "duration": 11,
    "start_time": "2022-01-21T15:44:19.616Z"
   },
   {
    "duration": 5,
    "start_time": "2022-01-21T15:44:19.629Z"
   },
   {
    "duration": 15,
    "start_time": "2022-01-21T15:44:19.636Z"
   },
   {
    "duration": 31,
    "start_time": "2022-01-21T15:44:19.653Z"
   },
   {
    "duration": 3,
    "start_time": "2022-01-21T15:44:19.685Z"
   },
   {
    "duration": 5,
    "start_time": "2022-01-21T15:44:19.691Z"
   },
   {
    "duration": 12,
    "start_time": "2022-01-21T15:44:19.699Z"
   },
   {
    "duration": 19,
    "start_time": "2022-01-21T15:44:19.713Z"
   },
   {
    "duration": 47,
    "start_time": "2022-01-21T15:44:19.734Z"
   },
   {
    "duration": 38,
    "start_time": "2022-01-21T15:44:19.784Z"
   },
   {
    "duration": 22,
    "start_time": "2022-01-21T15:44:19.824Z"
   },
   {
    "duration": 40,
    "start_time": "2022-01-21T15:44:19.848Z"
   },
   {
    "duration": 15,
    "start_time": "2022-01-21T15:44:19.890Z"
   },
   {
    "duration": 7,
    "start_time": "2022-01-21T15:44:19.907Z"
   },
   {
    "duration": 4,
    "start_time": "2022-01-21T15:44:19.916Z"
   },
   {
    "duration": 11,
    "start_time": "2022-01-21T15:44:19.922Z"
   },
   {
    "duration": 49,
    "start_time": "2022-01-21T15:44:19.934Z"
   },
   {
    "duration": 14,
    "start_time": "2022-01-21T15:44:19.985Z"
   },
   {
    "duration": 7,
    "start_time": "2022-01-21T15:44:20.001Z"
   },
   {
    "duration": 8,
    "start_time": "2022-01-21T15:44:20.010Z"
   },
   {
    "duration": 3,
    "start_time": "2022-01-21T15:44:20.020Z"
   },
   {
    "duration": 51,
    "start_time": "2022-01-21T15:44:20.025Z"
   },
   {
    "duration": 19,
    "start_time": "2022-01-21T15:44:20.078Z"
   },
   {
    "duration": 7,
    "start_time": "2022-01-21T15:44:20.099Z"
   },
   {
    "duration": 10,
    "start_time": "2022-01-21T15:44:20.107Z"
   },
   {
    "duration": 5,
    "start_time": "2022-01-21T15:44:20.119Z"
   },
   {
    "duration": 22,
    "start_time": "2022-01-21T15:44:20.126Z"
   },
   {
    "duration": 11,
    "start_time": "2022-01-21T15:44:20.172Z"
   },
   {
    "duration": 6,
    "start_time": "2022-01-21T15:44:20.184Z"
   },
   {
    "duration": 12,
    "start_time": "2022-01-21T15:44:20.192Z"
   },
   {
    "duration": 17,
    "start_time": "2022-01-21T15:44:20.205Z"
   },
   {
    "duration": 31,
    "start_time": "2022-01-21T15:44:20.223Z"
   },
   {
    "duration": 21,
    "start_time": "2022-01-21T15:44:20.256Z"
   },
   {
    "duration": 40,
    "start_time": "2022-01-21T15:44:20.279Z"
   },
   {
    "duration": 21,
    "start_time": "2022-01-21T15:44:20.322Z"
   },
   {
    "duration": 21,
    "start_time": "2022-01-21T15:44:20.344Z"
   },
   {
    "duration": 19,
    "start_time": "2022-01-21T15:44:20.366Z"
   },
   {
    "duration": 17,
    "start_time": "2022-01-21T15:44:20.387Z"
   },
   {
    "duration": 16,
    "start_time": "2022-01-21T15:44:20.409Z"
   },
   {
    "duration": 17,
    "start_time": "2022-01-21T15:44:20.427Z"
   },
   {
    "duration": 10,
    "start_time": "2022-01-21T15:44:20.446Z"
   },
   {
    "duration": 1226,
    "start_time": "2022-01-21T15:51:30.624Z"
   },
   {
    "duration": 409,
    "start_time": "2022-01-21T15:53:54.164Z"
   },
   {
    "duration": 8,
    "start_time": "2022-01-21T15:54:06.202Z"
   },
   {
    "duration": 8,
    "start_time": "2022-01-21T15:54:18.874Z"
   },
   {
    "duration": 298,
    "start_time": "2022-01-21T15:56:40.519Z"
   },
   {
    "duration": 4,
    "start_time": "2022-01-21T15:56:46.735Z"
   },
   {
    "duration": 11,
    "start_time": "2022-01-21T16:10:48.121Z"
   },
   {
    "duration": 8,
    "start_time": "2022-01-21T16:11:04.460Z"
   },
   {
    "duration": 9,
    "start_time": "2022-01-21T16:11:13.938Z"
   },
   {
    "duration": 2,
    "start_time": "2022-01-21T20:55:24.557Z"
   },
   {
    "duration": 3,
    "start_time": "2022-01-21T20:56:27.401Z"
   },
   {
    "duration": 1648,
    "start_time": "2022-01-21T20:57:15.357Z"
   },
   {
    "duration": 1698,
    "start_time": "2022-01-21T20:57:44.385Z"
   },
   {
    "duration": 8135,
    "start_time": "2022-01-21T20:59:51.559Z"
   },
   {
    "duration": 8,
    "start_time": "2022-01-21T21:00:19.178Z"
   },
   {
    "duration": 5,
    "start_time": "2022-01-21T21:05:21.482Z"
   },
   {
    "duration": 9,
    "start_time": "2022-01-21T21:10:05.672Z"
   },
   {
    "duration": 9,
    "start_time": "2022-01-21T21:11:24.693Z"
   },
   {
    "duration": 8,
    "start_time": "2022-01-21T21:16:50.689Z"
   },
   {
    "duration": 10,
    "start_time": "2022-01-21T21:17:01.824Z"
   },
   {
    "duration": 6,
    "start_time": "2022-01-21T21:22:43.816Z"
   },
   {
    "duration": 99,
    "start_time": "2022-01-21T21:22:55.287Z"
   },
   {
    "duration": 7,
    "start_time": "2022-01-21T21:23:02.395Z"
   },
   {
    "duration": 301,
    "start_time": "2022-01-21T21:28:38.522Z"
   },
   {
    "duration": 11,
    "start_time": "2022-01-21T21:28:47.163Z"
   },
   {
    "duration": 14,
    "start_time": "2022-01-21T21:29:18.604Z"
   },
   {
    "duration": 15,
    "start_time": "2022-01-21T21:29:42.978Z"
   },
   {
    "duration": 14,
    "start_time": "2022-01-21T21:30:23.348Z"
   },
   {
    "duration": 7,
    "start_time": "2022-01-21T21:41:42.676Z"
   },
   {
    "duration": 7,
    "start_time": "2022-01-21T21:43:18.647Z"
   },
   {
    "duration": 43,
    "start_time": "2022-01-21T21:43:39.446Z"
   },
   {
    "duration": 4,
    "start_time": "2022-01-21T21:43:39.491Z"
   },
   {
    "duration": 7,
    "start_time": "2022-01-21T21:43:39.499Z"
   },
   {
    "duration": 10,
    "start_time": "2022-01-21T21:43:39.520Z"
   },
   {
    "duration": 5,
    "start_time": "2022-01-21T21:43:39.543Z"
   },
   {
    "duration": 6,
    "start_time": "2022-01-21T21:43:39.569Z"
   },
   {
    "duration": 5,
    "start_time": "2022-01-21T21:43:39.595Z"
   },
   {
    "duration": 7,
    "start_time": "2022-01-21T21:43:39.624Z"
   },
   {
    "duration": 6,
    "start_time": "2022-01-21T21:43:39.638Z"
   },
   {
    "duration": 6,
    "start_time": "2022-01-21T21:43:39.681Z"
   },
   {
    "duration": 2,
    "start_time": "2022-01-21T21:43:39.704Z"
   },
   {
    "duration": 6,
    "start_time": "2022-01-21T21:43:39.738Z"
   },
   {
    "duration": 10,
    "start_time": "2022-01-21T21:43:39.753Z"
   },
   {
    "duration": 5,
    "start_time": "2022-01-21T21:43:39.773Z"
   },
   {
    "duration": 7,
    "start_time": "2022-01-21T21:43:39.801Z"
   },
   {
    "duration": 15,
    "start_time": "2022-01-21T21:43:39.822Z"
   },
   {
    "duration": 9,
    "start_time": "2022-01-21T21:43:58.084Z"
   },
   {
    "duration": 13,
    "start_time": "2022-01-21T21:44:27.125Z"
   },
   {
    "duration": 8,
    "start_time": "2022-01-21T21:45:37.791Z"
   },
   {
    "duration": 8,
    "start_time": "2022-01-21T21:45:44.698Z"
   },
   {
    "duration": 42,
    "start_time": "2022-01-21T22:38:44.099Z"
   },
   {
    "duration": 3,
    "start_time": "2022-01-21T22:38:44.143Z"
   },
   {
    "duration": 8,
    "start_time": "2022-01-21T22:38:44.148Z"
   },
   {
    "duration": 9,
    "start_time": "2022-01-21T22:38:44.172Z"
   },
   {
    "duration": 5,
    "start_time": "2022-01-21T22:38:44.253Z"
   },
   {
    "duration": 8,
    "start_time": "2022-01-21T22:38:44.260Z"
   },
   {
    "duration": 6,
    "start_time": "2022-01-21T22:38:44.316Z"
   },
   {
    "duration": 8,
    "start_time": "2022-01-21T22:38:44.367Z"
   },
   {
    "duration": 8,
    "start_time": "2022-01-21T22:38:44.376Z"
   },
   {
    "duration": 7,
    "start_time": "2022-01-21T22:38:44.444Z"
   },
   {
    "duration": 2,
    "start_time": "2022-01-21T22:38:44.512Z"
   },
   {
    "duration": 7,
    "start_time": "2022-01-21T22:38:44.586Z"
   },
   {
    "duration": 9,
    "start_time": "2022-01-21T22:38:44.611Z"
   },
   {
    "duration": 4,
    "start_time": "2022-01-21T22:38:44.660Z"
   },
   {
    "duration": 7,
    "start_time": "2022-01-21T22:38:44.697Z"
   },
   {
    "duration": 15,
    "start_time": "2022-01-21T22:38:44.750Z"
   },
   {
    "duration": 2,
    "start_time": "2022-01-21T22:38:44.790Z"
   },
   {
    "duration": 12,
    "start_time": "2022-01-21T22:38:44.838Z"
   },
   {
    "duration": 5,
    "start_time": "2022-01-21T22:38:44.879Z"
   },
   {
    "duration": 6,
    "start_time": "2022-01-21T22:38:44.902Z"
   },
   {
    "duration": 6,
    "start_time": "2022-01-21T22:38:44.977Z"
   },
   {
    "duration": 7,
    "start_time": "2022-01-21T22:38:45.023Z"
   },
   {
    "duration": 5,
    "start_time": "2022-01-21T22:38:45.057Z"
   },
   {
    "duration": 7,
    "start_time": "2022-01-21T22:38:45.093Z"
   },
   {
    "duration": 7,
    "start_time": "2022-01-21T22:38:45.128Z"
   },
   {
    "duration": 11,
    "start_time": "2022-01-21T22:38:45.148Z"
   },
   {
    "duration": 6,
    "start_time": "2022-01-21T22:38:45.177Z"
   },
   {
    "duration": 14,
    "start_time": "2022-01-21T22:38:45.213Z"
   },
   {
    "duration": 3,
    "start_time": "2022-01-21T22:38:45.235Z"
   },
   {
    "duration": 3,
    "start_time": "2022-01-21T22:38:45.275Z"
   },
   {
    "duration": 3,
    "start_time": "2022-01-21T22:38:45.292Z"
   },
   {
    "duration": 12,
    "start_time": "2022-01-21T22:38:45.305Z"
   },
   {
    "duration": 20,
    "start_time": "2022-01-21T22:38:45.334Z"
   },
   {
    "duration": 23,
    "start_time": "2022-01-21T22:38:45.361Z"
   },
   {
    "duration": 15,
    "start_time": "2022-01-21T22:38:45.385Z"
   },
   {
    "duration": 16,
    "start_time": "2022-01-21T22:38:45.401Z"
   },
   {
    "duration": 9,
    "start_time": "2022-01-21T22:38:45.432Z"
   },
   {
    "duration": 4,
    "start_time": "2022-01-21T22:38:45.449Z"
   },
   {
    "duration": 3,
    "start_time": "2022-01-21T22:38:45.462Z"
   },
   {
    "duration": 6,
    "start_time": "2022-01-21T22:38:45.512Z"
   },
   {
    "duration": 11,
    "start_time": "2022-01-21T22:38:45.548Z"
   },
   {
    "duration": 10,
    "start_time": "2022-01-21T22:38:45.561Z"
   },
   {
    "duration": 5,
    "start_time": "2022-01-21T22:38:45.573Z"
   },
   {
    "duration": 6,
    "start_time": "2022-01-21T22:38:45.580Z"
   },
   {
    "duration": 2,
    "start_time": "2022-01-21T22:38:45.588Z"
   },
   {
    "duration": 14,
    "start_time": "2022-01-21T22:38:45.599Z"
   },
   {
    "duration": 13,
    "start_time": "2022-01-21T22:38:45.621Z"
   },
   {
    "duration": 5,
    "start_time": "2022-01-21T22:38:45.636Z"
   },
   {
    "duration": 8,
    "start_time": "2022-01-21T22:38:45.649Z"
   },
   {
    "duration": 3,
    "start_time": "2022-01-21T22:38:45.678Z"
   },
   {
    "duration": 13,
    "start_time": "2022-01-21T22:38:45.689Z"
   },
   {
    "duration": 11,
    "start_time": "2022-01-21T22:38:45.705Z"
   },
   {
    "duration": 6,
    "start_time": "2022-01-21T22:38:45.724Z"
   },
   {
    "duration": 6,
    "start_time": "2022-01-21T22:38:45.742Z"
   },
   {
    "duration": 5,
    "start_time": "2022-01-21T22:38:45.758Z"
   },
   {
    "duration": 14,
    "start_time": "2022-01-21T22:38:45.783Z"
   },
   {
    "duration": 10,
    "start_time": "2022-01-21T22:38:45.798Z"
   },
   {
    "duration": 4,
    "start_time": "2022-01-21T22:38:45.825Z"
   },
   {
    "duration": 8,
    "start_time": "2022-01-21T22:38:45.840Z"
   },
   {
    "duration": 4,
    "start_time": "2022-01-21T22:38:45.856Z"
   },
   {
    "duration": 3,
    "start_time": "2022-01-21T22:38:45.876Z"
   },
   {
    "duration": 1661,
    "start_time": "2022-01-21T22:38:45.891Z"
   },
   {
    "duration": 7,
    "start_time": "2022-01-21T22:38:47.554Z"
   },
   {
    "duration": 16,
    "start_time": "2022-01-21T22:38:47.563Z"
   },
   {
    "duration": 12,
    "start_time": "2022-01-21T22:38:47.580Z"
   },
   {
    "duration": 11,
    "start_time": "2022-01-21T22:38:47.593Z"
   },
   {
    "duration": 17,
    "start_time": "2022-01-21T22:38:47.605Z"
   },
   {
    "duration": 43,
    "start_time": "2022-01-21T22:45:18.897Z"
   },
   {
    "duration": 3,
    "start_time": "2022-01-21T22:45:18.942Z"
   },
   {
    "duration": 9,
    "start_time": "2022-01-21T22:45:18.946Z"
   },
   {
    "duration": 9,
    "start_time": "2022-01-21T22:45:18.958Z"
   },
   {
    "duration": 5,
    "start_time": "2022-01-21T22:45:18.997Z"
   },
   {
    "duration": 6,
    "start_time": "2022-01-21T22:45:19.027Z"
   },
   {
    "duration": 5,
    "start_time": "2022-01-21T22:45:19.058Z"
   },
   {
    "duration": 7,
    "start_time": "2022-01-21T22:45:19.095Z"
   },
   {
    "duration": 7,
    "start_time": "2022-01-21T22:45:19.120Z"
   },
   {
    "duration": 7,
    "start_time": "2022-01-21T22:45:19.151Z"
   },
   {
    "duration": 3,
    "start_time": "2022-01-21T22:45:19.194Z"
   },
   {
    "duration": 7,
    "start_time": "2022-01-21T22:45:19.244Z"
   },
   {
    "duration": 9,
    "start_time": "2022-01-21T22:45:19.265Z"
   },
   {
    "duration": 5,
    "start_time": "2022-01-21T22:45:19.288Z"
   },
   {
    "duration": 8,
    "start_time": "2022-01-21T22:45:19.328Z"
   },
   {
    "duration": 17,
    "start_time": "2022-01-21T22:45:19.352Z"
   },
   {
    "duration": 2,
    "start_time": "2022-01-21T22:45:19.380Z"
   },
   {
    "duration": 14,
    "start_time": "2022-01-21T22:45:19.416Z"
   },
   {
    "duration": 6,
    "start_time": "2022-01-21T22:45:19.452Z"
   },
   {
    "duration": 7,
    "start_time": "2022-01-21T22:45:19.475Z"
   },
   {
    "duration": 6,
    "start_time": "2022-01-21T22:45:19.500Z"
   },
   {
    "duration": 8,
    "start_time": "2022-01-21T22:45:19.539Z"
   },
   {
    "duration": 6,
    "start_time": "2022-01-21T22:45:19.562Z"
   },
   {
    "duration": 7,
    "start_time": "2022-01-21T22:45:19.592Z"
   },
   {
    "duration": 7,
    "start_time": "2022-01-21T22:45:19.620Z"
   },
   {
    "duration": 12,
    "start_time": "2022-01-21T22:45:19.648Z"
   },
   {
    "duration": 7,
    "start_time": "2022-01-21T22:45:19.676Z"
   },
   {
    "duration": 15,
    "start_time": "2022-01-21T22:45:19.705Z"
   },
   {
    "duration": 3,
    "start_time": "2022-01-21T22:45:19.734Z"
   },
   {
    "duration": 4,
    "start_time": "2022-01-21T22:45:19.780Z"
   },
   {
    "duration": 3,
    "start_time": "2022-01-21T22:45:19.802Z"
   },
   {
    "duration": 13,
    "start_time": "2022-01-21T22:45:19.824Z"
   },
   {
    "duration": 20,
    "start_time": "2022-01-21T22:45:19.879Z"
   },
   {
    "duration": 23,
    "start_time": "2022-01-21T22:45:19.916Z"
   },
   {
    "duration": 14,
    "start_time": "2022-01-21T22:45:19.946Z"
   },
   {
    "duration": 15,
    "start_time": "2022-01-21T22:45:19.964Z"
   },
   {
    "duration": 10,
    "start_time": "2022-01-21T22:45:19.997Z"
   },
   {
    "duration": 5,
    "start_time": "2022-01-21T22:45:20.015Z"
   },
   {
    "duration": 4,
    "start_time": "2022-01-21T22:45:20.040Z"
   },
   {
    "duration": 6,
    "start_time": "2022-01-21T22:45:20.073Z"
   },
   {
    "duration": 11,
    "start_time": "2022-01-21T22:45:20.085Z"
   },
   {
    "duration": 10,
    "start_time": "2022-01-21T22:45:20.098Z"
   },
   {
    "duration": 5,
    "start_time": "2022-01-21T22:45:20.121Z"
   },
   {
    "duration": 6,
    "start_time": "2022-01-21T22:45:20.144Z"
   },
   {
    "duration": 2,
    "start_time": "2022-01-21T22:45:20.160Z"
   },
   {
    "duration": 14,
    "start_time": "2022-01-21T22:45:20.172Z"
   },
   {
    "duration": 13,
    "start_time": "2022-01-21T22:45:20.187Z"
   },
   {
    "duration": 6,
    "start_time": "2022-01-21T22:45:20.202Z"
   },
   {
    "duration": 6,
    "start_time": "2022-01-21T22:45:20.218Z"
   },
   {
    "duration": 4,
    "start_time": "2022-01-21T22:45:20.245Z"
   },
   {
    "duration": 16,
    "start_time": "2022-01-21T22:45:20.255Z"
   },
   {
    "duration": 11,
    "start_time": "2022-01-21T22:45:20.273Z"
   },
   {
    "duration": 6,
    "start_time": "2022-01-21T22:45:20.285Z"
   },
   {
    "duration": 7,
    "start_time": "2022-01-21T22:45:20.298Z"
   },
   {
    "duration": 3,
    "start_time": "2022-01-21T22:45:20.549Z"
   },
   {
    "duration": 13,
    "start_time": "2022-01-21T22:45:20.564Z"
   },
   {
    "duration": 10,
    "start_time": "2022-01-21T22:45:20.579Z"
   },
   {
    "duration": 4,
    "start_time": "2022-01-21T22:45:20.595Z"
   },
   {
    "duration": 8,
    "start_time": "2022-01-21T22:45:20.605Z"
   },
   {
    "duration": 4,
    "start_time": "2022-01-21T22:45:20.619Z"
   },
   {
    "duration": 3,
    "start_time": "2022-01-21T22:45:20.640Z"
   },
   {
    "duration": 1717,
    "start_time": "2022-01-21T22:45:20.654Z"
   },
   {
    "duration": 8,
    "start_time": "2022-01-21T22:45:22.373Z"
   },
   {
    "duration": 10,
    "start_time": "2022-01-21T22:45:22.383Z"
   },
   {
    "duration": 15,
    "start_time": "2022-01-21T22:45:22.394Z"
   },
   {
    "duration": 13,
    "start_time": "2022-01-21T22:45:22.410Z"
   },
   {
    "duration": 11,
    "start_time": "2022-01-21T22:45:22.425Z"
   },
   {
    "duration": 1608,
    "start_time": "2022-01-22T16:02:39.488Z"
   },
   {
    "duration": 5,
    "start_time": "2022-01-22T16:02:41.098Z"
   },
   {
    "duration": 20,
    "start_time": "2022-01-22T16:02:41.106Z"
   },
   {
    "duration": 24,
    "start_time": "2022-01-22T16:02:41.129Z"
   },
   {
    "duration": 20,
    "start_time": "2022-01-22T16:02:41.156Z"
   },
   {
    "duration": 11,
    "start_time": "2022-01-22T16:02:41.179Z"
   },
   {
    "duration": 37,
    "start_time": "2022-01-22T16:02:41.193Z"
   },
   {
    "duration": 13,
    "start_time": "2022-01-22T16:02:41.235Z"
   },
   {
    "duration": 19,
    "start_time": "2022-01-22T16:02:41.251Z"
   },
   {
    "duration": 10,
    "start_time": "2022-01-22T16:02:41.272Z"
   },
   {
    "duration": 39,
    "start_time": "2022-01-22T16:02:41.285Z"
   },
   {
    "duration": 14,
    "start_time": "2022-01-22T16:02:41.327Z"
   },
   {
    "duration": 17,
    "start_time": "2022-01-22T16:02:41.343Z"
   },
   {
    "duration": 6,
    "start_time": "2022-01-22T16:02:41.362Z"
   },
   {
    "duration": 9,
    "start_time": "2022-01-22T16:02:41.371Z"
   },
   {
    "duration": 65,
    "start_time": "2022-01-22T16:02:41.383Z"
   },
   {
    "duration": 3,
    "start_time": "2022-01-22T16:02:41.451Z"
   },
   {
    "duration": 29,
    "start_time": "2022-01-22T16:02:41.457Z"
   },
   {
    "duration": 37,
    "start_time": "2022-01-22T16:02:41.489Z"
   },
   {
    "duration": 13,
    "start_time": "2022-01-22T16:02:41.529Z"
   },
   {
    "duration": 9,
    "start_time": "2022-01-22T16:02:41.545Z"
   },
   {
    "duration": 12,
    "start_time": "2022-01-22T16:02:41.557Z"
   },
   {
    "duration": 48,
    "start_time": "2022-01-22T16:02:41.575Z"
   },
   {
    "duration": 9,
    "start_time": "2022-01-22T16:02:41.627Z"
   },
   {
    "duration": 14,
    "start_time": "2022-01-22T16:02:41.638Z"
   },
   {
    "duration": 39,
    "start_time": "2022-01-22T16:02:41.654Z"
   },
   {
    "duration": 16,
    "start_time": "2022-01-22T16:02:41.695Z"
   },
   {
    "duration": 37,
    "start_time": "2022-01-22T16:02:41.713Z"
   },
   {
    "duration": 3,
    "start_time": "2022-01-22T16:02:41.753Z"
   },
   {
    "duration": 16,
    "start_time": "2022-01-22T16:02:41.759Z"
   },
   {
    "duration": 13,
    "start_time": "2022-01-22T16:02:41.777Z"
   },
   {
    "duration": 35,
    "start_time": "2022-01-22T16:02:41.793Z"
   },
   {
    "duration": 34,
    "start_time": "2022-01-22T16:02:41.830Z"
   },
   {
    "duration": 36,
    "start_time": "2022-01-22T16:02:41.866Z"
   },
   {
    "duration": 23,
    "start_time": "2022-01-22T16:02:41.923Z"
   },
   {
    "duration": 23,
    "start_time": "2022-01-22T16:02:41.948Z"
   },
   {
    "duration": 50,
    "start_time": "2022-01-22T16:02:41.974Z"
   },
   {
    "duration": 8,
    "start_time": "2022-01-22T16:02:42.027Z"
   },
   {
    "duration": 8,
    "start_time": "2022-01-22T16:02:42.038Z"
   },
   {
    "duration": 15,
    "start_time": "2022-01-22T16:02:42.049Z"
   },
   {
    "duration": 29,
    "start_time": "2022-01-22T16:02:42.067Z"
   },
   {
    "duration": 16,
    "start_time": "2022-01-22T16:02:42.122Z"
   },
   {
    "duration": 12,
    "start_time": "2022-01-22T16:02:42.140Z"
   },
   {
    "duration": 18,
    "start_time": "2022-01-22T16:02:42.154Z"
   },
   {
    "duration": 9,
    "start_time": "2022-01-22T16:02:42.174Z"
   },
   {
    "duration": 45,
    "start_time": "2022-01-22T16:02:42.186Z"
   },
   {
    "duration": 20,
    "start_time": "2022-01-22T16:02:42.233Z"
   },
   {
    "duration": 9,
    "start_time": "2022-01-22T16:02:42.255Z"
   },
   {
    "duration": 19,
    "start_time": "2022-01-22T16:02:42.266Z"
   },
   {
    "duration": 16,
    "start_time": "2022-01-22T16:02:42.288Z"
   },
   {
    "duration": 19,
    "start_time": "2022-01-22T16:02:42.324Z"
   },
   {
    "duration": 21,
    "start_time": "2022-01-22T16:02:42.346Z"
   },
   {
    "duration": 8,
    "start_time": "2022-01-22T16:02:42.370Z"
   },
   {
    "duration": 12,
    "start_time": "2022-01-22T16:02:42.381Z"
   },
   {
    "duration": 4,
    "start_time": "2022-01-22T16:02:42.423Z"
   },
   {
    "duration": 26,
    "start_time": "2022-01-22T16:02:42.429Z"
   },
   {
    "duration": 15,
    "start_time": "2022-01-22T16:02:42.457Z"
   },
   {
    "duration": 8,
    "start_time": "2022-01-22T16:02:42.475Z"
   },
   {
    "duration": 2008,
    "start_time": "2022-01-22T16:02:42.486Z"
   },
   {
    "duration": 7,
    "start_time": "2022-01-22T16:02:44.497Z"
   },
   {
    "duration": 6,
    "start_time": "2022-01-22T16:02:44.523Z"
   },
   {
    "duration": 3192,
    "start_time": "2022-01-22T16:02:44.532Z"
   },
   {
    "duration": 10,
    "start_time": "2022-01-22T16:02:47.726Z"
   },
   {
    "duration": 14,
    "start_time": "2022-01-22T16:02:47.739Z"
   },
   {
    "duration": 18,
    "start_time": "2022-01-22T16:02:47.756Z"
   },
   {
    "duration": 59,
    "start_time": "2022-01-22T16:02:47.777Z"
   },
   {
    "duration": 18,
    "start_time": "2022-01-22T16:02:47.839Z"
   },
   {
    "duration": 5,
    "start_time": "2022-01-22T16:04:22.896Z"
   },
   {
    "duration": 19,
    "start_time": "2022-01-22T16:08:27.815Z"
   },
   {
    "duration": 301,
    "start_time": "2022-01-22T17:16:13.151Z"
   },
   {
    "duration": 1588,
    "start_time": "2022-01-22T17:16:20.044Z"
   },
   {
    "duration": 12,
    "start_time": "2022-01-22T17:16:21.635Z"
   },
   {
    "duration": 19,
    "start_time": "2022-01-22T17:16:21.650Z"
   },
   {
    "duration": 26,
    "start_time": "2022-01-22T17:16:21.672Z"
   },
   {
    "duration": 7,
    "start_time": "2022-01-22T17:16:21.701Z"
   },
   {
    "duration": 30,
    "start_time": "2022-01-22T17:16:21.711Z"
   },
   {
    "duration": 9,
    "start_time": "2022-01-22T17:16:21.744Z"
   },
   {
    "duration": 13,
    "start_time": "2022-01-22T17:16:21.756Z"
   },
   {
    "duration": 16,
    "start_time": "2022-01-22T17:16:21.772Z"
   },
   {
    "duration": 47,
    "start_time": "2022-01-22T17:16:21.790Z"
   },
   {
    "duration": 9,
    "start_time": "2022-01-22T17:16:21.840Z"
   },
   {
    "duration": 17,
    "start_time": "2022-01-22T17:16:21.852Z"
   },
   {
    "duration": 28,
    "start_time": "2022-01-22T17:16:21.872Z"
   },
   {
    "duration": 14,
    "start_time": "2022-01-22T17:16:21.902Z"
   },
   {
    "duration": 18,
    "start_time": "2022-01-22T17:16:21.919Z"
   },
   {
    "duration": 22,
    "start_time": "2022-01-22T17:16:21.940Z"
   },
   {
    "duration": 3,
    "start_time": "2022-01-22T17:16:21.964Z"
   },
   {
    "duration": 22,
    "start_time": "2022-01-22T17:16:21.969Z"
   },
   {
    "duration": 40,
    "start_time": "2022-01-22T17:16:21.993Z"
   },
   {
    "duration": 10,
    "start_time": "2022-01-22T17:16:22.035Z"
   },
   {
    "duration": 10,
    "start_time": "2022-01-22T17:16:22.047Z"
   },
   {
    "duration": 10,
    "start_time": "2022-01-22T17:16:22.059Z"
   },
   {
    "duration": 7,
    "start_time": "2022-01-22T17:16:22.075Z"
   },
   {
    "duration": 47,
    "start_time": "2022-01-22T17:16:22.086Z"
   },
   {
    "duration": 12,
    "start_time": "2022-01-22T17:16:22.136Z"
   },
   {
    "duration": 16,
    "start_time": "2022-01-22T17:16:22.150Z"
   },
   {
    "duration": 12,
    "start_time": "2022-01-22T17:16:22.169Z"
   },
   {
    "duration": 55,
    "start_time": "2022-01-22T17:16:22.183Z"
   },
   {
    "duration": 4,
    "start_time": "2022-01-22T17:16:22.241Z"
   },
   {
    "duration": 7,
    "start_time": "2022-01-22T17:16:22.247Z"
   },
   {
    "duration": 15,
    "start_time": "2022-01-22T17:16:22.256Z"
   },
   {
    "duration": 28,
    "start_time": "2022-01-22T17:16:22.273Z"
   },
   {
    "duration": 57,
    "start_time": "2022-01-22T17:16:22.303Z"
   },
   {
    "duration": 38,
    "start_time": "2022-01-22T17:16:22.362Z"
   },
   {
    "duration": 49,
    "start_time": "2022-01-22T17:16:22.402Z"
   },
   {
    "duration": 25,
    "start_time": "2022-01-22T17:16:22.453Z"
   },
   {
    "duration": 53,
    "start_time": "2022-01-22T17:16:22.480Z"
   },
   {
    "duration": 9,
    "start_time": "2022-01-22T17:16:22.535Z"
   },
   {
    "duration": 7,
    "start_time": "2022-01-22T17:16:22.546Z"
   },
   {
    "duration": 12,
    "start_time": "2022-01-22T17:16:22.555Z"
   },
   {
    "duration": 21,
    "start_time": "2022-01-22T17:16:22.569Z"
   },
   {
    "duration": 48,
    "start_time": "2022-01-22T17:16:22.592Z"
   },
   {
    "duration": 9,
    "start_time": "2022-01-22T17:16:22.642Z"
   },
   {
    "duration": 14,
    "start_time": "2022-01-22T17:16:22.654Z"
   },
   {
    "duration": 6,
    "start_time": "2022-01-22T17:16:22.670Z"
   },
   {
    "duration": 54,
    "start_time": "2022-01-22T17:16:22.678Z"
   },
   {
    "duration": 23,
    "start_time": "2022-01-22T17:16:22.735Z"
   },
   {
    "duration": 9,
    "start_time": "2022-01-22T17:16:22.760Z"
   },
   {
    "duration": 12,
    "start_time": "2022-01-22T17:16:22.771Z"
   },
   {
    "duration": 7,
    "start_time": "2022-01-22T17:16:22.786Z"
   },
   {
    "duration": 25,
    "start_time": "2022-01-22T17:16:22.833Z"
   },
   {
    "duration": 16,
    "start_time": "2022-01-22T17:16:22.860Z"
   },
   {
    "duration": 9,
    "start_time": "2022-01-22T17:16:22.878Z"
   },
   {
    "duration": 11,
    "start_time": "2022-01-22T17:16:22.889Z"
   },
   {
    "duration": 4,
    "start_time": "2022-01-22T17:16:22.933Z"
   },
   {
    "duration": 33,
    "start_time": "2022-01-22T17:16:22.939Z"
   },
   {
    "duration": 16,
    "start_time": "2022-01-22T17:16:22.974Z"
   },
   {
    "duration": 7,
    "start_time": "2022-01-22T17:16:22.992Z"
   },
   {
    "duration": 2072,
    "start_time": "2022-01-22T17:16:23.002Z"
   },
   {
    "duration": 7,
    "start_time": "2022-01-22T17:16:25.076Z"
   },
   {
    "duration": 8,
    "start_time": "2022-01-22T17:16:25.085Z"
   },
   {
    "duration": 3062,
    "start_time": "2022-01-22T17:16:25.095Z"
   },
   {
    "duration": 10,
    "start_time": "2022-01-22T17:16:28.159Z"
   },
   {
    "duration": 17,
    "start_time": "2022-01-22T17:16:28.171Z"
   },
   {
    "duration": 44,
    "start_time": "2022-01-22T17:16:28.190Z"
   },
   {
    "duration": 22,
    "start_time": "2022-01-22T17:16:28.237Z"
   },
   {
    "duration": 23,
    "start_time": "2022-01-22T17:16:28.262Z"
   },
   {
    "duration": 55,
    "start_time": "2022-01-22T17:22:13.380Z"
   },
   {
    "duration": 5,
    "start_time": "2022-01-22T17:22:13.438Z"
   },
   {
    "duration": 15,
    "start_time": "2022-01-22T17:22:13.446Z"
   },
   {
    "duration": 15,
    "start_time": "2022-01-22T17:22:13.463Z"
   },
   {
    "duration": 8,
    "start_time": "2022-01-22T17:22:13.481Z"
   },
   {
    "duration": 47,
    "start_time": "2022-01-22T17:22:13.492Z"
   },
   {
    "duration": 10,
    "start_time": "2022-01-22T17:22:13.542Z"
   },
   {
    "duration": 13,
    "start_time": "2022-01-22T17:22:13.554Z"
   },
   {
    "duration": 15,
    "start_time": "2022-01-22T17:22:13.570Z"
   },
   {
    "duration": 50,
    "start_time": "2022-01-22T17:22:13.588Z"
   },
   {
    "duration": 4,
    "start_time": "2022-01-22T17:22:13.642Z"
   },
   {
    "duration": 12,
    "start_time": "2022-01-22T17:22:13.649Z"
   },
   {
    "duration": 16,
    "start_time": "2022-01-22T17:22:13.664Z"
   },
   {
    "duration": 51,
    "start_time": "2022-01-22T17:22:13.683Z"
   },
   {
    "duration": 11,
    "start_time": "2022-01-22T17:22:13.736Z"
   },
   {
    "duration": 24,
    "start_time": "2022-01-22T17:22:13.751Z"
   },
   {
    "duration": 3,
    "start_time": "2022-01-22T17:22:13.777Z"
   },
   {
    "duration": 62,
    "start_time": "2022-01-22T17:22:13.783Z"
   },
   {
    "duration": 10,
    "start_time": "2022-01-22T17:22:13.848Z"
   },
   {
    "duration": 12,
    "start_time": "2022-01-22T17:22:13.861Z"
   },
   {
    "duration": 10,
    "start_time": "2022-01-22T17:22:13.876Z"
   },
   {
    "duration": 51,
    "start_time": "2022-01-22T17:22:13.889Z"
   },
   {
    "duration": 10,
    "start_time": "2022-01-22T17:22:13.942Z"
   },
   {
    "duration": 9,
    "start_time": "2022-01-22T17:22:19.845Z"
   },
   {
    "duration": 336,
    "start_time": "2022-01-22T17:22:42.896Z"
   },
   {
    "duration": 9,
    "start_time": "2022-01-22T17:24:01.720Z"
   },
   {
    "duration": 16,
    "start_time": "2022-01-22T17:25:04.146Z"
   },
   {
    "duration": 249,
    "start_time": "2022-01-22T17:33:47.015Z"
   },
   {
    "duration": 7,
    "start_time": "2022-01-22T17:37:22.494Z"
   },
   {
    "duration": 1015,
    "start_time": "2022-01-22T17:37:36.368Z"
   },
   {
    "duration": 7,
    "start_time": "2022-01-22T17:38:03.224Z"
   },
   {
    "duration": 10,
    "start_time": "2022-01-22T17:40:28.553Z"
   },
   {
    "duration": 257,
    "start_time": "2022-01-22T17:43:31.401Z"
   },
   {
    "duration": 250,
    "start_time": "2022-01-22T17:43:48.994Z"
   },
   {
    "duration": 275,
    "start_time": "2022-01-22T17:44:18.255Z"
   },
   {
    "duration": 255,
    "start_time": "2022-01-22T17:44:24.297Z"
   },
   {
    "duration": 266,
    "start_time": "2022-01-22T17:47:23.401Z"
   },
   {
    "duration": 296,
    "start_time": "2022-01-22T17:47:40.546Z"
   },
   {
    "duration": 253,
    "start_time": "2022-01-22T17:48:12.959Z"
   },
   {
    "duration": 251,
    "start_time": "2022-01-22T17:48:26.671Z"
   },
   {
    "duration": 55,
    "start_time": "2022-01-22T17:48:40.209Z"
   },
   {
    "duration": 4,
    "start_time": "2022-01-22T17:48:40.267Z"
   },
   {
    "duration": 22,
    "start_time": "2022-01-22T17:48:40.274Z"
   },
   {
    "duration": 16,
    "start_time": "2022-01-22T17:48:40.299Z"
   },
   {
    "duration": 7,
    "start_time": "2022-01-22T17:48:40.333Z"
   },
   {
    "duration": 9,
    "start_time": "2022-01-22T17:48:40.342Z"
   },
   {
    "duration": 8,
    "start_time": "2022-01-22T17:48:40.353Z"
   },
   {
    "duration": 12,
    "start_time": "2022-01-22T17:48:40.363Z"
   },
   {
    "duration": 55,
    "start_time": "2022-01-22T17:48:40.378Z"
   },
   {
    "duration": 9,
    "start_time": "2022-01-22T17:48:40.436Z"
   },
   {
    "duration": 6,
    "start_time": "2022-01-22T17:48:40.447Z"
   },
   {
    "duration": 15,
    "start_time": "2022-01-22T17:48:40.455Z"
   },
   {
    "duration": 16,
    "start_time": "2022-01-22T17:48:40.473Z"
   },
   {
    "duration": 43,
    "start_time": "2022-01-22T17:48:40.491Z"
   },
   {
    "duration": 12,
    "start_time": "2022-01-22T17:48:40.537Z"
   },
   {
    "duration": 23,
    "start_time": "2022-01-22T17:48:40.552Z"
   },
   {
    "duration": 3,
    "start_time": "2022-01-22T17:48:40.578Z"
   },
   {
    "duration": 64,
    "start_time": "2022-01-22T17:48:40.584Z"
   },
   {
    "duration": 9,
    "start_time": "2022-01-22T17:48:40.651Z"
   },
   {
    "duration": 10,
    "start_time": "2022-01-22T17:48:40.663Z"
   },
   {
    "duration": 11,
    "start_time": "2022-01-22T17:48:40.676Z"
   },
   {
    "duration": 50,
    "start_time": "2022-01-22T17:48:40.689Z"
   },
   {
    "duration": 9,
    "start_time": "2022-01-22T17:48:40.742Z"
   },
   {
    "duration": 10,
    "start_time": "2022-01-22T17:48:40.753Z"
   },
   {
    "duration": 12,
    "start_time": "2022-01-22T17:48:40.766Z"
   },
   {
    "duration": 63,
    "start_time": "2022-01-22T17:48:40.780Z"
   },
   {
    "duration": 8,
    "start_time": "2022-01-22T17:48:40.848Z"
   },
   {
    "duration": 23,
    "start_time": "2022-01-22T17:48:40.859Z"
   },
   {
    "duration": 4,
    "start_time": "2022-01-22T17:48:40.884Z"
   },
   {
    "duration": 6,
    "start_time": "2022-01-22T17:48:40.890Z"
   },
   {
    "duration": 38,
    "start_time": "2022-01-22T17:48:40.898Z"
   },
   {
    "duration": 22,
    "start_time": "2022-01-22T17:48:40.938Z"
   },
   {
    "duration": 34,
    "start_time": "2022-01-22T17:48:40.962Z"
   },
   {
    "duration": 73,
    "start_time": "2022-01-22T17:48:40.998Z"
   },
   {
    "duration": 22,
    "start_time": "2022-01-22T17:48:41.073Z"
   },
   {
    "duration": 54,
    "start_time": "2022-01-22T17:48:41.097Z"
   },
   {
    "duration": 16,
    "start_time": "2022-01-22T17:48:41.153Z"
   },
   {
    "duration": 7,
    "start_time": "2022-01-22T17:48:41.172Z"
   },
   {
    "duration": 9,
    "start_time": "2022-01-22T17:48:41.181Z"
   },
   {
    "duration": 45,
    "start_time": "2022-01-22T17:48:41.192Z"
   },
   {
    "duration": 20,
    "start_time": "2022-01-22T17:48:41.239Z"
   },
   {
    "duration": 8,
    "start_time": "2022-01-22T17:49:31.818Z"
   },
   {
    "duration": 11,
    "start_time": "2022-01-22T17:49:45.119Z"
   },
   {
    "duration": 9,
    "start_time": "2022-01-22T17:50:00.888Z"
   },
   {
    "duration": 966,
    "start_time": "2022-01-22T18:33:19.488Z"
   },
   {
    "duration": 935,
    "start_time": "2022-01-22T18:34:10.373Z"
   },
   {
    "duration": 6,
    "start_time": "2022-01-22T18:35:16.641Z"
   },
   {
    "duration": 8,
    "start_time": "2022-01-22T18:35:24.268Z"
   },
   {
    "duration": 10,
    "start_time": "2022-01-22T18:35:43.887Z"
   },
   {
    "duration": 9,
    "start_time": "2022-01-22T18:36:08.768Z"
   },
   {
    "duration": 55,
    "start_time": "2022-01-22T18:36:27.183Z"
   },
   {
    "duration": 5,
    "start_time": "2022-01-22T18:36:27.241Z"
   },
   {
    "duration": 15,
    "start_time": "2022-01-22T18:36:27.249Z"
   },
   {
    "duration": 14,
    "start_time": "2022-01-22T18:36:27.267Z"
   },
   {
    "duration": 7,
    "start_time": "2022-01-22T18:36:27.283Z"
   },
   {
    "duration": 10,
    "start_time": "2022-01-22T18:36:27.333Z"
   },
   {
    "duration": 9,
    "start_time": "2022-01-22T18:36:27.346Z"
   },
   {
    "duration": 13,
    "start_time": "2022-01-22T18:36:27.357Z"
   },
   {
    "duration": 10,
    "start_time": "2022-01-22T18:36:27.372Z"
   },
   {
    "duration": 56,
    "start_time": "2022-01-22T18:36:27.384Z"
   },
   {
    "duration": 4,
    "start_time": "2022-01-22T18:36:27.443Z"
   },
   {
    "duration": 14,
    "start_time": "2022-01-22T18:36:27.449Z"
   },
   {
    "duration": 14,
    "start_time": "2022-01-22T18:36:27.465Z"
   },
   {
    "duration": 9,
    "start_time": "2022-01-22T18:36:27.481Z"
   },
   {
    "duration": 45,
    "start_time": "2022-01-22T18:36:27.492Z"
   },
   {
    "duration": 22,
    "start_time": "2022-01-22T18:36:27.541Z"
   },
   {
    "duration": 2,
    "start_time": "2022-01-22T18:36:27.566Z"
   },
   {
    "duration": 19,
    "start_time": "2022-01-22T18:36:27.571Z"
   },
   {
    "duration": 45,
    "start_time": "2022-01-22T18:36:27.593Z"
   },
   {
    "duration": 10,
    "start_time": "2022-01-22T18:36:27.641Z"
   },
   {
    "duration": 9,
    "start_time": "2022-01-22T18:36:27.653Z"
   },
   {
    "duration": 9,
    "start_time": "2022-01-22T18:36:27.664Z"
   },
   {
    "duration": 7,
    "start_time": "2022-01-22T18:36:27.675Z"
   },
   {
    "duration": 10,
    "start_time": "2022-01-22T18:36:27.733Z"
   },
   {
    "duration": 9,
    "start_time": "2022-01-22T18:36:27.746Z"
   },
   {
    "duration": 15,
    "start_time": "2022-01-22T18:36:27.757Z"
   },
   {
    "duration": 9,
    "start_time": "2022-01-22T18:36:27.774Z"
   },
   {
    "duration": 23,
    "start_time": "2022-01-22T18:36:27.833Z"
   },
   {
    "duration": 4,
    "start_time": "2022-01-22T18:36:27.859Z"
   },
   {
    "duration": 4,
    "start_time": "2022-01-22T18:36:27.866Z"
   },
   {
    "duration": 7,
    "start_time": "2022-01-22T18:36:27.873Z"
   },
   {
    "duration": 60,
    "start_time": "2022-01-22T18:36:27.882Z"
   },
   {
    "duration": 34,
    "start_time": "2022-01-22T18:36:27.944Z"
   },
   {
    "duration": 74,
    "start_time": "2022-01-22T18:36:27.981Z"
   },
   {
    "duration": 23,
    "start_time": "2022-01-22T18:36:28.058Z"
   },
   {
    "duration": 51,
    "start_time": "2022-01-22T18:36:28.084Z"
   },
   {
    "duration": 19,
    "start_time": "2022-01-22T18:36:28.140Z"
   },
   {
    "duration": 9,
    "start_time": "2022-01-22T18:36:28.162Z"
   },
   {
    "duration": 7,
    "start_time": "2022-01-22T18:36:28.174Z"
   },
   {
    "duration": 54,
    "start_time": "2022-01-22T18:36:28.183Z"
   },
   {
    "duration": 19,
    "start_time": "2022-01-22T18:36:28.240Z"
   },
   {
    "duration": 9,
    "start_time": "2022-01-22T18:36:37.597Z"
   },
   {
    "duration": 12,
    "start_time": "2022-01-22T19:05:58.906Z"
   },
   {
    "duration": 13,
    "start_time": "2022-01-22T19:06:14.294Z"
   },
   {
    "duration": 11,
    "start_time": "2022-01-22T19:06:21.339Z"
   },
   {
    "duration": 11,
    "start_time": "2022-01-22T19:06:34.991Z"
   },
   {
    "duration": 12,
    "start_time": "2022-01-22T19:06:45.599Z"
   },
   {
    "duration": 1041,
    "start_time": "2022-01-22T19:08:30.339Z"
   },
   {
    "duration": 1041,
    "start_time": "2022-01-22T19:08:45.950Z"
   },
   {
    "duration": 90,
    "start_time": "2022-01-22T19:09:24.391Z"
   },
   {
    "duration": 296,
    "start_time": "2022-01-22T19:09:30.454Z"
   },
   {
    "duration": 1826,
    "start_time": "2022-01-22T19:10:07.134Z"
   },
   {
    "duration": 256,
    "start_time": "2022-01-22T19:10:47.700Z"
   },
   {
    "duration": 245,
    "start_time": "2022-01-22T19:10:56.175Z"
   },
   {
    "duration": 75,
    "start_time": "2022-01-22T19:11:22.065Z"
   },
   {
    "duration": 94,
    "start_time": "2022-01-22T19:11:30.923Z"
   },
   {
    "duration": 238,
    "start_time": "2022-01-22T19:11:37.030Z"
   },
   {
    "duration": 269,
    "start_time": "2022-01-22T19:12:05.886Z"
   },
   {
    "duration": 1787,
    "start_time": "2022-01-22T19:12:13.581Z"
   },
   {
    "duration": 239,
    "start_time": "2022-01-22T19:12:37.110Z"
   },
   {
    "duration": 253,
    "start_time": "2022-01-22T19:12:43.560Z"
   },
   {
    "duration": 11,
    "start_time": "2022-01-22T19:13:03.906Z"
   },
   {
    "duration": 14,
    "start_time": "2022-01-22T19:13:17.425Z"
   },
   {
    "duration": 1279,
    "start_time": "2022-01-23T12:14:46.769Z"
   },
   {
    "duration": 8,
    "start_time": "2022-01-23T12:14:48.050Z"
   },
   {
    "duration": 35,
    "start_time": "2022-01-23T12:14:48.061Z"
   },
   {
    "duration": 50,
    "start_time": "2022-01-23T12:14:48.099Z"
   },
   {
    "duration": 47,
    "start_time": "2022-01-23T12:14:48.151Z"
   },
   {
    "duration": 34,
    "start_time": "2022-01-23T12:14:48.201Z"
   },
   {
    "duration": 40,
    "start_time": "2022-01-23T12:14:48.237Z"
   },
   {
    "duration": 37,
    "start_time": "2022-01-23T12:14:48.281Z"
   },
   {
    "duration": 30,
    "start_time": "2022-01-23T12:14:48.321Z"
   },
   {
    "duration": 31,
    "start_time": "2022-01-23T12:14:48.354Z"
   },
   {
    "duration": 33,
    "start_time": "2022-01-23T12:14:48.387Z"
   },
   {
    "duration": 57,
    "start_time": "2022-01-23T12:14:48.422Z"
   },
   {
    "duration": 44,
    "start_time": "2022-01-23T12:14:48.481Z"
   },
   {
    "duration": 56,
    "start_time": "2022-01-23T12:14:48.527Z"
   },
   {
    "duration": 32,
    "start_time": "2022-01-23T12:14:48.585Z"
   },
   {
    "duration": 40,
    "start_time": "2022-01-23T12:14:48.619Z"
   },
   {
    "duration": 32,
    "start_time": "2022-01-23T12:14:48.661Z"
   },
   {
    "duration": 63,
    "start_time": "2022-01-23T12:14:48.695Z"
   },
   {
    "duration": 46,
    "start_time": "2022-01-23T12:14:48.760Z"
   },
   {
    "duration": 35,
    "start_time": "2022-01-23T12:14:48.808Z"
   },
   {
    "duration": 24,
    "start_time": "2022-01-23T12:14:48.845Z"
   },
   {
    "duration": 43,
    "start_time": "2022-01-23T12:14:48.870Z"
   },
   {
    "duration": 35,
    "start_time": "2022-01-23T12:14:48.916Z"
   },
   {
    "duration": 40,
    "start_time": "2022-01-23T12:14:48.954Z"
   },
   {
    "duration": 37,
    "start_time": "2022-01-23T12:14:48.997Z"
   },
   {
    "duration": 58,
    "start_time": "2022-01-23T12:14:49.036Z"
   },
   {
    "duration": 48,
    "start_time": "2022-01-23T12:14:49.096Z"
   },
   {
    "duration": 45,
    "start_time": "2022-01-23T12:14:49.146Z"
   },
   {
    "duration": 13,
    "start_time": "2022-01-23T12:14:49.193Z"
   },
   {
    "duration": 30,
    "start_time": "2022-01-23T12:14:49.208Z"
   },
   {
    "duration": 38,
    "start_time": "2022-01-23T12:14:49.239Z"
   },
   {
    "duration": 42,
    "start_time": "2022-01-23T12:14:49.279Z"
   },
   {
    "duration": 64,
    "start_time": "2022-01-23T12:14:49.322Z"
   },
   {
    "duration": 47,
    "start_time": "2022-01-23T12:14:49.387Z"
   },
   {
    "duration": 30,
    "start_time": "2022-01-23T12:14:49.436Z"
   },
   {
    "duration": 23,
    "start_time": "2022-01-23T12:14:49.468Z"
   },
   {
    "duration": 16,
    "start_time": "2022-01-23T12:14:49.493Z"
   },
   {
    "duration": 9,
    "start_time": "2022-01-23T12:14:49.511Z"
   },
   {
    "duration": 25,
    "start_time": "2022-01-23T12:14:49.521Z"
   },
   {
    "duration": 32,
    "start_time": "2022-01-23T12:14:49.548Z"
   },
   {
    "duration": 28,
    "start_time": "2022-01-23T12:14:49.582Z"
   },
   {
    "duration": 39,
    "start_time": "2022-01-23T12:14:49.612Z"
   },
   {
    "duration": 283,
    "start_time": "2022-01-23T12:15:33.059Z"
   },
   {
    "duration": 71,
    "start_time": "2022-01-23T12:15:54.585Z"
   },
   {
    "duration": 1263,
    "start_time": "2022-01-23T12:16:00.279Z"
   },
   {
    "duration": 1275,
    "start_time": "2022-01-23T12:16:28.147Z"
   },
   {
    "duration": 17,
    "start_time": "2022-01-23T12:19:06.028Z"
   },
   {
    "duration": 17,
    "start_time": "2022-01-23T12:19:28.738Z"
   },
   {
    "duration": 232,
    "start_time": "2022-01-23T12:19:38.835Z"
   },
   {
    "duration": 15,
    "start_time": "2022-01-23T12:20:13.364Z"
   },
   {
    "duration": 15,
    "start_time": "2022-01-23T12:20:37.699Z"
   },
   {
    "duration": 10,
    "start_time": "2022-01-23T12:20:49.940Z"
   },
   {
    "duration": 11,
    "start_time": "2022-01-23T12:21:05.011Z"
   },
   {
    "duration": 11,
    "start_time": "2022-01-23T12:23:05.541Z"
   },
   {
    "duration": 184,
    "start_time": "2022-01-23T12:23:13.843Z"
   },
   {
    "duration": 11,
    "start_time": "2022-01-23T12:23:20.384Z"
   },
   {
    "duration": 1474,
    "start_time": "2022-01-23T13:59:17.633Z"
   },
   {
    "duration": 12,
    "start_time": "2022-01-23T13:59:19.110Z"
   },
   {
    "duration": 12,
    "start_time": "2022-01-23T13:59:19.126Z"
   },
   {
    "duration": 19,
    "start_time": "2022-01-23T13:59:19.141Z"
   },
   {
    "duration": 7,
    "start_time": "2022-01-23T13:59:19.162Z"
   },
   {
    "duration": 8,
    "start_time": "2022-01-23T13:59:19.171Z"
   },
   {
    "duration": 7,
    "start_time": "2022-01-23T13:59:19.182Z"
   },
   {
    "duration": 12,
    "start_time": "2022-01-23T13:59:19.235Z"
   },
   {
    "duration": 11,
    "start_time": "2022-01-23T13:59:19.250Z"
   },
   {
    "duration": 8,
    "start_time": "2022-01-23T13:59:19.264Z"
   },
   {
    "duration": 8,
    "start_time": "2022-01-23T13:59:19.274Z"
   },
   {
    "duration": 50,
    "start_time": "2022-01-23T13:59:19.284Z"
   },
   {
    "duration": 14,
    "start_time": "2022-01-23T13:59:19.336Z"
   },
   {
    "duration": 6,
    "start_time": "2022-01-23T13:59:19.353Z"
   },
   {
    "duration": 9,
    "start_time": "2022-01-23T13:59:19.361Z"
   },
   {
    "duration": 22,
    "start_time": "2022-01-23T13:59:19.372Z"
   },
   {
    "duration": 3,
    "start_time": "2022-01-23T13:59:19.432Z"
   },
   {
    "duration": 30,
    "start_time": "2022-01-23T13:59:19.437Z"
   },
   {
    "duration": 13,
    "start_time": "2022-01-23T13:59:19.469Z"
   },
   {
    "duration": 11,
    "start_time": "2022-01-23T13:59:19.485Z"
   },
   {
    "duration": 8,
    "start_time": "2022-01-23T13:59:19.499Z"
   },
   {
    "duration": 7,
    "start_time": "2022-01-23T13:59:19.533Z"
   },
   {
    "duration": 7,
    "start_time": "2022-01-23T13:59:19.546Z"
   },
   {
    "duration": 12,
    "start_time": "2022-01-23T13:59:19.556Z"
   },
   {
    "duration": 12,
    "start_time": "2022-01-23T13:59:19.571Z"
   },
   {
    "duration": 57,
    "start_time": "2022-01-23T13:59:19.586Z"
   },
   {
    "duration": 8,
    "start_time": "2022-01-23T13:59:19.646Z"
   },
   {
    "duration": 26,
    "start_time": "2022-01-23T13:59:19.657Z"
   },
   {
    "duration": 5,
    "start_time": "2022-01-23T13:59:19.685Z"
   },
   {
    "duration": 4,
    "start_time": "2022-01-23T13:59:19.732Z"
   },
   {
    "duration": 6,
    "start_time": "2022-01-23T13:59:19.739Z"
   },
   {
    "duration": 19,
    "start_time": "2022-01-23T13:59:19.748Z"
   },
   {
    "duration": 35,
    "start_time": "2022-01-23T13:59:19.769Z"
   },
   {
    "duration": 34,
    "start_time": "2022-01-23T13:59:19.832Z"
   },
   {
    "duration": 24,
    "start_time": "2022-01-23T13:59:19.868Z"
   },
   {
    "duration": 53,
    "start_time": "2022-01-23T13:59:19.894Z"
   },
   {
    "duration": 17,
    "start_time": "2022-01-23T13:59:19.949Z"
   },
   {
    "duration": 7,
    "start_time": "2022-01-23T13:59:19.969Z"
   },
   {
    "duration": 6,
    "start_time": "2022-01-23T13:59:19.979Z"
   },
   {
    "duration": 11,
    "start_time": "2022-01-23T13:59:20.032Z"
   },
   {
    "duration": 21,
    "start_time": "2022-01-23T13:59:20.046Z"
   },
   {
    "duration": 15,
    "start_time": "2022-01-23T13:59:20.070Z"
   },
   {
    "duration": 49,
    "start_time": "2022-01-23T13:59:20.088Z"
   },
   {
    "duration": 10,
    "start_time": "2022-01-23T13:59:20.139Z"
   },
   {
    "duration": 8,
    "start_time": "2022-01-23T13:59:20.153Z"
   },
   {
    "duration": 6,
    "start_time": "2022-01-23T13:59:20.163Z"
   },
   {
    "duration": 70,
    "start_time": "2022-01-23T13:59:20.172Z"
   },
   {
    "duration": 20,
    "start_time": "2022-01-23T13:59:20.245Z"
   },
   {
    "duration": 9,
    "start_time": "2022-01-23T13:59:20.267Z"
   },
   {
    "duration": 12,
    "start_time": "2022-01-23T13:59:20.279Z"
   },
   {
    "duration": 40,
    "start_time": "2022-01-23T13:59:20.294Z"
   },
   {
    "duration": 22,
    "start_time": "2022-01-23T13:59:20.337Z"
   },
   {
    "duration": 15,
    "start_time": "2022-01-23T13:59:20.361Z"
   },
   {
    "duration": 8,
    "start_time": "2022-01-23T13:59:20.378Z"
   },
   {
    "duration": 48,
    "start_time": "2022-01-23T13:59:20.389Z"
   },
   {
    "duration": 6,
    "start_time": "2022-01-23T13:59:20.440Z"
   },
   {
    "duration": 25,
    "start_time": "2022-01-23T13:59:20.449Z"
   },
   {
    "duration": 17,
    "start_time": "2022-01-23T13:59:20.477Z"
   },
   {
    "duration": 42,
    "start_time": "2022-01-23T13:59:20.496Z"
   },
   {
    "duration": 2555,
    "start_time": "2022-01-23T13:59:20.541Z"
   },
   {
    "duration": 8,
    "start_time": "2022-01-23T13:59:23.099Z"
   },
   {
    "duration": 24,
    "start_time": "2022-01-23T13:59:23.110Z"
   },
   {
    "duration": 3296,
    "start_time": "2022-01-23T13:59:23.137Z"
   },
   {
    "duration": 11,
    "start_time": "2022-01-23T13:59:26.435Z"
   },
   {
    "duration": 15,
    "start_time": "2022-01-23T13:59:26.448Z"
   },
   {
    "duration": 20,
    "start_time": "2022-01-23T13:59:26.466Z"
   },
   {
    "duration": 62,
    "start_time": "2022-01-23T13:59:26.489Z"
   },
   {
    "duration": 18,
    "start_time": "2022-01-23T13:59:26.558Z"
   }
  ],
  "kernelspec": {
   "display_name": "Python 3 (ipykernel)",
   "language": "python",
   "name": "python3"
  },
  "language_info": {
   "codemirror_mode": {
    "name": "ipython",
    "version": 3
   },
   "file_extension": ".py",
   "mimetype": "text/x-python",
   "name": "python",
   "nbconvert_exporter": "python",
   "pygments_lexer": "ipython3",
   "version": "3.8.8"
  },
  "toc": {
   "base_numbering": 1,
   "nav_menu": {},
   "number_sections": true,
   "sideBar": true,
   "skip_h1_title": true,
   "title_cell": "Table of Contents",
   "title_sidebar": "Contents",
   "toc_cell": false,
   "toc_position": {
    "height": "calc(100% - 180px)",
    "left": "10px",
    "top": "150px",
    "width": "302.4px"
   },
   "toc_section_display": true,
   "toc_window_display": true
  }
 },
 "nbformat": 4,
 "nbformat_minor": 2
}
